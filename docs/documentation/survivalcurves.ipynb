{
 "cells": [
  {
   "cell_type": "markdown",
   "id": "e7b3cd08",
   "metadata": {},
   "source": [
    "# FHIR-Aggregator survival anaysis\n",
    "\n",
    "In this notebook we will show how to retrieve data from breast cancer patients in TCGA and compare the Kaplan-Meier curves of two cohorts.\n",
    "The cohorts are white and african american pateints that are 50 years or younger."
   ]
  },
  {
   "cell_type": "code",
   "execution_count": 1,
   "id": "9f6a0af4",
   "metadata": {},
   "outputs": [],
   "source": [
    "!pip install lifelines -q"
   ]
  },
  {
   "cell_type": "code",
   "execution_count": 2,
   "id": "49e02f66",
   "metadata": {},
   "outputs": [],
   "source": [
    "!pip install fhir-aggregator-client==0.1.8 --no-cache-dir --quiet"
   ]
  },
  {
   "cell_type": "markdown",
   "id": "2724b2a0",
   "metadata": {},
   "source": [
    "## Use FHIR-Aggregator to retrieve the necessary data"
   ]
  },
  {
   "cell_type": "markdown",
   "id": "811d5de9",
   "metadata": {},
   "source": [
    "### Export TCGA-BRCA data to a local database"
   ]
  },
  {
   "cell_type": "code",
   "execution_count": 3,
   "id": "426d6b92",
   "metadata": {},
   "outputs": [
    {
     "name": "stdout",
     "output_type": "stream",
     "text": [
      "env: FHIR_BASE=https://google-fhir.fhir-aggregator.org\n"
     ]
    },
    {
     "name": "stderr",
     "output_type": "stream",
     "text": [
      "warning: Database already exists at C:\\Users\\Parker.Gray\\.fhir-aggregator\\fhir-graph.sqlite and will be used. If this is not what you intended, please remove the existing database or provide a new path.\n",
      "patient-survival-graph is valid FHIR R5 GraphDefinition\n",
      "\n",
      "¡ Fetching https://google-fhir.fhir-aggregator.org/ResearchStudy?identifier=TCGA-BRCA\n",
      "\n",
      "Error: [SSL: CERTIFICATE_VERIFY_FAILED] certificate verify failed: Basic Constraints of CA cert not marked critical (_ssl.c:1028)\n",
      "\n"
     ]
    }
   ],
   "source": [
    "# run query against released data\n",
    "# !rm /root/.fhir-aggregator/fhir-graph.sqlite\n",
    "%env  FHIR_BASE=https://google-fhir.fhir-aggregator.org\n",
    "!fq run patient-survival-graph    /ResearchStudy?identifier=TCGA-BRCA"
   ]
  },
  {
   "cell_type": "markdown",
   "id": "28d7dac0",
   "metadata": {},
   "source": [
    "### Create a tsv file from the extracted data"
   ]
  },
  {
   "cell_type": "code",
   "execution_count": 4,
   "id": "7355f101",
   "metadata": {},
   "outputs": [
    {
     "name": "stderr",
     "output_type": "stream",
     "text": [
      "Saved fhir-graph.tsv\n"
     ]
    }
   ],
   "source": [
    "# The previous query included a Specimen,  the dataframe type defaults to Specimen\n",
    "# Since the optimized query only has Patient, we as for a Patient dataframe type\n",
    "# Note: default output is in the current directory and is a TSV\n",
    "!fq results dataframe Patient"
   ]
  },
  {
   "cell_type": "markdown",
   "id": "7acb68b7",
   "metadata": {},
   "source": [
    "## Surviving analysis\n",
    "\n",
    "After retrieveing the data, we then use the python library lifelines to plor Kaplan-Meier plots of two groups (white and african american) of Breat cancer patients that are 50 years old or younger."
   ]
  },
  {
   "cell_type": "code",
   "execution_count": 10,
   "id": "3187dee4",
   "metadata": {},
   "outputs": [
    {
     "ename": "EmptyDataError",
     "evalue": "No columns to parse from file",
     "output_type": "error",
     "traceback": [
      "\u001b[31m---------------------------------------------------------------------------\u001b[39m",
      "\u001b[31mEmptyDataError\u001b[39m                            Traceback (most recent call last)",
      "\u001b[36mCell\u001b[39m\u001b[36m \u001b[39m\u001b[32mIn[10]\u001b[39m\u001b[32m, line 9\u001b[39m\n\u001b[32m      5\u001b[39m kmf = KaplanMeierFitter()\n\u001b[32m      8\u001b[39m \u001b[38;5;66;03m# read the data into a dataframe\u001b[39;00m\n\u001b[32m----> \u001b[39m\u001b[32m9\u001b[39m df = \u001b[43mpd\u001b[49m\u001b[43m.\u001b[49m\u001b[43mread_csv\u001b[49m\u001b[43m(\u001b[49m\u001b[33;43m'\u001b[39;49m\u001b[33;43mfhir-graph.tsv\u001b[39;49m\u001b[33;43m'\u001b[39;49m\u001b[43m,\u001b[49m\u001b[43m \u001b[49m\u001b[43msep\u001b[49m\u001b[43m=\u001b[49m\u001b[33;43m'\u001b[39;49m\u001b[38;5;130;43;01m\\t\u001b[39;49;00m\u001b[33;43m'\u001b[39;49m\u001b[43m)\u001b[49m\n\u001b[32m     11\u001b[39m \u001b[38;5;66;03m# get days to death data in the necessary format\u001b[39;00m\n\u001b[32m     12\u001b[39m df[\u001b[33m'\u001b[39m\u001b[33mdays_to_death\u001b[39m\u001b[33m'\u001b[39m] = (\n\u001b[32m     13\u001b[39m     df[\u001b[33m'\u001b[39m\u001b[33mobservation_days_between_diagnosis_and_death\u001b[39m\u001b[33m'\u001b[39m]\n\u001b[32m     14\u001b[39m     .str.replace(\u001b[33m'\u001b[39m\u001b[33m days\u001b[39m\u001b[33m'\u001b[39m, \u001b[33m'\u001b[39m\u001b[33m'\u001b[39m, regex=\u001b[38;5;28;01mFalse\u001b[39;00m)\n\u001b[32m     15\u001b[39m     .replace(\u001b[33m'\u001b[39m\u001b[33m'\u001b[39m, np.nan)\n\u001b[32m     16\u001b[39m     .astype(\u001b[38;5;28mfloat\u001b[39m)\n\u001b[32m     17\u001b[39m )\n",
      "\u001b[36mFile \u001b[39m\u001b[32mc:\\Users\\Parker.Gray\\AppData\\Local\\Programs\\Python\\Python313\\Lib\\site-packages\\pandas\\io\\parsers\\readers.py:1026\u001b[39m, in \u001b[36mread_csv\u001b[39m\u001b[34m(filepath_or_buffer, sep, delimiter, header, names, index_col, usecols, dtype, engine, converters, true_values, false_values, skipinitialspace, skiprows, skipfooter, nrows, na_values, keep_default_na, na_filter, verbose, skip_blank_lines, parse_dates, infer_datetime_format, keep_date_col, date_parser, date_format, dayfirst, cache_dates, iterator, chunksize, compression, thousands, decimal, lineterminator, quotechar, quoting, doublequote, escapechar, comment, encoding, encoding_errors, dialect, on_bad_lines, delim_whitespace, low_memory, memory_map, float_precision, storage_options, dtype_backend)\u001b[39m\n\u001b[32m   1013\u001b[39m kwds_defaults = _refine_defaults_read(\n\u001b[32m   1014\u001b[39m     dialect,\n\u001b[32m   1015\u001b[39m     delimiter,\n\u001b[32m   (...)\u001b[39m\u001b[32m   1022\u001b[39m     dtype_backend=dtype_backend,\n\u001b[32m   1023\u001b[39m )\n\u001b[32m   1024\u001b[39m kwds.update(kwds_defaults)\n\u001b[32m-> \u001b[39m\u001b[32m1026\u001b[39m \u001b[38;5;28;01mreturn\u001b[39;00m \u001b[43m_read\u001b[49m\u001b[43m(\u001b[49m\u001b[43mfilepath_or_buffer\u001b[49m\u001b[43m,\u001b[49m\u001b[43m \u001b[49m\u001b[43mkwds\u001b[49m\u001b[43m)\u001b[49m\n",
      "\u001b[36mFile \u001b[39m\u001b[32mc:\\Users\\Parker.Gray\\AppData\\Local\\Programs\\Python\\Python313\\Lib\\site-packages\\pandas\\io\\parsers\\readers.py:620\u001b[39m, in \u001b[36m_read\u001b[39m\u001b[34m(filepath_or_buffer, kwds)\u001b[39m\n\u001b[32m    617\u001b[39m _validate_names(kwds.get(\u001b[33m\"\u001b[39m\u001b[33mnames\u001b[39m\u001b[33m\"\u001b[39m, \u001b[38;5;28;01mNone\u001b[39;00m))\n\u001b[32m    619\u001b[39m \u001b[38;5;66;03m# Create the parser.\u001b[39;00m\n\u001b[32m--> \u001b[39m\u001b[32m620\u001b[39m parser = \u001b[43mTextFileReader\u001b[49m\u001b[43m(\u001b[49m\u001b[43mfilepath_or_buffer\u001b[49m\u001b[43m,\u001b[49m\u001b[43m \u001b[49m\u001b[43m*\u001b[49m\u001b[43m*\u001b[49m\u001b[43mkwds\u001b[49m\u001b[43m)\u001b[49m\n\u001b[32m    622\u001b[39m \u001b[38;5;28;01mif\u001b[39;00m chunksize \u001b[38;5;129;01mor\u001b[39;00m iterator:\n\u001b[32m    623\u001b[39m     \u001b[38;5;28;01mreturn\u001b[39;00m parser\n",
      "\u001b[36mFile \u001b[39m\u001b[32mc:\\Users\\Parker.Gray\\AppData\\Local\\Programs\\Python\\Python313\\Lib\\site-packages\\pandas\\io\\parsers\\readers.py:1620\u001b[39m, in \u001b[36mTextFileReader.__init__\u001b[39m\u001b[34m(self, f, engine, **kwds)\u001b[39m\n\u001b[32m   1617\u001b[39m     \u001b[38;5;28mself\u001b[39m.options[\u001b[33m\"\u001b[39m\u001b[33mhas_index_names\u001b[39m\u001b[33m\"\u001b[39m] = kwds[\u001b[33m\"\u001b[39m\u001b[33mhas_index_names\u001b[39m\u001b[33m\"\u001b[39m]\n\u001b[32m   1619\u001b[39m \u001b[38;5;28mself\u001b[39m.handles: IOHandles | \u001b[38;5;28;01mNone\u001b[39;00m = \u001b[38;5;28;01mNone\u001b[39;00m\n\u001b[32m-> \u001b[39m\u001b[32m1620\u001b[39m \u001b[38;5;28mself\u001b[39m._engine = \u001b[38;5;28;43mself\u001b[39;49m\u001b[43m.\u001b[49m\u001b[43m_make_engine\u001b[49m\u001b[43m(\u001b[49m\u001b[43mf\u001b[49m\u001b[43m,\u001b[49m\u001b[43m \u001b[49m\u001b[38;5;28;43mself\u001b[39;49m\u001b[43m.\u001b[49m\u001b[43mengine\u001b[49m\u001b[43m)\u001b[49m\n",
      "\u001b[36mFile \u001b[39m\u001b[32mc:\\Users\\Parker.Gray\\AppData\\Local\\Programs\\Python\\Python313\\Lib\\site-packages\\pandas\\io\\parsers\\readers.py:1898\u001b[39m, in \u001b[36mTextFileReader._make_engine\u001b[39m\u001b[34m(self, f, engine)\u001b[39m\n\u001b[32m   1895\u001b[39m     \u001b[38;5;28;01mraise\u001b[39;00m \u001b[38;5;167;01mValueError\u001b[39;00m(msg)\n\u001b[32m   1897\u001b[39m \u001b[38;5;28;01mtry\u001b[39;00m:\n\u001b[32m-> \u001b[39m\u001b[32m1898\u001b[39m     \u001b[38;5;28;01mreturn\u001b[39;00m \u001b[43mmapping\u001b[49m\u001b[43m[\u001b[49m\u001b[43mengine\u001b[49m\u001b[43m]\u001b[49m\u001b[43m(\u001b[49m\u001b[43mf\u001b[49m\u001b[43m,\u001b[49m\u001b[43m \u001b[49m\u001b[43m*\u001b[49m\u001b[43m*\u001b[49m\u001b[38;5;28;43mself\u001b[39;49m\u001b[43m.\u001b[49m\u001b[43moptions\u001b[49m\u001b[43m)\u001b[49m\n\u001b[32m   1899\u001b[39m \u001b[38;5;28;01mexcept\u001b[39;00m \u001b[38;5;167;01mException\u001b[39;00m:\n\u001b[32m   1900\u001b[39m     \u001b[38;5;28;01mif\u001b[39;00m \u001b[38;5;28mself\u001b[39m.handles \u001b[38;5;129;01mis\u001b[39;00m \u001b[38;5;129;01mnot\u001b[39;00m \u001b[38;5;28;01mNone\u001b[39;00m:\n",
      "\u001b[36mFile \u001b[39m\u001b[32mc:\\Users\\Parker.Gray\\AppData\\Local\\Programs\\Python\\Python313\\Lib\\site-packages\\pandas\\io\\parsers\\c_parser_wrapper.py:93\u001b[39m, in \u001b[36mCParserWrapper.__init__\u001b[39m\u001b[34m(self, src, **kwds)\u001b[39m\n\u001b[32m     90\u001b[39m \u001b[38;5;28;01mif\u001b[39;00m kwds[\u001b[33m\"\u001b[39m\u001b[33mdtype_backend\u001b[39m\u001b[33m\"\u001b[39m] == \u001b[33m\"\u001b[39m\u001b[33mpyarrow\u001b[39m\u001b[33m\"\u001b[39m:\n\u001b[32m     91\u001b[39m     \u001b[38;5;66;03m# Fail here loudly instead of in cython after reading\u001b[39;00m\n\u001b[32m     92\u001b[39m     import_optional_dependency(\u001b[33m\"\u001b[39m\u001b[33mpyarrow\u001b[39m\u001b[33m\"\u001b[39m)\n\u001b[32m---> \u001b[39m\u001b[32m93\u001b[39m \u001b[38;5;28mself\u001b[39m._reader = \u001b[43mparsers\u001b[49m\u001b[43m.\u001b[49m\u001b[43mTextReader\u001b[49m\u001b[43m(\u001b[49m\u001b[43msrc\u001b[49m\u001b[43m,\u001b[49m\u001b[43m \u001b[49m\u001b[43m*\u001b[49m\u001b[43m*\u001b[49m\u001b[43mkwds\u001b[49m\u001b[43m)\u001b[49m\n\u001b[32m     95\u001b[39m \u001b[38;5;28mself\u001b[39m.unnamed_cols = \u001b[38;5;28mself\u001b[39m._reader.unnamed_cols\n\u001b[32m     97\u001b[39m \u001b[38;5;66;03m# error: Cannot determine type of 'names'\u001b[39;00m\n",
      "\u001b[36mFile \u001b[39m\u001b[32mparsers.pyx:581\u001b[39m, in \u001b[36mpandas._libs.parsers.TextReader.__cinit__\u001b[39m\u001b[34m()\u001b[39m\n",
      "\u001b[31mEmptyDataError\u001b[39m: No columns to parse from file"
     ]
    }
   ],
   "source": [
    "import pandas as pd\n",
    "import numpy as np\n",
    "import matplotlib.pyplot as plt\n",
    "from lifelines import KaplanMeierFitter\n",
    "kmf = KaplanMeierFitter()\n",
    "\n",
    "\n",
    "# read the data into a dataframe\n",
    "df = pd.read_csv('fhir-graph.tsv', sep='\\t')\n",
    "\n",
    "# get days to death data in the necessary format\n",
    "df['days_to_death'] = (\n",
    "    df['observation_days_between_diagnosis_and_death']\n",
    "    .str.replace(' days', '', regex=False)\n",
    "    .replace('', np.nan)\n",
    "    .astype(float)\n",
    ")\n",
    "# get age data in the necessary format\n",
    "df['age_at_diagnosis'] = (\n",
    "    df['observation_days_between_birth_and_diagnosis']\n",
    "    .str.replace(' days', '', regex=False)\n",
    "    .replace('', np.nan)\n",
    "    .astype(float)\n",
    ")\n",
    "\n",
    "# group by patient_id\n",
    "df_unique = df.drop_duplicates(subset=['patient_id'])"
   ]
  },
  {
   "cell_type": "markdown",
   "id": "ee65b57f",
   "metadata": {},
   "source": [
    "Select Breast cancer patients that are white, african american, and 50 years old or younger."
   ]
  },
  {
   "cell_type": "code",
   "execution_count": null,
   "id": "2659a6ec",
   "metadata": {},
   "outputs": [],
   "source": [
    "df_cohort = df_unique[ (df_unique['age_at_diagnosis'] >= -50*365 )\n",
    "                      & (df_unique['patient_us_core_race'].isin(['black or african american','white']) )\n",
    "                      & (df_unique['patient_us_core_ethnicity'] == 'not hispanic or latino')   ]"
   ]
  },
  {
   "cell_type": "markdown",
   "id": "e4c8deb6",
   "metadata": {},
   "source": [
    "Get the necessary data for [`lifelines` package](lifelines.readthedocs.io)."
   ]
  },
  {
   "cell_type": "code",
   "execution_count": null,
   "id": "21bf0ffd",
   "metadata": {},
   "outputs": [],
   "source": [
    "# Fill in NAs in days_to_death with the max from the days to death\n",
    "T = df_cohort['days_to_death'].fillna(df_cohort['days_to_death'].max())\n",
    "\n",
    "# Convert the vital status to numbers\n",
    "E = df_cohort['patient_deceasedBoolean'].astype(bool)"
   ]
  },
  {
   "cell_type": "markdown",
   "id": "6c5e73ed",
   "metadata": {},
   "source": [
    "Plot the survival curves"
   ]
  },
  {
   "cell_type": "code",
   "execution_count": null,
   "id": "e63b4285",
   "metadata": {},
   "outputs": [],
   "source": [
    "fig=plt.figure(figsize=(13, 8), dpi= 80)\n",
    "#plt.style.use('seaborn-colorblind')\n",
    "ax = plt.subplot(111,\n",
    "                 title = \"Survival Curve\")\n",
    "\n",
    "for r in  df_cohort['patient_us_core_race'].sort_values().unique() :\n",
    "  if (r != None):\n",
    "    cohort = df_cohort['patient_us_core_race'] == r\n",
    "    kmf.fit(T.loc[cohort], E.loc[cohort], label=r)\n",
    "    kmf.plot(ax=ax, )\n",
    "  else:\n",
    "    print(\"\")\n",
    "\n",
    "ax.set_ylabel(\"Percent Survival\")\n",
    "ax.set_xlabel(\"Days\")"
   ]
  }
 ],
 "metadata": {
  "kernelspec": {
   "display_name": "Python 3 (ipykernel)",
   "language": "python",
   "name": "python3"
  },
  "language_info": {
   "codemirror_mode": {
    "name": "ipython",
    "version": 3
   },
   "file_extension": ".py",
   "mimetype": "text/x-python",
   "name": "python",
   "nbconvert_exporter": "python",
   "pygments_lexer": "ipython3",
   "version": "3.13.2"
  }
 },
 "nbformat": 4,
 "nbformat_minor": 5
}
