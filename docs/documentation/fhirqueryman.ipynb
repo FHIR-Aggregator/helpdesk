{
 "cells": [
  {
   "cell_type": "markdown",
   "metadata": {},
   "source": [
    "# fhir-query man page"
   ]
  },
  {
   "cell_type": "markdown",
   "metadata": {},
   "source": [
    "FHIR-Aggregator is a command line package. The following commands are all shown an ipython notebook.\n",
    "- to run commands in python you will need to use export the `fq` command to the terminal using the `os` package:\n",
    "   ```python\n",
    "      import os\n",
    "      os.system('fq --help')\n",
    "   ```\n",
    "- to run commands on the command line do not add the `!`, as in:\n",
    "`fq --help`"
   ]
  },
  {
   "cell_type": "markdown",
   "metadata": {},
   "source": [
    "To see help pages while you work type:\n",
    "\n",
    "```\n",
    "!function --help\n",
    "```\n",
    "\n",
    "example:\n",
    "\n",
    "```\n",
    "!fq main --help\n",
    "```"
   ]
  },
  {
   "cell_type": "markdown",
   "metadata": {},
   "source": [
    "## Install `fhir-query`"
   ]
  },
  {
   "cell_type": "markdown",
   "metadata": {},
   "source": [
    "`pip install fhir-aggregator-client`"
   ]
  },
  {
   "cell_type": "markdown",
   "metadata": {},
   "source": [
    "## URL for FHIR-Aggregator server"
   ]
  },
  {
   "cell_type": "markdown",
   "metadata": {},
   "source": [
    "`%env FHIR_BASE=https://google-fhir.fhir-aggregator.org`"
   ]
  },
  {
   "cell_type": "markdown",
   "metadata": {},
   "source": [
    "## Get a tsv of all FHIR-Aggregator vocabulary"
   ]
  },
  {
   "cell_type": "markdown",
   "metadata": {},
   "source": [
    "`!fq vocabulary vocabulary.tsv --fhir-base-url $FHIR_BASE`"
   ]
  },
  {
   "cell_type": "markdown",
   "metadata": {},
   "source": [
    "## fq options"
   ]
  },
  {
   "cell_type": "code",
   "execution_count": 1,
   "metadata": {},
   "outputs": [
    {
     "name": "stdout",
     "output_type": "stream",
     "text": [
      "The history saving thread hit an unexpected error (OperationalError('attempt to write a readonly database')).History will not be written to the database.\n",
      "\u001b[0mUsage: fq [OPTIONS] COMMAND [ARGS]...\n",
      "\n",
      "  Run FHIR GraphDefinition traversal.\n",
      "\n",
      "Options:\n",
      "  --help  Show this message and exit.\n",
      "\n",
      "Commands:\n",
      "  main*       Run FHIR GraphDefinition traversal.\n",
      "  dataframe   Create dataframes from the local db.\n",
      "  summarize   Summarize the aggregation results.\n",
      "  visualize   Visualize the aggregation results.\n",
      "  vocabulary  Retrieve Vocabulary Observation and ResearchStudy resources...\n",
      "\u001b[0m\u001b[0m"
     ]
    }
   ],
   "source": [
    "!fq --help"
   ]
  },
  {
   "cell_type": "markdown",
   "metadata": {},
   "source": [
    "## fq main options"
   ]
  },
  {
   "cell_type": "code",
   "execution_count": 2,
   "metadata": {},
   "outputs": [
    {
     "name": "stdout",
     "output_type": "stream",
     "text": [
      "\u001b[0mUsage: fq main [OPTIONS]\n",
      "\n",
      "  Run FHIR GraphDefinition traversal.\n",
      "\n",
      "Options:\n",
      "  --fhir-base-url TEXT            Base URL of the FHIR server.  [required]\n",
      "  --graph-definition-id TEXT      ID of the GraphDefinition.\n",
      "  --graph-definition-file-path TEXT\n",
      "                                  Path to the GraphDefinition JSON file.\n",
      "  --path TEXT                     Query to start traversal.\n",
      "  --db-path TEXT                  path to of sqlite db\n",
      "  --dry-run                       Perform a dry run without making any\n",
      "                                  changes.\n",
      "  --debug                         Enable debug mode.\n",
      "  --log-file TEXT                 Path to the log file.\n",
      "  --help                          Show this message and exit.\n",
      "\u001b[0m\u001b[0m"
     ]
    }
   ],
   "source": [
    "!fq main --help"
   ]
  },
  {
   "cell_type": "markdown",
   "metadata": {},
   "source": [
    "## fq dataframe options"
   ]
  },
  {
   "cell_type": "code",
   "execution_count": 3,
   "metadata": {},
   "outputs": [
    {
     "name": "stdout",
     "output_type": "stream",
     "text": [
      "\u001b[0mUsage: fq dataframe [OPTIONS]\n",
      "                    {Specimen|DocumentReference|ResearchSubject|Patient}\n",
      "\n",
      "  Create dataframes from the local db.\n",
      "\n",
      "Options:\n",
      "  --db-path TEXT      path to sqlite db\n",
      "  --output-path TEXT  path output tsv\n",
      "  --dtale             Open the graph in a browser using the dtale package for\n",
      "                      interactive data exploration.\n",
      "  --help              Show this message and exit.\n",
      "\u001b[0m\u001b[0m"
     ]
    }
   ],
   "source": [
    "!fq dataframe --help"
   ]
  },
  {
   "cell_type": "markdown",
   "metadata": {},
   "source": [
    "## fq sumarize options"
   ]
  },
  {
   "cell_type": "code",
   "execution_count": 4,
   "metadata": {},
   "outputs": [
    {
     "name": "stdout",
     "output_type": "stream",
     "text": [
      "\u001b[0mUsage: fq summarize [OPTIONS]\n",
      "\n",
      "  Summarize the aggregation results.\n",
      "\n",
      "Options:\n",
      "  --db-path TEXT  path to sqlite db\n",
      "  --help          Show this message and exit.\n",
      "\u001b[0m\u001b[0m"
     ]
    }
   ],
   "source": [
    "!fq summarize --help"
   ]
  },
  {
   "cell_type": "markdown",
   "metadata": {},
   "source": [
    "## fq visualize options"
   ]
  },
  {
   "cell_type": "code",
   "execution_count": 5,
   "metadata": {},
   "outputs": [
    {
     "name": "stdout",
     "output_type": "stream",
     "text": [
      "\u001b[0mUsage: fq visualize [OPTIONS]\n",
      "\n",
      "  Visualize the aggregation results.\n",
      "\n",
      "Options:\n",
      "  --db-path TEXT            path to sqlite db\n",
      "  --output-path TEXT        path output html\n",
      "  -i, --ignored-edges TEXT  Edges to ignore in the visualization\n",
      "  --help                    Show this message and exit.\n",
      "\u001b[0m\u001b[0m"
     ]
    }
   ],
   "source": [
    "!fq visualize --help"
   ]
  },
  {
   "cell_type": "markdown",
   "metadata": {},
   "source": [
    "## fq vocabulary options"
   ]
  },
  {
   "cell_type": "code",
   "execution_count": 6,
   "metadata": {},
   "outputs": [
    {
     "name": "stdout",
     "output_type": "stream",
     "text": [
      "\u001b[0mUsage: fq vocabulary [OPTIONS] [OUTPUT_PATH]\n",
      "\n",
      "  Retrieve Vocabulary Observation and ResearchStudy resources from the FHIR\n",
      "  server.\n",
      "\n",
      "  OUTPUT_PATH: Path to the output file. If not provided, the output will be\n",
      "  printed to stdout.\n",
      "\n",
      "Options:\n",
      "  --fhir-base-url TEXT  Base URL of the FHIR server.  [required]\n",
      "  --raw                 Do not create a dataframe. default=False\n",
      "  --tsv                 Render dataframe as tsv. default=True\n",
      "  --debug               Enable debug mode.\n",
      "  --log-file TEXT       Path to the log file. default=\"./fq.log\"\n",
      "  --help                Show this message and exit.\n",
      "\u001b[0m\u001b[0m"
     ]
    }
   ],
   "source": [
    "!fq vocabulary --help"
   ]
  }
 ],
 "metadata": {
  "kernelspec": {
   "display_name": "Python 3 (ipykernel)",
   "language": "python",
   "name": "python3"
  },
  "language_info": {
   "codemirror_mode": {
    "name": "ipython",
    "version": 3
   },
   "file_extension": ".py",
   "mimetype": "text/x-python",
   "name": "python",
   "nbconvert_exporter": "python",
   "pygments_lexer": "ipython3",
   "version": "3.13.2"
  }
 },
 "nbformat": 4,
 "nbformat_minor": 4
}
