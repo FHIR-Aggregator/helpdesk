{
 "cells": [
  {
   "cell_type": "markdown",
   "metadata": {},
   "source": [
    "# fhir-query man page"
   ]
  },
  {
   "cell_type": "markdown",
   "metadata": {},
   "source": [
    "FHIR-Aggregator is a command line package. The following commands are all shown an ipython notebook.\n",
    "- to run commands in python you will need to use export the `fq` command to the terminal using the `os` package:\n",
    "   ```python\n",
    "      import os\n",
    "      os.system('fq --help')\n",
    "   ```\n",
    "- to run commands on the command line do not add the `!`, as in:\n",
    "`fq --help`"
   ]
  },
  {
   "cell_type": "markdown",
   "metadata": {},
   "source": [
    "To see help pages while you work type:\n",
    "\n",
    "```\n",
    "!<function> --help\n",
    "```\n",
    "\n",
    "example:\n",
    "\n",
    "```\n",
    "!fq ls --help\n",
    "```"
   ]
  },
  {
   "cell_type": "markdown",
   "metadata": {},
   "source": [
    "## Install `fhir-query`"
   ]
  },
  {
   "cell_type": "markdown",
   "metadata": {},
   "source": [
    "`pip install fhir-aggregator-client`"
   ]
  },
  {
   "cell_type": "markdown",
   "metadata": {},
   "source": [
    "## URL for FHIR-Aggregator server"
   ]
  },
  {
   "cell_type": "markdown",
   "metadata": {},
   "source": [
    "`%env FHIR_BASE=https://google-fhir.fhir-aggregator.org`"
   ]
  },
  {
   "cell_type": "markdown",
   "metadata": {},
   "source": [
    "## Get a tsv of all FHIR-Aggregator vocabulary"
   ]
  },
  {
   "cell_type": "markdown",
   "metadata": {},
   "source": [
    "`!fq vocabulary vocabulary.tsv --fhir-base-url $FHIR_BASE`"
   ]
  },
  {
   "cell_type": "markdown",
   "metadata": {},
   "source": [
    "## fq options"
   ]
  },
  {
   "cell_type": "code",
   "execution_count": 1,
   "metadata": {},
   "outputs": [
    {
     "name": "stdout",
     "output_type": "stream",
     "text": [
      "\u001b[0mUsage: fq [OPTIONS] COMMAND [ARGS]...\n",
      "\n",
      "  FHIR-Aggregator utilities.\n",
      "\n",
      "Options:\n",
      "  --version  Show the version and exit.\n",
      "  --help     Show this message and exit.\n",
      "\n",
      "Commands:\n",
      "  ls          List all the installed GraphDefinitions.\n",
      "  run         Run GraphDefinition queries.\n",
      "  results     Work with the results of a GraphDefinition query.\n",
      "  vocabulary  FHIR-Aggregator's key Resources and CodeSystems.\n",
      "\u001b[0m\u001b[0m"
     ]
    }
   ],
   "source": [
    "!fq --help"
   ]
  },
  {
   "cell_type": "markdown",
   "metadata": {},
   "source": [
    "## list and run GraphDefinitions"
   ]
  },
  {
   "cell_type": "code",
   "execution_count": 2,
   "metadata": {},
   "outputs": [
    {
     "name": "stdout",
     "output_type": "stream",
     "text": [
      "\u001b[0mUsage: fq ls [OPTIONS]\n",
      "\n",
      "  List all the installed GraphDefinitions.\n",
      "\n",
      "Options:\n",
      "  -f, --format [table|yaml|json]  Output format\n",
      "  --help                          Show this message and exit.\n",
      "\u001b[0m\u001b[0m"
     ]
    }
   ],
   "source": [
    "!fq ls --help"
   ]
  },
  {
   "cell_type": "code",
   "execution_count": 4,
   "metadata": {},
   "outputs": [
    {
     "name": "stdout",
     "output_type": "stream",
     "text": [
      "- description: (FHIR-Aggregator) Condition to ResearchStudy and children focusing\n",
      "    on Observations [NCIT_C156418,NCIT_C156419,NCIT_C164934]. fhir-query '/Condition?code:code=70179006'\n",
      "  id: cholangiocarcinoma-graph\n",
      "  path: /Users/walsbr/FHIR-Aggregator/helpdesk/venv/lib/python3.12/site-packages/fhir_aggregator_client/graph-definitions/CDACholangiocarcinomaGraph.yaml\n",
      "- description: (FHIR-Aggregator) Retrieve Patient and Observations [NCIT_C156418,NCIT_C156419].\n",
      "    fhir-query '/ResearchStudy?identifier=TCGA-BRCA'\n",
      "  id: patient-survival-graph\n",
      "  path: /Users/walsbr/FHIR-Aggregator/helpdesk/venv/lib/python3.12/site-packages/fhir_aggregator_client/graph-definitions/PatientSurvivalGraph.yaml\n",
      "- description: (FHIR-Aggregator) Condition to ResearchStudy and children. fhir-query\n",
      "    '/Condition?code:code=70179006'\n",
      "  id: condition-graph\n",
      "  path: /Users/walsbr/FHIR-Aggregator/helpdesk/venv/lib/python3.12/site-packages/fhir_aggregator_client/graph-definitions/ConditionGraph.yaml\n",
      "- description: (FHIR-Aggregator) Retrieve a ResearchStudy and children. Uses part-of-study\n",
      "    extension. fhir-query '/ResearchStudy?identifier=TCGA-BRCA'\n",
      "  id: research-study-part-of\n",
      "  path: /Users/walsbr/FHIR-Aggregator/helpdesk/venv/lib/python3.12/site-packages/fhir_aggregator_client/graph-definitions/ResearchStudyPartOf.yaml\n",
      "- description: (dbGAP) Retrieve ResearchStudy and children. Uses HAPI's deep linking.\n",
      "    fhir-query '/ResearchStudy?_id=phs001232'\n",
      "  id: research-study-link-iterate\n",
      "  path: /Users/walsbr/FHIR-Aggregator/helpdesk/venv/lib/python3.12/site-packages/fhir_aggregator_client/graph-definitions/ResearchStudyLinkIterate.yaml\n",
      "- description: ' (FHIR-Aggregator) Retrieve a ResearchStudy and it''s related entities.\n",
      "    DocumentReference resources are filtered by a study design criterion, e.g.: -\n",
      "    category:code = {data_category} (default: Transcriptome Profiling), {workflow_type}\n",
      "    (default: STAR - Counts), {experimental_strategy} (default: RNA-Seq), {access}\n",
      "    (default: open) - type:code = {file_type} (default: TSV) while the Patient link\n",
      "    can be filtered via list of comma separated patient identifiers {patientFilter}.'\n",
      "  id: file2patients\n",
      "  path: /Users/walsbr/FHIR-Aggregator/helpdesk/venv/lib/python3.12/site-packages/fhir_aggregator_client/graph-definitions/DocumentReferenceGraph.yaml\n",
      "\u001b[0m\n",
      "\u001b[0m\u001b[0m"
     ]
    }
   ],
   "source": [
    "!fq ls --format yaml"
   ]
  },
  {
   "cell_type": "markdown",
   "metadata": {},
   "source": [
    "## Lets run a retrieval of a research study, ex. 1000 Genomes \n",
    "`!fq run research-study-part-of '/ResearchStudy?identifier=1KG'`"
   ]
  },
  {
   "cell_type": "markdown",
   "metadata": {},
   "source": [
    "\n",
    "\n",
    "```\n",
    " \n",
    "research-study-part-of is valid FHIR R5 GraphDefinition\n",
    "ℹ Fetching https://google-fhir.fhir-aggregator.org/ResearchStudy?identifier=1KG\n",
    "ℹ Processing ResearchStudy with 1 resources\n",
    "ℹ Processing 11 links for ResearchStudy in parallel.\n",
    "ℹ Processing link: ResearchSubject/study={ref} with 1 ResearchStudy(s)\n",
    "ℹ Processing link: Group/part-of-study={ref}&_count=1000&_total=accurate with 1 ResearchStudy(s)\n",
    "ℹ Processing link: Patient/part-of-study={ref}&_count=1000&_total=accurate with 1 ResearchStudy(s)\n",
    "ℹ Processing link: Specimen/part-of-study={ref}&_count=1000&_total=accurate with 1 ResearchStudy(s)\n",
    "ℹ Processing link: Observation/part-of-study={ref}&_count=1000&_total=accurate with 1 ResearchStudy(s)\n",
    "ℹ Processing link: Procedure/part-of-study={ref}&_count=1000&_total=accurate with 1 ResearchStudy(s)\n",
    "ℹ Processing link: DocumentReference/part-of-study={ref}&_count=1000&_total=accurate with 1 ResearchStudy(s)\n",
    "ℹ Processing link: ServiceRequest/part-of-study={ref}&_count=1000&_total=accurate with 1 ResearchStudy(s)\n",
    "ℹ Processing link: ImagingStudy/part-of-study={ref}&_count=1000&_total=accurate with 1 ResearchStudy(s)\n",
    "ℹ Processing link: Condition/part-of-study={ref}&_count=1000&_total=accurate with 1 ResearchStudy(s)\n",
    "ℹ Processing link: MedicationAdministration/part-of-study={ref}&_count=1000&_total=accurate with 1 ResearchStudy(s)\n",
    "✔ Processed link: MedicationAdministration/part-of-study={ref}&_count=1000&_total=accurate\n",
    "✔ Processed link: ImagingStudy/part-of-study={ref}&_count=1000&_total=accurate\n",
    "✔ Processed link: Group/part-of-study={ref}&_count=1000&_total=accurate\n",
    "✔ Processed link: Observation/part-of-study={ref}&_count=1000&_total=accurate\n",
    "✔ Processed link: Condition/part-of-study={ref}&_count=1000&_total=accurate\n",
    "✔ Processed link: Procedure/part-of-study={ref}&_count=1000&_total=accurate\n",
    "✔ Processed link: ServiceRequest/part-of-study={ref}&_count=1000&_total=accurate\n",
    "✔ Processed link: Patient/part-of-study={ref}&_count=1000&_total=accurate\n",
    "✔ Processed link: Specimen/part-of-study={ref}&_count=1000&_total=accurate\n",
    "ℹ Fetching ResearchSubject page 10 of 35\n",
    "✔ Processed link: DocumentReference/part-of-study={ref}&_count=1000&_total=accurate\n",
    "ℹ Fetching ResearchSubject page 20 of 35\n",
    "ℹ Fetching ResearchSubject page 30 of 35\n",
    "✔ Processed link: ResearchSubject/study={ref}\n",
    "Aggregated Results: {'DocumentReference': 48, 'Observation': 1, 'Patient': 3500, 'ResearchStudy': 1, 'ResearchSubject': 3500, 'ServiceRequest': 1, 'Specimen': 3500}\n",
    "database available at: ~/.fhir-aggregator/fhir-graph.sqlite\n",
    "\n",
    "```"
   ]
  },
  {
   "cell_type": "markdown",
   "metadata": {},
   "source": [
    "## Work with the retrieved FHIR resources"
   ]
  },
  {
   "cell_type": "markdown",
   "metadata": {},
   "source": [
    "## fq results\n",
    "```\n",
    "fq results\n",
    "Usage: fq results [OPTIONS] COMMAND [ARGS]...\n",
    "\n",
    "  Work with the results of a GraphDefinition query.\n",
    "\n",
    "Options:\n",
    "  --help  Show this message and exit.\n",
    "\n",
    "Commands:\n",
    "  dataframe  Create dataframe from the local db.\n",
    "  summarize  Summarize the aggregation results.\n",
    "  visualize  Visualize the FHIR Resources in the database.\n",
    "\n",
    "```"
   ]
  },
  {
   "cell_type": "markdown",
   "metadata": {},
   "source": [
    "`fq results  summarize`\n",
    "```\n",
    "DocumentReference:\n",
    "  count: 48\n",
    "  references:\n",
    "    Patient:\n",
    "      count: 48\n",
    "    ResearchStudy:\n",
    "      count: 48\n",
    "    ServiceRequest:\n",
    "      count: 48\n",
    "    Specimen:\n",
    "      count: 120192\n",
    "Observation:\n",
    "  count: 1\n",
    "  references:\n",
    "    ResearchStudy:\n",
    "      count: 2\n",
    "Patient:\n",
    "  count: 3500\n",
    "  references:\n",
    "    ResearchStudy:\n",
    "      count: 3500\n",
    "ResearchStudy:\n",
    "  count: 1\n",
    "  references:\n",
    "    ResearchStudy:\n",
    "      count: 1\n",
    "ResearchSubject:\n",
    "  count: 3500\n",
    "  references:\n",
    "    Patient:\n",
    "      count: 3500\n",
    "    ResearchStudy:\n",
    "      count: 7000\n",
    "ServiceRequest:\n",
    "  count: 1\n",
    "  references:\n",
    "    Patient:\n",
    "      count: 1\n",
    "    ResearchStudy:\n",
    "      count: 1\n",
    "    Specimen:\n",
    "      count: 2504\n",
    "Specimen:\n",
    "  count: 3500\n",
    "  references:\n",
    "    Patient:\n",
    "      count: 3500\n",
    "    ResearchStudy:\n",
    "      count: 3500\n",
    "\n",
    "```\n"
   ]
  },
  {
   "attachments": {},
   "cell_type": "markdown",
   "metadata": {},
   "source": [
    "## fq results visualize\n",
    "`fq results visualize`\n",
    "```Wrote: fhir-graph.html```\n",
    "![image.png](../images/1KG-visualization.png)\n"
   ]
  },
  {
   "cell_type": "markdown",
   "metadata": {},
   "source": [
    "## fq results dataframe\n",
    "Create a dataframe of the results\n",
    " * We can create a tsv\n",
    "```\n",
    "fq results dataframe\n",
    "Saved fhir-graph.tsv\n",
    "```\n",
    "*  Or launch dtale for review\n",
    "```fq results dataframe --dtale```\n",
    "![image.png](../images/1KG-dataframe.png)"
   ]
  },
  {
   "cell_type": "markdown",
   "metadata": {},
   "source": [
    "## fq vocabulary \n",
    "```\n",
    "fq vocabulary --help\n",
    "Usage: fq vocabulary [OPTIONS] [OUTPUT_PATH]\n",
    "\n",
    "  FHIR-Aggregator's key Resources and CodeSystems. \n",
    "\n",
    "  OUTPUT_PATH: Path to the output file. If not provided, the output will be\n",
    "  printed to stdout.\n",
    "\n",
    "Options:\n",
    "  --fhir-base-url TEXT          Base URL of the FHIR server. default: env\n",
    "                                $FHIR_BASE  [required]\n",
    "  -f, --format [tsv|yaml|json]  Output format\n",
    "  --debug                       Enable debug mode.\n",
    "  --log-file TEXT               Path to the log file.\n",
    "                                default=/Users/walsbr/.fhir-aggregator/app.log\n",
    "  --dtale                       Open the graph in a browser using the dtale\n",
    "                                package for interactive data exploration.\n",
    "  --help                        Show this message and exit.\n",
    "```\n",
    "* This retrieves a histogram of all codeable concepts and extensions for all projects, rendered as a TSV.  Alternatively use the `--dtale` option to browse and filter results\n",
    "\n",
    "![image.png](../images/1KG-population-vocabulary.png)"
   ]
  },
  {
   "cell_type": "code",
   "execution_count": null,
   "metadata": {},
   "outputs": [],
   "source": []
  }
 ],
 "metadata": {
  "kernelspec": {
   "display_name": "Python 3 (ipykernel)",
   "language": "python",
   "name": "python3"
  },
  "language_info": {
   "codemirror_mode": {
    "name": "ipython",
    "version": 3
   },
   "file_extension": ".py",
   "mimetype": "text/x-python",
   "name": "python",
   "nbconvert_exporter": "python",
   "pygments_lexer": "ipython3",
   "version": "3.12.1"
  }
 },
 "nbformat": 4,
 "nbformat_minor": 4
}
