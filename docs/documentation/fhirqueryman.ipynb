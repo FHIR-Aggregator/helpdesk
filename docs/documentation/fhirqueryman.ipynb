{
 "cells": [
  {
   "cell_type": "markdown",
   "metadata": {},
   "source": [
    "# fhir-query man page"
   ]
  },
  {
   "cell_type": "markdown",
   "metadata": {},
   "source": [
    "FHIR-Aggregator is a command line package. The following commands are all shown an ipython notebook.\n",
    "- to run commands in python you will need to use export the `fq` command to the terminal using the `os` package:\n",
    "   ```python\n",
    "      import os\n",
    "      os.system('fq --help')\n",
    "   ```\n",
    "- to run commands on the command line do not add the `!`, as in:\n",
    "`fq --help`"
   ]
  },
  {
   "cell_type": "markdown",
   "metadata": {},
   "source": [
    "To see help pages while you work type:\n",
    "\n",
    "```\n",
    "!fq <subcommand> --help\n",
    "```\n",
    "\n",
    "example:\n",
    "\n",
    "```\n",
    "!fq ls --help\n",
    "```"
   ]
  },
  {
   "cell_type": "markdown",
   "metadata": {},
   "source": [
    "## Install `fhir-query`"
   ]
  },
  {
   "cell_type": "markdown",
   "metadata": {},
   "source": [
    "`pip install fhir-aggregator-client`"
   ]
  },
  {
   "cell_type": "markdown",
   "metadata": {},
   "source": [
    "## URL for FHIR-Aggregator server"
   ]
  },
  {
   "cell_type": "markdown",
   "metadata": {},
   "source": [
    "`%env FHIR_BASE=https://google-fhir.fhir-aggregator.org`"
   ]
  },
  {
   "cell_type": "markdown",
   "metadata": {},
   "source": [
    "## Get a tsv of all FHIR-Aggregator vocabulary"
   ]
  },
  {
   "cell_type": "markdown",
   "metadata": {},
   "source": [
    "`!fq vocabulary vocabulary.tsv --fhir-base-url $FHIR_BASE`"
   ]
  },
  {
   "cell_type": "markdown",
   "metadata": {},
   "source": [
    "## fq options"
   ]
  },
  {
   "cell_type": "code",
   "execution_count": null,
   "metadata": {},
   "outputs": [
    {
     "name": "stdout",
     "output_type": "stream",
     "text": [
      "\u001b[0mUsage: fq [OPTIONS] COMMAND [ARGS]...\n",
      "\n",
      "  FHIR-Aggregator utilities.\n",
      "\n",
      "Options:\n",
      "  --version  Show the version and exit.\n",
      "  --help     Show this message and exit.\n",
      "\n",
      "Commands:\n",
      "  ls          List all the installed GraphDefinitions.\n",
      "  run         Run GraphDefinition queries.\n",
      "  results     Work with the results of a GraphDefinition query.\n",
      "  vocabulary  FHIR-Aggregator's key Resources and CodeSystems.\n",
      "\u001b[0m\u001b[0m"
     ]
    }
   ],
   "source": [
    "!fq --help"
   ]
  },
  {
   "cell_type": "markdown",
   "metadata": {},
   "source": [
    "## list and run GraphDefinitions"
   ]
  },
  {
   "cell_type": "code",
   "execution_count": null,
   "metadata": {},
   "outputs": [
    {
     "name": "stdout",
     "output_type": "stream",
     "text": [
      "\u001b[0mUsage: fq ls [OPTIONS]\n",
      "\n",
      "  List all the installed GraphDefinitions.\n",
      "\n",
      "Options:\n",
      "  -f, --format [table|yaml|json]  Output format\n",
      "  --help                          Show this message and exit.\n",
      "\u001b[0m\u001b[0m"
     ]
    }
   ],
   "source": [
    "!fq ls --help"
   ]
  },
  {
   "cell_type": "code",
   "execution_count": null,
   "metadata": {},
   "outputs": [
    {
     "name": "stdout",
     "output_type": "stream",
     "text": [
      "- description: (FHIR-Aggregator) Condition to ResearchStudy and children focusing\n",
      "    on Observations [NCIT_C156418,NCIT_C156419,NCIT_C164934]. fhir-query '/Condition?code:code=70179006'\n",
      "  id: cholangiocarcinoma-graph\n",
      "  path: /Users/walsbr/FHIR-Aggregator/helpdesk/venv/lib/python3.12/site-packages/fhir_aggregator_client/graph-definitions/CDACholangiocarcinomaGraph.yaml\n",
      "- description: (FHIR-Aggregator) Retrieve Patient and Observations [NCIT_C156418,NCIT_C156419].\n",
      "    fhir-query '/ResearchStudy?identifier=TCGA-BRCA'\n",
      "  id: patient-survival-graph\n",
      "  path: /Users/walsbr/FHIR-Aggregator/helpdesk/venv/lib/python3.12/site-packages/fhir_aggregator_client/graph-definitions/PatientSurvivalGraph.yaml\n",
      "- description: (FHIR-Aggregator) Condition to ResearchStudy and children. fhir-query\n",
      "    '/Condition?code:code=70179006'\n",
      "  id: condition-graph\n",
      "  path: /Users/walsbr/FHIR-Aggregator/helpdesk/venv/lib/python3.12/site-packages/fhir_aggregator_client/graph-definitions/ConditionGraph.yaml\n",
      "- description: (FHIR-Aggregator) Retrieve a ResearchStudy and children. Uses part-of-study\n",
      "    extension. fhir-query '/ResearchStudy?identifier=TCGA-BRCA'\n",
      "  id: research-study-part-of\n",
      "  path: /Users/walsbr/FHIR-Aggregator/helpdesk/venv/lib/python3.12/site-packages/fhir_aggregator_client/graph-definitions/ResearchStudyPartOf.yaml\n",
      "- description: (dbGAP) Retrieve ResearchStudy and children. Uses HAPI's deep linking.\n",
      "    fhir-query '/ResearchStudy?_id=phs001232'\n",
      "  id: research-study-link-iterate\n",
      "  path: /Users/walsbr/FHIR-Aggregator/helpdesk/venv/lib/python3.12/site-packages/fhir_aggregator_client/graph-definitions/ResearchStudyLinkIterate.yaml\n",
      "- description: ' (FHIR-Aggregator) Retrieve a ResearchStudy and it''s related entities.\n",
      "    DocumentReference resources are filtered by a study design criterion, e.g.: -\n",
      "    category:code = {data_category} (default: Transcriptome Profiling), {workflow_type}\n",
      "    (default: STAR - Counts), {experimental_strategy} (default: RNA-Seq), {access}\n",
      "    (default: open) - type:code = {file_type} (default: TSV) while the Patient link\n",
      "    can be filtered via list of comma separated patient identifiers {patientFilter}.'\n",
      "  id: file2patients\n",
      "  path: /Users/walsbr/FHIR-Aggregator/helpdesk/venv/lib/python3.12/site-packages/fhir_aggregator_client/graph-definitions/DocumentReferenceGraph.yaml\n",
      "\u001b[0m\n",
      "\u001b[0m\u001b[0m"
     ]
    }
   ],
   "source": [
    "!fq ls --format yaml"
   ]
  },
  {
   "cell_type": "markdown",
   "metadata": {},
   "source": [
    "## Lets run a retrieval of a research study, ex. 1000 Genomes \n",
    "`!fq run research-study-part-of '/ResearchStudy?identifier=1KG'`"
   ]
  },
  {
   "cell_type": "markdown",
   "metadata": {},
   "source": [
    "\n",
    "\n",
    "```\n",
    " \n",
    "research-study-part-of is valid FHIR R5 GraphDefinition\n",
    "ℹ Fetching https://google-fhir.fhir-aggregator.org/ResearchStudy?identifier=1KG\n",
    "ℹ Processing ResearchStudy with 1 resources\n",
    "ℹ Processing 11 links for ResearchStudy in parallel.\n",
    "ℹ Processing link: ResearchSubject/study={ref} with 1 ResearchStudy(s)\n",
    "ℹ Processing link: Group/part-of-study={ref}&_count=1000&_total=accurate with 1 ResearchStudy(s)\n",
    "ℹ Processing link: Patient/part-of-study={ref}&_count=1000&_total=accurate with 1 ResearchStudy(s)\n",
    "ℹ Processing link: Specimen/part-of-study={ref}&_count=1000&_total=accurate with 1 ResearchStudy(s)\n",
    "ℹ Processing link: Observation/part-of-study={ref}&_count=1000&_total=accurate with 1 ResearchStudy(s)\n",
    "ℹ Processing link: Procedure/part-of-study={ref}&_count=1000&_total=accurate with 1 ResearchStudy(s)\n",
    "ℹ Processing link: DocumentReference/part-of-study={ref}&_count=1000&_total=accurate with 1 ResearchStudy(s)\n",
    "ℹ Processing link: ServiceRequest/part-of-study={ref}&_count=1000&_total=accurate with 1 ResearchStudy(s)\n",
    "ℹ Processing link: ImagingStudy/part-of-study={ref}&_count=1000&_total=accurate with 1 ResearchStudy(s)\n",
    "ℹ Processing link: Condition/part-of-study={ref}&_count=1000&_total=accurate with 1 ResearchStudy(s)\n",
    "ℹ Processing link: MedicationAdministration/part-of-study={ref}&_count=1000&_total=accurate with 1 ResearchStudy(s)\n",
    "✔ Processed link: MedicationAdministration/part-of-study={ref}&_count=1000&_total=accurate\n",
    "✔ Processed link: ImagingStudy/part-of-study={ref}&_count=1000&_total=accurate\n",
    "✔ Processed link: Group/part-of-study={ref}&_count=1000&_total=accurate\n",
    "✔ Processed link: Observation/part-of-study={ref}&_count=1000&_total=accurate\n",
    "✔ Processed link: Condition/part-of-study={ref}&_count=1000&_total=accurate\n",
    "✔ Processed link: Procedure/part-of-study={ref}&_count=1000&_total=accurate\n",
    "✔ Processed link: ServiceRequest/part-of-study={ref}&_count=1000&_total=accurate\n",
    "✔ Processed link: Patient/part-of-study={ref}&_count=1000&_total=accurate\n",
    "✔ Processed link: Specimen/part-of-study={ref}&_count=1000&_total=accurate\n",
    "ℹ Fetching ResearchSubject page 10 of 35\n",
    "✔ Processed link: DocumentReference/part-of-study={ref}&_count=1000&_total=accurate\n",
    "ℹ Fetching ResearchSubject page 20 of 35\n",
    "ℹ Fetching ResearchSubject page 30 of 35\n",
    "✔ Processed link: ResearchSubject/study={ref}\n",
    "Aggregated Results: {'DocumentReference': 48, 'Observation': 1, 'Patient': 3500, 'ResearchStudy': 1, 'ResearchSubject': 3500, 'ServiceRequest': 1, 'Specimen': 3500}\n",
    "database available at: ~/.fhir-aggregator/fhir-graph.sqlite\n",
    "\n",
    "```"
   ]
  },
  {
   "cell_type": "markdown",
   "metadata": {},
   "source": [
    "## Work with the retrieved FHIR resources"
   ]
  },
  {
   "cell_type": "markdown",
   "metadata": {},
   "source": [
    "## fq results\n",
    "```\n",
    "fq results\n",
    "Usage: fq results [OPTIONS] COMMAND [ARGS]...\n",
    "\n",
    "  Work with the results of a GraphDefinition query.\n",
    "\n",
    "Options:\n",
    "  --help  Show this message and exit.\n",
    "\n",
    "Commands:\n",
    "  dataframe  Create dataframe from the local db.\n",
    "  summarize  Summarize the aggregation results.\n",
    "  visualize  Visualize the FHIR Resources in the database.\n",
    "\n",
    "```"
   ]
  },
  {
   "cell_type": "markdown",
   "metadata": {},
   "source": [
    "`fq results  summarize`\n",
    "```\n",
    "DocumentReference:\n",
    "  count: 48\n",
    "  references:\n",
    "    Patient:\n",
    "      count: 48\n",
    "    ResearchStudy:\n",
    "      count: 48\n",
    "    ServiceRequest:\n",
    "      count: 48\n",
    "    Specimen:\n",
    "      count: 120192\n",
    "Observation:\n",
    "  count: 1\n",
    "  references:\n",
    "    ResearchStudy:\n",
    "      count: 2\n",
    "Patient:\n",
    "  count: 3500\n",
    "  references:\n",
    "    ResearchStudy:\n",
    "      count: 3500\n",
    "ResearchStudy:\n",
    "  count: 1\n",
    "  references:\n",
    "    ResearchStudy:\n",
    "      count: 1\n",
    "ResearchSubject:\n",
    "  count: 3500\n",
    "  references:\n",
    "    Patient:\n",
    "      count: 3500\n",
    "    ResearchStudy:\n",
    "      count: 7000\n",
    "ServiceRequest:\n",
    "  count: 1\n",
    "  references:\n",
    "    Patient:\n",
    "      count: 1\n",
    "    ResearchStudy:\n",
    "      count: 1\n",
    "    Specimen:\n",
    "      count: 2504\n",
    "Specimen:\n",
    "  count: 3500\n",
    "  references:\n",
    "    Patient:\n",
    "      count: 3500\n",
    "    ResearchStudy:\n",
    "      count: 3500\n",
    "\n",
    "```\n"
   ]
  },
  {
   "attachments": {},
   "cell_type": "markdown",
   "metadata": {},
   "source": [
    "## fq results visualize\n",
    "\n",
    "```fq results visualize\n",
    "\n",
    "Wrote: fhir-graph.html\n",
    "```\n",
    "\n",
    "![1KG visualization](/images/1KG-visualization.png)\n",
    "\n"
   ]
  },
  {
   "cell_type": "markdown",
   "metadata": {},
   "source": [
    "## fq results dataframe\n",
    "Create a dataframe of the results\n",
    " * We can create a tsv\n",
    "```\n",
    "fq results dataframe\n",
    "Saved fhir-graph.tsv\n",
    "```\n",
    "*  Or launch dtale for review\n",
    "```fq results dataframe --dtale```\n",
    "\n",
    "![1KG dataframe](/images/1KG-dataframe.png)"
   ]
  },
  {
   "cell_type": "markdown",
   "metadata": {},
   "source": [
    "## fq vocabulary \n",
    "```\n",
    "fq vocabulary --help\n",
    "Usage: fq vocabulary [OPTIONS] [OUTPUT_PATH]\n",
    "\n",
    "  FHIR-Aggregator's key Resources and CodeSystems. \n",
    "\n",
    "  OUTPUT_PATH: Path to the output file. If not provided, the output will be\n",
    "  printed to stdout.\n",
    "\n",
    "Options:\n",
    "  --fhir-base-url TEXT          Base URL of the FHIR server. default: env\n",
    "                                $FHIR_BASE  [required]\n",
    "  -f, --format [tsv|yaml|json]  Output format\n",
    "  --debug                       Enable debug mode.\n",
    "  --log-file TEXT               Path to the log file.\n",
    "                                default=/Users/walsbr/.fhir-aggregator/app.log\n",
    "  --dtale                       Open the graph in a browser using the dtale\n",
    "                                package for interactive data exploration.\n",
    "  --help                        Show this message and exit.\n",
    "```\n",
    "* This retrieves a histogram of all codeable concepts and extensions for all projects, rendered as a TSV.  Alternatively use the `--dtale` option to browse and filter results\n",
    "\n",
    "![1KG population vocabulary](/images/1KG-population-vocabulary.png)"
   ]
  },
  {
   "cell_type": "markdown",
   "metadata": {},
   "source": [
    "Here’s a **FHIR architect’s technical note** describing this Observation resource and its relationship to the `ResearchStudy`:\n",
    "\n",
    "---\n",
    "\n",
    "# Technical Note: \"Vocabulary\" Observation Summary\n",
    "\n",
    "## Overview\n",
    "\n",
    "The Observation resource (`Observation/2034d746-6758-59aa-bd72-2ff659008ec8`) represents an **aggregated, study-level summary** of clinical and research data derived from multiple FHIR domains (Observation, Condition, Specimen, MedicationAdministration, Patient). Rather than describing a single patient instance, this Observation captures **population-level counts** of coded values that occurred within a referenced `ResearchStudy`.\n",
    "\n",
    "The Observation is marked with `status = final`, signaling that it is a stable, reportable aggregation.\n",
    "\n",
    "---\n",
    "\n",
    "## Observation Contents\n",
    "\n",
    "### 1. **Observation.code**\n",
    "\n",
    "* The top-level `code` = `\"vocabulary\"` (`http://fhir-aggregator.org/fhir/CodeSystem/vocabulary`), indicating this Observation is reporting vocabulary usage frequencies within the study cohort.\n",
    "\n",
    "* To retrieve all vocabulary resources.\n",
    "```\n",
    "https://google-fhir.fhir-aggregator.org/Observation?code=vocabulary\n",
    "```\n",
    "\n",
    "### 2. **Observation.component[]**\n",
    "\n",
    "Each component encodes:\n",
    "\n",
    "* A **path** (e.g., `Specimen.type`, `Observation.category`, `Condition.code`, `MedicationAdministration.medicationCodeableConcept`, `Patient.extension`).\n",
    "* A **terminology code** from standard vocabularies (e.g., SNOMED CT, LOINC, NCIt, US Core Race/Ethnicity, HL7 clinical status).\n",
    "* A **count** (`valueInteger`), representing how many study participants or records carried that specific coding.\n",
    "\n",
    "Examples:\n",
    "\n",
    "* **Specimen Types**: Tumor (22,722) vs Normal (12,433).\n",
    "* **Observation Categories**: Laboratory (36,311), Survey (1,114).\n",
    "* **Genomics**: LOINC 81247-9 (genetic variant reporting panel) observed 35,155 times.\n",
    "* **Disease Progression**: NCIT “Days Between Birth and Diagnosis” (978), “Days Between Diagnosis and Death” (136).\n",
    "* **Stage**: SNOMED AJCC pathological stages (e.g., Stage IIA = 351 cases, Stage IV = 22).\n",
    "* **Conditions**: Cancer histologies (e.g., Lobular carcinoma, NOS = 219; Infiltrating ductular carcinoma = 828).\n",
    "* **Medications**: Chemotherapeutics and hormonals (e.g., Cyclophosphamide = 453, Tamoxifen = 239).\n",
    "* **Demographics**: Patient extensions (sex, race, ethnicity). Example: Female (982), Male (10), White (688), Black or African American (174), Hispanic/Latino (36).\n",
    "\n",
    "### 3. **Extensions**\n",
    "\n",
    "\n",
    "# Aggregating Extensions in a Study-Level Observation\n",
    "\n",
    "In this Observation pattern, **FHIR extensions** such as *US Core Birth Sex, Race, and Ethnicity* are represented as aggregated counts. Each extension value is encoded as a separate `component`:\n",
    "\n",
    "* **Context coding**:\n",
    "  A synthetic path indicator shows where the value was found, for example:\n",
    "\n",
    "  ```json\n",
    "  {\n",
    "    \"system\": \"http://fhir-aggregator.org/fhir/CodeSystem/vocabulary/path\",\n",
    "    \"code\": \"Patient.extension\",\n",
    "    \"display\": \"Patient.extension\"\n",
    "  }\n",
    "  ```\n",
    "\n",
    "* **Value coding**:\n",
    "  The actual extension value is captured using the extension’s canonical system. Examples include:\n",
    "\n",
    "  ```json\n",
    "  { \"system\": \"http://hl7.org/fhir/us/core/StructureDefinition/us-core-birthsex\",\n",
    "    \"code\": \"F\", \"display\": \"F\" }\n",
    "  ```\n",
    "\n",
    "  ```json\n",
    "  { \"system\": \"http://hl7.org/fhir/us/core/StructureDefinition/us-core-race\",\n",
    "    \"code\": \"White\", \"display\": \"White\" }\n",
    "  ```\n",
    "\n",
    "  ```json\n",
    "  { \"system\": \"http://hl7.org/fhir/us/core/StructureDefinition/us-core-ethnicity\",\n",
    "    \"code\": \"hispanic or latino\", \"display\": \"hispanic or latino\" }\n",
    "  ```\n",
    "\n",
    "* **Count**:\n",
    "  The `valueInteger` holds the frequency observed in the study cohort.\n",
    "\n",
    "\n",
    "This structure makes extension values **queryable and comparable** at the **ResearchStudy level** while preserving both the **context** (path in FHIR) and the **value semantics** (extension-defined code).\n",
    "\n",
    "\n",
    "\n",
    "### 4. **Focus**\n",
    "\n",
    "* Direct reference to the same `ResearchStudy`.\n",
    "\n",
    "Together, the extension and focus explicitly bind this Observation to a specific ResearchStudy, framing it as **study-level aggregate data**.\n",
    "\n",
    "---\n",
    "\n",
    "## Relationship to ResearchStudy\n",
    "\n",
    "This Observation is **not a per-patient measurement** but a **study-wide analytic artifact**. The relationship can be summarized as:\n",
    "\n",
    "* **ResearchStudy** defines the study cohort, protocol, and design.\n",
    "* **Observation** acts as an **analytic output of the study**, reporting distributions of values across participants.\n",
    "* The `focus` element ensures the Observation is semantically tied to the ResearchStudy, while the `extension:part-of-study` makes the linkage explicit for query and aggregation pipelines.\n",
    "* Effectively, this Observation provides **coded frequency distributions** that allow researchers to understand cohort characteristics, disease staging, treatments, and demographics without accessing raw patient-level data.\n",
    "\n",
    "---\n",
    "\n",
    "## Architectural Implications\n",
    "\n",
    "* This pattern supports **privacy-preserving research data sharing**, since counts are aggregated.\n",
    "* It enables **cross-study comparisons**, as standardized terminologies (LOINC, SNOMED CT, NCIt, US Core) anchor the codes.\n",
    "* It extends FHIR’s Observation to serve as a **vocabulary distribution index** within research cohorts, bridging patient-level data and study-level metadata.\n",
    "\n",
    "---\n",
    "\n",
    "✅ **Summary:**\n",
    "This Observation is a **study-level frequency table** of clinical, demographic, and treatment vocabularies, linked to a `ResearchStudy`. It operationalizes the connection between patient-level records and aggregated study metadata, supporting discovery, cohort characterization, and secondary research reuse.\n",
    " "
   ]
  }
 ],
 "metadata": {
  "kernelspec": {
   "display_name": "Python 3 (ipykernel)",
   "language": "python",
   "name": "python3"
  },
  "language_info": {
   "codemirror_mode": {
    "name": "ipython",
    "version": 3
   },
   "file_extension": ".py",
   "mimetype": "text/x-python",
   "name": "python",
   "nbconvert_exporter": "python",
   "pygments_lexer": "ipython3",
   "version": "3.12.1"
  }
 },
 "nbformat": 4,
 "nbformat_minor": 4
}
