{
 "cells": [
  {
   "cell_type": "markdown",
   "metadata": {},
   "source": [
    "To see help pages while you work type:\n",
    "\n",
    "```\n",
    "!function --help\n",
    "```\n",
    "\n",
    "example:\n",
    "\n",
    "```\n",
    "!fq main --help\n",
    "```"
   ]
  },
  {
   "cell_type": "markdown",
   "metadata": {},
   "source": [
    "# Install `fhir-query`"
   ]
  },
  {
   "cell_type": "code",
   "execution_count": 6,
   "metadata": {},
   "outputs": [
    {
     "name": "stdout",
     "output_type": "stream",
     "text": [
      "Requirement already satisfied: fhir-aggregator-client in /opt/anaconda3/envs/cdapython/lib/python3.13/site-packages (0.1.7)\n",
      "Requirement already satisfied: click in /opt/anaconda3/envs/cdapython/lib/python3.13/site-packages (from fhir-aggregator-client) (8.1.8)\n",
      "Requirement already satisfied: requests in /opt/anaconda3/envs/cdapython/lib/python3.13/site-packages (from fhir-aggregator-client) (2.32.3)\n",
      "Requirement already satisfied: pyyaml in /opt/anaconda3/envs/cdapython/lib/python3.13/site-packages (from fhir-aggregator-client) (6.0.2)\n",
      "Requirement already satisfied: halo in /opt/anaconda3/envs/cdapython/lib/python3.13/site-packages (from fhir-aggregator-client) (0.0.31)\n",
      "Requirement already satisfied: httpx in /opt/anaconda3/envs/cdapython/lib/python3.13/site-packages (from fhir-aggregator-client) (0.28.1)\n",
      "Requirement already satisfied: fhir.resources==8.0.0b4 in /opt/anaconda3/envs/cdapython/lib/python3.13/site-packages (from fhir-aggregator-client) (8.0.0b4)\n",
      "Requirement already satisfied: dotty-dict in /opt/anaconda3/envs/cdapython/lib/python3.13/site-packages (from fhir-aggregator-client) (1.3.1)\n",
      "Requirement already satisfied: pyvis in /opt/anaconda3/envs/cdapython/lib/python3.13/site-packages (from fhir-aggregator-client) (0.3.2)\n",
      "Requirement already satisfied: click_default_group in /opt/anaconda3/envs/cdapython/lib/python3.13/site-packages (from fhir-aggregator-client) (1.2.4)\n",
      "Requirement already satisfied: inflection in /opt/anaconda3/envs/cdapython/lib/python3.13/site-packages (from fhir-aggregator-client) (0.5.1)\n",
      "Requirement already satisfied: pandas in /opt/anaconda3/envs/cdapython/lib/python3.13/site-packages (from fhir-aggregator-client) (2.2.3)\n",
      "Requirement already satisfied: fhir-core>=0.1.3 in /opt/anaconda3/envs/cdapython/lib/python3.13/site-packages (from fhir.resources==8.0.0b4->fhir-aggregator-client) (1.0.0)\n",
      "Requirement already satisfied: log-symbols>=0.0.14 in /opt/anaconda3/envs/cdapython/lib/python3.13/site-packages (from halo->fhir-aggregator-client) (0.0.14)\n",
      "Requirement already satisfied: spinners>=0.0.24 in /opt/anaconda3/envs/cdapython/lib/python3.13/site-packages (from halo->fhir-aggregator-client) (0.0.24)\n",
      "Requirement already satisfied: termcolor>=1.1.0 in /opt/anaconda3/envs/cdapython/lib/python3.13/site-packages (from halo->fhir-aggregator-client) (2.5.0)\n",
      "Requirement already satisfied: colorama>=0.3.9 in /opt/anaconda3/envs/cdapython/lib/python3.13/site-packages (from halo->fhir-aggregator-client) (0.4.6)\n",
      "Requirement already satisfied: six>=1.12.0 in /opt/anaconda3/envs/cdapython/lib/python3.13/site-packages (from halo->fhir-aggregator-client) (1.16.0)\n",
      "Requirement already satisfied: anyio in /opt/anaconda3/envs/cdapython/lib/python3.13/site-packages (from httpx->fhir-aggregator-client) (4.8.0)\n",
      "Requirement already satisfied: certifi in /opt/anaconda3/envs/cdapython/lib/python3.13/site-packages (from httpx->fhir-aggregator-client) (2024.12.14)\n",
      "Requirement already satisfied: httpcore==1.* in /opt/anaconda3/envs/cdapython/lib/python3.13/site-packages (from httpx->fhir-aggregator-client) (1.0.7)\n",
      "Requirement already satisfied: idna in /opt/anaconda3/envs/cdapython/lib/python3.13/site-packages (from httpx->fhir-aggregator-client) (3.10)\n",
      "Requirement already satisfied: h11<0.15,>=0.13 in /opt/anaconda3/envs/cdapython/lib/python3.13/site-packages (from httpcore==1.*->httpx->fhir-aggregator-client) (0.14.0)\n",
      "Requirement already satisfied: numpy>=1.26.0 in /opt/anaconda3/envs/cdapython/lib/python3.13/site-packages (from pandas->fhir-aggregator-client) (2.2.1)\n",
      "Requirement already satisfied: python-dateutil>=2.8.2 in /opt/anaconda3/envs/cdapython/lib/python3.13/site-packages (from pandas->fhir-aggregator-client) (2.9.0.post0)\n",
      "Requirement already satisfied: pytz>=2020.1 in /opt/anaconda3/envs/cdapython/lib/python3.13/site-packages (from pandas->fhir-aggregator-client) (2024.1)\n",
      "Requirement already satisfied: tzdata>=2022.7 in /opt/anaconda3/envs/cdapython/lib/python3.13/site-packages (from pandas->fhir-aggregator-client) (2023.3)\n",
      "Requirement already satisfied: ipython>=5.3.0 in /opt/anaconda3/envs/cdapython/lib/python3.13/site-packages (from pyvis->fhir-aggregator-client) (8.30.0)\n",
      "Requirement already satisfied: jinja2>=2.9.6 in /opt/anaconda3/envs/cdapython/lib/python3.13/site-packages (from pyvis->fhir-aggregator-client) (3.1.5)\n",
      "Requirement already satisfied: jsonpickle>=1.4.1 in /opt/anaconda3/envs/cdapython/lib/python3.13/site-packages (from pyvis->fhir-aggregator-client) (4.0.1)\n",
      "Requirement already satisfied: networkx>=1.11 in /opt/anaconda3/envs/cdapython/lib/python3.13/site-packages (from pyvis->fhir-aggregator-client) (3.4.2)\n",
      "Requirement already satisfied: charset-normalizer<4,>=2 in /opt/anaconda3/envs/cdapython/lib/python3.13/site-packages (from requests->fhir-aggregator-client) (3.4.1)\n",
      "Requirement already satisfied: urllib3<3,>=1.21.1 in /opt/anaconda3/envs/cdapython/lib/python3.13/site-packages (from requests->fhir-aggregator-client) (2.3.0)\n",
      "Requirement already satisfied: pydantic<3.0,>=2.7.4 in /opt/anaconda3/envs/cdapython/lib/python3.13/site-packages (from fhir-core>=0.1.3->fhir.resources==8.0.0b4->fhir-aggregator-client) (2.10.6)\n",
      "Requirement already satisfied: decorator in /opt/anaconda3/envs/cdapython/lib/python3.13/site-packages (from ipython>=5.3.0->pyvis->fhir-aggregator-client) (5.1.1)\n",
      "Requirement already satisfied: jedi>=0.16 in /opt/anaconda3/envs/cdapython/lib/python3.13/site-packages (from ipython>=5.3.0->pyvis->fhir-aggregator-client) (0.19.2)\n",
      "Requirement already satisfied: matplotlib-inline in /opt/anaconda3/envs/cdapython/lib/python3.13/site-packages (from ipython>=5.3.0->pyvis->fhir-aggregator-client) (0.1.6)\n",
      "Requirement already satisfied: prompt-toolkit<3.1.0,>=3.0.41 in /opt/anaconda3/envs/cdapython/lib/python3.13/site-packages (from ipython>=5.3.0->pyvis->fhir-aggregator-client) (3.0.43)\n",
      "Requirement already satisfied: pygments>=2.4.0 in /opt/anaconda3/envs/cdapython/lib/python3.13/site-packages (from ipython>=5.3.0->pyvis->fhir-aggregator-client) (2.15.1)\n",
      "Requirement already satisfied: stack-data in /opt/anaconda3/envs/cdapython/lib/python3.13/site-packages (from ipython>=5.3.0->pyvis->fhir-aggregator-client) (0.2.0)\n",
      "Requirement already satisfied: traitlets>=5.13.0 in /opt/anaconda3/envs/cdapython/lib/python3.13/site-packages (from ipython>=5.3.0->pyvis->fhir-aggregator-client) (5.14.3)\n",
      "Requirement already satisfied: pexpect>4.3 in /opt/anaconda3/envs/cdapython/lib/python3.13/site-packages (from ipython>=5.3.0->pyvis->fhir-aggregator-client) (4.8.0)\n",
      "Requirement already satisfied: MarkupSafe>=2.0 in /opt/anaconda3/envs/cdapython/lib/python3.13/site-packages (from jinja2>=2.9.6->pyvis->fhir-aggregator-client) (3.0.2)\n",
      "Requirement already satisfied: sniffio>=1.1 in /opt/anaconda3/envs/cdapython/lib/python3.13/site-packages (from anyio->httpx->fhir-aggregator-client) (1.3.1)\n",
      "Requirement already satisfied: parso<0.9.0,>=0.8.4 in /opt/anaconda3/envs/cdapython/lib/python3.13/site-packages (from jedi>=0.16->ipython>=5.3.0->pyvis->fhir-aggregator-client) (0.8.4)\n",
      "Requirement already satisfied: ptyprocess>=0.5 in /opt/anaconda3/envs/cdapython/lib/python3.13/site-packages (from pexpect>4.3->ipython>=5.3.0->pyvis->fhir-aggregator-client) (0.7.0)\n",
      "Requirement already satisfied: wcwidth in /opt/anaconda3/envs/cdapython/lib/python3.13/site-packages (from prompt-toolkit<3.1.0,>=3.0.41->ipython>=5.3.0->pyvis->fhir-aggregator-client) (0.2.5)\n",
      "Requirement already satisfied: annotated-types>=0.6.0 in /opt/anaconda3/envs/cdapython/lib/python3.13/site-packages (from pydantic<3.0,>=2.7.4->fhir-core>=0.1.3->fhir.resources==8.0.0b4->fhir-aggregator-client) (0.7.0)\n",
      "Requirement already satisfied: pydantic-core==2.27.2 in /opt/anaconda3/envs/cdapython/lib/python3.13/site-packages (from pydantic<3.0,>=2.7.4->fhir-core>=0.1.3->fhir.resources==8.0.0b4->fhir-aggregator-client) (2.27.2)\n",
      "Requirement already satisfied: typing-extensions>=4.12.2 in /opt/anaconda3/envs/cdapython/lib/python3.13/site-packages (from pydantic<3.0,>=2.7.4->fhir-core>=0.1.3->fhir.resources==8.0.0b4->fhir-aggregator-client) (4.12.2)\n",
      "Requirement already satisfied: executing in /opt/anaconda3/envs/cdapython/lib/python3.13/site-packages (from stack-data->ipython>=5.3.0->pyvis->fhir-aggregator-client) (0.8.3)\n",
      "Requirement already satisfied: asttokens in /opt/anaconda3/envs/cdapython/lib/python3.13/site-packages (from stack-data->ipython>=5.3.0->pyvis->fhir-aggregator-client) (2.0.5)\n",
      "Requirement already satisfied: pure-eval in /opt/anaconda3/envs/cdapython/lib/python3.13/site-packages (from stack-data->ipython>=5.3.0->pyvis->fhir-aggregator-client) (0.2.2)\n",
      "Note: you may need to restart the kernel to use updated packages.\n"
     ]
    }
   ],
   "source": [
    "pip install fhir-aggregator-client\n"
   ]
  },
  {
   "cell_type": "code",
   "execution_count": 7,
   "metadata": {},
   "outputs": [
    {
     "name": "stdout",
     "output_type": "stream",
     "text": [
      "env: FHIR_BASE=https://google-fhir.fhir-aggregator.org\n"
     ]
    }
   ],
   "source": [
    "%env FHIR_BASE=https://google-fhir.fhir-aggregator.org"
   ]
  },
  {
   "cell_type": "markdown",
   "metadata": {},
   "source": [
    "Get a list of searchable CDA tables"
   ]
  },
  {
   "cell_type": "code",
   "execution_count": 8,
   "metadata": {},
   "outputs": [
    {
     "name": "stdout",
     "output_type": "stream",
     "text": [
      "\u001b[0m\u001b[K\u001b[0m\u001b[?25h\u001b[0m\u001b[32m✔\u001b[39m Wrote 21745 vocabularies to vocabulary.tsv\n",
      "\u001b[0m\u001b[K\u001b[0m\u001b[?25h\u001b[0m\u001b[0m"
     ]
    }
   ],
   "source": [
    "!fq vocabulary vocabulary.tsv --fhir-base-url $FHIR_BASE"
   ]
  }
 ],
 "metadata": {
  "kernelspec": {
   "display_name": "Python 3 (ipykernel)",
   "language": "python",
   "name": "python3"
  },
  "language_info": {
   "codemirror_mode": {
    "name": "ipython",
    "version": 3
   },
   "file_extension": ".py",
   "mimetype": "text/x-python",
   "name": "python",
   "nbconvert_exporter": "python",
   "pygments_lexer": "ipython3",
   "version": "3.13.1"
  }
 },
 "nbformat": 4,
 "nbformat_minor": 4
}
