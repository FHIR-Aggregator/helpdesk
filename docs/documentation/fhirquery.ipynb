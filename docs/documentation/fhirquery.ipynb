{
 "cells": [
  {
   "cell_type": "markdown",
   "id": "9d41b980",
   "metadata": {},
   "source": [
    "# Using fhir-query"
   ]
  },
  {
   "cell_type": "markdown",
   "id": "a7b05ce3",
   "metadata": {},
   "source": [
    "## fq (fhir-query): Your FHIR Querying Assistant\n",
    "The fq utility, short for \"fhir-query,\" is a command-line tool specifically designed to simplify the process of interacting with FHIR servers. It provides researchers with a convenient way to:\n",
    "\n",
    "1. Retrieve the vocabulary of a FHIR server: With the vocabulary command, fq fetches and summarizes the key data elements (CodeableConcepts and Extensions) used within the FHIR data. This creates a central vocabulary Dataframe that helps researchers identify important data elements and their usage within the server.\n",
    "\n",
    "\n",
    "2. Execute queries to retrieve FHIR resources: Researchers can then use fq to execute FHIR queries using a readable syntax. This helps to retrieve and filter data from the FHIR Server based on various search parameters and criteria."
   ]
  },
  {
   "cell_type": "code",
   "execution_count": 4,
   "id": "55d402b9",
   "metadata": {},
   "outputs": [],
   "source": [
    "!pip install fhir-aggregator-client --no-cache-dir --quiet"
   ]
  },
  {
   "cell_type": "code",
   "execution_count": 5,
   "id": "bd1e35f4",
   "metadata": {},
   "outputs": [
    {
     "name": "stdout",
     "output_type": "stream",
     "text": [
      "Usage: fq [OPTIONS] COMMAND [ARGS]...\n",
      "\n",
      "  Run FHIR GraphDefinition traversal.\n",
      "\n",
      "Options:\n",
      "  --help  Show this message and exit.\n",
      "\n",
      "Commands:\n",
      "  main*       Run FHIR GraphDefinition traversal.\n",
      "  dataframe   Create dataframes from the local db.\n",
      "  summarize   Summarize the aggregation results.\n",
      "  visualize   Visualize the aggregation results.\n",
      "  vocabulary  Retrieve Vocabulary Observation and ResearchStudy resources...\n"
     ]
    }
   ],
   "source": [
    "!fq"
   ]
  },
  {
   "cell_type": "markdown",
   "id": "570622ec",
   "metadata": {},
   "source": [
    "### Overview  \n",
    "\n",
    "This notebook leverages **[FHIR GraphDefinition](https://hl7.org/fhir/graphdefinition.html)** objects to define and execute graph-based traversals across multiple interconnected FHIR resource graphs. The data retrieved is written to a **local SQLite database** for persistence and later transformed into **analyst-friendly dataframes** for analysis using tools like Python’s pandas library.\n",
    "\n",
    "By using **FHIR GraphDefinition**, we declaratively define resource relationships and efficiently retrieve data. Once retrieved, the data is stored locally and can be transformed into dataframes for advanced analysis.\n",
    "\n",
    "The [fhir-aggregator-client](https://github.com/FHIR-Aggregator/fhir-aggregator-client) tool runs an R5 GraphDefinition against a FHIR server"
   ]
  },
  {
   "cell_type": "markdown",
   "id": "bc341858-80cf-424d-9316-42a4a9d69bd2",
   "metadata": {},
   "source": [
    "### Key Features  \n",
    "\n",
    "- **GraphDefinition-Driven Traversals**: Use GraphDefinition objects to define explicit relationships between resources and automate traversal logic.  \n",
    "- **Local SQLite Storage**: Persist the retrieved FHIR data in a local SQLite database for querying and offline analysis.  \n",
    "- **Analyst-Friendly Dataframes**: Convert stored FHIR resources into pandas dataframes for ease of use in analytical workflows.  \n",
    "- **Reusable Graph Definitions**: Maintain a library of GraphDefinition YAML files that can be reused across different workflows and projects.  Researchers and Data submitters can publish GraphDefinition files to help others navigate their data."
   ]
  },
  {
   "cell_type": "markdown",
   "id": "e026d28d",
   "metadata": {},
   "source": [
    "### Run a GraphDefinition"
   ]
  },
  {
   "cell_type": "code",
   "execution_count": 16,
   "id": "57469855",
   "metadata": {},
   "outputs": [
    {
     "name": "stderr",
     "output_type": "stream",
     "text": [
      "Traceback (most recent call last):\n",
      "  File \"<frozen runpy>\", line 198, in _run_module_as_main\n",
      "  File \"<frozen runpy>\", line 88, in _run_code\n",
      "  File \"C:\\Users\\Parker.Gray\\AppData\\Local\\Programs\\Python\\Python313\\Scripts\\fq.exe\\__main__.py\", line 7, in <module>\n",
      "    sys.exit(cli.cli())\n",
      "             ~~~~~~~^^\n",
      "  File \"C:\\Users\\Parker.Gray\\AppData\\Local\\Programs\\Python\\Python313\\Lib\\site-packages\\click\\core.py\", line 1161, in __call__\n",
      "    return self.main(*args, **kwargs)\n",
      "           ~~~~~~~~~^^^^^^^^^^^^^^^^^\n",
      "  File \"C:\\Users\\Parker.Gray\\AppData\\Local\\Programs\\Python\\Python313\\Lib\\site-packages\\click\\core.py\", line 1082, in main\n",
      "    rv = self.invoke(ctx)\n",
      "  File \"C:\\Users\\Parker.Gray\\AppData\\Local\\Programs\\Python\\Python313\\Lib\\site-packages\\click\\core.py\", line 1697, in invoke\n",
      "    return _process_result(sub_ctx.command.invoke(sub_ctx))\n",
      "                           ~~~~~~~~~~~~~~~~~~~~~~^^^^^^^^^\n",
      "  File \"C:\\Users\\Parker.Gray\\AppData\\Local\\Programs\\Python\\Python313\\Lib\\site-packages\\click\\core.py\", line 1443, in invoke\n",
      "    return ctx.invoke(self.callback, **ctx.params)\n",
      "           ~~~~~~~~~~^^^^^^^^^^^^^^^^^^^^^^^^^^^^^\n",
      "  File \"C:\\Users\\Parker.Gray\\AppData\\Local\\Programs\\Python\\Python313\\Lib\\site-packages\\click\\core.py\", line 788, in invoke\n",
      "    return __callback(*args, **kwargs)\n",
      "  File \"C:\\Users\\Parker.Gray\\AppData\\Local\\Programs\\Python\\Python313\\Lib\\site-packages\\fhir_query\\cli.py\", line 61, in main\n",
      "    runner = GraphDefinitionRunner(fhir_base_url, db_path, debug)\n",
      "  File \"C:\\Users\\Parker.Gray\\AppData\\Local\\Programs\\Python\\Python313\\Lib\\site-packages\\fhir_query\\__init__.py\", line 242, in __init__\n",
      "    super().__init__(db_path)\n",
      "    ~~~~~~~~~~~~~~~~^^^^^^^^^\n",
      "  File \"C:\\Users\\Parker.Gray\\AppData\\Local\\Programs\\Python\\Python313\\Lib\\site-packages\\fhir_query\\__init__.py\", line 44, in __init__\n",
      "    self.connection = sqlite3.connect(db_path)\n",
      "                      ~~~~~~~~~~~~~~~^^^^^^^^^\n",
      "sqlite3.OperationalError: unable to open database file\n"
     ]
    }
   ],
   "source": [
    "!fq --fhir-base-url https://google-fhir.fhir-aggregator.org --graph-definition-id '/Condition?code:text=cholangiocarcinoma'"
   ]
  },
  {
   "cell_type": "markdown",
   "id": "714f336e",
   "metadata": {},
   "source": [
    "#### Analyse Results\n",
    "\n",
    "The graph represents relationships between different FHIR resources.Examples of FHIR resources include Patient, Condition, Observation, Procedure, etc.\n",
    "\n",
    "Each node is labled as: <resource_type\\>/<count\\> the number of records of that type retrieved.\n",
    "\n",
    "The edges in the graph are weighted.  The thicker the line, the more connections there are between nodes."
   ]
  },
  {
   "cell_type": "code",
   "execution_count": null,
   "id": "1c5a4b81",
   "metadata": {},
   "outputs": [],
   "source": [
    "# Create a graph of the results\n",
    "!fq results visualize"
   ]
  },
  {
   "cell_type": "code",
   "execution_count": null,
   "id": "12238bee",
   "metadata": {},
   "outputs": [],
   "source": [
    "# Read the locally stored HTML file containing a graph visualization and displaying it within the Jupyter notebook.\n",
    "\n",
    "from IPython.display import HTML\n",
    "with open('fhir-graph.html', 'r') as file:\n",
    "    html_content = file.read()\n",
    "\n",
    "# Set the display height (in pixels)\n",
    "display(HTML(\"<div style='height: 800px;'>{}</div>\".format(html_content)))"
   ]
  },
  {
   "cell_type": "markdown",
   "id": "4345a16d",
   "metadata": {},
   "source": [
    "#### Create a dataframe of results"
   ]
  },
  {
   "cell_type": "code",
   "execution_count": null,
   "id": "56051779",
   "metadata": {},
   "outputs": [],
   "source": [
    "!fq results dataframe"
   ]
  },
  {
   "cell_type": "code",
   "execution_count": null,
   "id": "bc6862c1",
   "metadata": {},
   "outputs": [],
   "source": [
    "import pandas as pd \n",
    "df = pd.read_csv('fhir-graph.tsv', sep='\\t')\n",
    "df"
   ]
  },
  {
   "cell_type": "markdown",
   "id": "bd9d44d0",
   "metadata": {},
   "source": [
    "### Other servers\n",
    "\n",
    "You can use the `fq` tool with other FHIR servers.  For example, this query retrieves a study from `dbGAP`."
   ]
  },
  {
   "cell_type": "code",
   "execution_count": null,
   "id": "740c86c5",
   "metadata": {},
   "outputs": [],
   "source": [
    "# delete the previous results, start with a fresh database\n",
    "!rm ~/.fhir-aggregator/fhir-graph.sqlite\n",
    "!fq run  --fhir-base-url https://dbgap-api.ncbi.nlm.nih.gov/fhir-jpa-pilot/x1  research-study-link-iterate  '/ResearchStudy?_id=phs001232'"
   ]
  },
  {
   "cell_type": "code",
   "execution_count": null,
   "id": "e22a980d",
   "metadata": {},
   "outputs": [],
   "source": [
    "# use the same commands to analyse results\n",
    "!fq results visualize"
   ]
  },
  {
   "cell_type": "code",
   "execution_count": null,
   "id": "bba2e679",
   "metadata": {},
   "outputs": [],
   "source": [
    "# create a graph of the results\n",
    "\n",
    "from IPython.display import HTML\n",
    "with open('fhir-graph.html', 'r') as file:\n",
    "    html_content = file.read()\n",
    "\n",
    "# Set the display height (in pixels)\n",
    "display(HTML(\"<div style='height: 800px;'>{}</div>\".format(html_content)))"
   ]
  },
  {
   "cell_type": "code",
   "execution_count": null,
   "id": "5d727347",
   "metadata": {},
   "outputs": [],
   "source": [
    "# create a dataframe of results\n",
    "!fq results dataframe"
   ]
  },
  {
   "cell_type": "code",
   "execution_count": null,
   "id": "1d5fe7d9",
   "metadata": {},
   "outputs": [],
   "source": [
    "import pandas as pd\n",
    "\n",
    "df = pd.read_csv('fhir-graph.tsv', sep='\\t')\n",
    "\n",
    "df"
   ]
  }
 ],
 "metadata": {
  "kernelspec": {
   "display_name": "Python 3 (ipykernel)",
   "language": "python",
   "name": "python3"
  },
  "language_info": {
   "codemirror_mode": {
    "name": "ipython",
    "version": 3
   },
   "file_extension": ".py",
   "mimetype": "text/x-python",
   "name": "python",
   "nbconvert_exporter": "python",
   "pygments_lexer": "ipython3",
   "version": "3.13.2"
  }
 },
 "nbformat": 4,
 "nbformat_minor": 5
}
