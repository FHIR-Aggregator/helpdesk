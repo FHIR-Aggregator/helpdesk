{
 "cells": [
  {
   "cell_type": "markdown",
   "id": "afb07a33-92fe-4f37-87a3-96308aaba1b7",
   "metadata": {},
   "source": [
    "# Using the fhir-query tool\n",
    "\n",
    "## FHIR-Aggregator: A Catalog of Research Data\n",
    "The FHIR Aggregator acts as a centralized repository for diverse healthcare data, organized using the FHIR (Fast Healthcare Interoperability Resources) standard. It provides researchers access to a wide range of information, including:\n",
    "\n",
    "* Clinical data: Patient demographics, conditions, medications, observations, and procedures.\n",
    "* Research studies: Information about research projects, participants, and study protocols.\n",
    "* OMICS data associated with Specimens\n"
   ]
  },
  {
   "cell_type": "markdown",
   "id": "c0f659e2-4294-4e6b-b376-76ee25546d67",
   "metadata": {},
   "source": [
    "## fq (fhir-query): Your FHIR Querying Assistant\n",
    "The fq utility, short for \"fhir-query,\" is a command-line tool specifically designed to simplify the process of interacting with FHIR servers. It provides researchers with a convenient way to:\n",
    "\n",
    "1. Retrieve the vocabulary of a FHIR server: With the vocabulary command, fq fetches and summarizes the key data elements (CodeableConcepts and Extensions) used within the FHIR data. This creates a central vocabulary Dataframe that helps researchers identify important data elements and their usage within the server.\n",
    "\n",
    "\n",
    "2. Execute queries to retrieve FHIR resources: Researchers can then use fq to execute FHIR queries using a readable syntax. This helps to retrieve and filter data from the FHIR Server based on various search parameters and criteria.\n",
    "\n",
    "## Install the query tool\n",
    "\n",
    "```\n",
    "!pip install fhir-aggregator-client==0.1.8rc8 --no-cache-dir --quiet\n",
    "\n",
    "```\n",
    "### Check the version\n",
    "\n",
    "```\n",
    "!pip freeze | grep fhir_aggregator_client\n",
    "```\n",
    "\n",
    "### Verify the install\n",
    "\n",
    "```bash {title=\"command line\"}\n",
    "fq\n",
    "```\n",
    "\n",
    "```python {title=\"ipython\"}\n",
    "!fq\n",
    "```\n",
    "\n",
    "```python {title=\"python\"}\n",
    "import os\n",
    "os.system('fq')\n",
    "```"
   ]
  },
  {
   "cell_type": "markdown",
   "id": "bc341858-80cf-424d-9316-42a4a9d69bd2",
   "metadata": {},
   "source": [
    "## Utilizing FHIR GraphDefinition\n",
    "We can use **[FHIR GraphDefinition](https://hl7.org/fhir/graphdefinition.html)** objects to define and execute graph-based traversals across multiple interconnected FHIR resource graphs. The data retrieved is written to a **local SQLite database** for persistence and later transformed into **analyst-friendly dataframes** for analysis using tools like Python’s pandas library. fhir-query comes with some **GraphDefinitions** pre-installed."
   ]
  },
  {
   "cell_type": "code",
   "execution_count": null,
   "id": "0278b92c",
   "metadata": {},
   "outputs": [],
   "source": [
    "!fq ls --fhir_base_url https://google-fhir.fhir-aggregator.org"
   ]
  },
  {
   "cell_type": "markdown",
   "id": "c73795fc",
   "metadata": {},
   "source": [
    "#### Run a GraphDefinition"
   ]
  },
  {
   "cell_type": "code",
   "execution_count": null,
   "id": "08933ae5",
   "metadata": {},
   "outputs": [],
   "source": [
    "!fq run condition-graph '/Condition?code:text=cholangiocarcinoma' --fhir_base_url https://google-fhir.fhir-aggregator.org"
   ]
  },
  {
   "cell_type": "markdown",
   "id": "e77286fa",
   "metadata": {},
   "source": [
    "### Visualize Results"
   ]
  },
  {
   "cell_type": "code",
   "execution_count": null,
   "id": "f89bf04c",
   "metadata": {},
   "outputs": [],
   "source": [
    "!fq results visualize --fhir_base_url https://google-fhir.fhir-aggregator.org"
   ]
  },
  {
   "cell_type": "code",
   "execution_count": null,
   "id": "ab3486dc",
   "metadata": {},
   "outputs": [],
   "source": [
    "# create a graph of the results\n",
    "\n",
    "from IPython.display import HTML\n",
    "with open('fhir-graph.html', 'r') as file:\n",
    "    html_content = file.read()\n",
    "\n",
    "# Set the display height (in pixels)\n",
    "display(HTML(\"<div style='height: 800px;'>{}</div>\".format(html_content)))"
   ]
  },
  {
   "cell_type": "markdown",
   "id": "8540e592",
   "metadata": {},
   "source": [
    "### Create a dataframe of results"
   ]
  },
  {
   "cell_type": "code",
   "execution_count": null,
   "id": "c560a0ef",
   "metadata": {},
   "outputs": [],
   "source": [
    "!fq results dataframe --fhir_base_url https://google-fhir.fhir-aggregator.org"
   ]
  },
  {
   "cell_type": "code",
   "execution_count": null,
   "id": "4dd42c0d",
   "metadata": {},
   "outputs": [],
   "source": [
    "import pandas as pd\n",
    "\n",
    "df = pd.read_csv('fhir-graph.tsv', sep='\\t')\n",
    "\n",
    "df"
   ]
  },
  {
   "cell_type": "markdown",
   "id": "09edbfa5",
   "metadata": {},
   "source": [
    "## Using fhir-query with other servers\n",
    "You can use `fq` with other FHIR servers. The below example retrieves a study from dbGAP."
   ]
  },
  {
   "cell_type": "code",
   "execution_count": null,
   "id": "a56b1239",
   "metadata": {},
   "outputs": [],
   "source": [
    "# delete the previous results, start with a fresh database\n",
    "!rm ~/.fhir-aggregator/fhir-graph.sqlite\n",
    "!fq run  --fhir-base-url https://dbgap-api.ncbi.nlm.nih.gov/fhir-jpa-pilot/x1  research-study-link-iterate  '/ResearchStudy?_id=phs001232'"
   ]
  },
  {
   "cell_type": "code",
   "execution_count": null,
   "id": "e5a78fe0",
   "metadata": {},
   "outputs": [],
   "source": [
    "# use the same commands to analyse results\n",
    "!fq results visualize"
   ]
  },
  {
   "cell_type": "code",
   "execution_count": null,
   "id": "d547fa13",
   "metadata": {},
   "outputs": [],
   "source": [
    "# create a graph of the results\n",
    "\n",
    "from IPython.display import HTML\n",
    "with open('fhir-graph.html', 'r') as file:\n",
    "    html_content = file.read()\n",
    "\n",
    "# Set the display height (in pixels)\n",
    "display(HTML(\"<div style='height: 800px;'>{}</div>\".format(html_content)))"
   ]
  },
  {
   "cell_type": "code",
   "execution_count": null,
   "id": "3adfba87",
   "metadata": {},
   "outputs": [],
   "source": [
    "# create a dataframe of results\n",
    "!fq results dataframe"
   ]
  },
  {
   "cell_type": "code",
   "execution_count": null,
   "id": "dda96e76",
   "metadata": {},
   "outputs": [],
   "source": [
    "import pandas as pd\n",
    "\n",
    "df = pd.read_csv('fhir-graph.tsv', sep='\\t')\n",
    "\n",
    "df"
   ]
  },
  {
   "cell_type": "markdown",
   "id": "35074ab3",
   "metadata": {},
   "source": [
    "## Start to Finish Example: Plotting Survival Curves with fhir-query\n",
    "In this example, we'll look through the TCGA ResearchStudy for breast cancer patients and divide these patients into two cohors, White & Under 50 and African American & Under 50. After obtaining the necessary slices we'll compare the Kaplan-Meier curves of the two cohorts."
   ]
  },
  {
   "cell_type": "code",
   "execution_count": null,
   "id": "61ce5430",
   "metadata": {},
   "outputs": [],
   "source": [
    "!pip install lifelines -q"
   ]
  },
  {
   "cell_type": "markdown",
   "id": "8c6333f4",
   "metadata": {},
   "source": [
    "We provide our own GraphDefinition here."
   ]
  },
  {
   "cell_type": "code",
   "execution_count": null,
   "id": "a638b0bb",
   "metadata": {},
   "outputs": [],
   "source": [
    "!wget https://raw.githubusercontent.com/FHIR-Aggregator/fhir-query/refs/heads/main/graph-definitions/R5/ResearchStudyGraph.yaml"
   ]
  },
  {
   "cell_type": "markdown",
   "id": "b9965516",
   "metadata": {},
   "source": [
    "### Export TCGA-BRCA data to a local database and create a dataframe"
   ]
  },
  {
   "cell_type": "code",
   "execution_count": null,
   "id": "157d5aa9",
   "metadata": {},
   "outputs": [],
   "source": [
    "%env  FHIR_BASE=https://google-fhir.fhir-aggregator.org\n",
    "# export a study using a set of stored queries\n",
    "!fq --fhir-base-url $FHIR_BASE  --graph-definition-file-path  ResearchStudyGraph.yaml  --path '/ResearchStudy?identifier=TCGA-BRCA'\n",
    "!fq dataframe"
   ]
  },
  {
   "cell_type": "markdown",
   "id": "4d1b57e7",
   "metadata": {},
   "source": [
    "### Survival analysis\n",
    "After retrieving the data, we use the previous installed library lifelines to plot Kaplan-Meier curves of the two cohorts."
   ]
  },
  {
   "cell_type": "code",
   "execution_count": null,
   "id": "402da589",
   "metadata": {},
   "outputs": [],
   "source": [
    "import pandas as pd\n",
    "import numpy as np\n",
    "import matplotlib.pyplot as plt\n",
    "from lifelines import KaplanMeierFitter\n",
    "kmf = KaplanMeierFitter()\n",
    "\n",
    "# read the data into a dataframe\n",
    "df = pd.read_csv('/tmp/fhir-graph.tsv')\n",
    "\n",
    "# get days to death data in the necessary formay\n",
    "df['days_to_death'] = (\n",
    "    df['patient_observation_days_between_diagnosis_and_death']\n",
    "    .str.replace(' days', '', regex=False)\n",
    "    .replace('', np.nan)\n",
    "    .astype(float)\n",
    ")\n",
    "# get age data in the necessary format\n",
    "df['age_at_diagnosis'] = (\n",
    "    df['patient_observation_days_between_birth_and_diagnosis']\n",
    "    .str.replace(' days', '', regex=False)\n",
    "    .replace('', np.nan)\n",
    "    .astype(float)\n",
    ")\n",
    "\n",
    "# group by patient_id\n",
    "df_unique = df.drop_duplicates(subset=['patient_id'])"
   ]
  },
  {
   "cell_type": "code",
   "execution_count": null,
   "id": "bd394d31",
   "metadata": {},
   "outputs": [],
   "source": [
    "df_cohort = df_unique[ (df_unique['age_at_diagnosis'] >= -50*365 )\n",
    "                      & (df_unique['patient_us_core_race'].isin(['black or african american','white']) )\n",
    "                      & (df_unique['patient_us_core_ethnicity'] == 'not hispanic or latino')   ]"
   ]
  },
  {
   "cell_type": "code",
   "execution_count": null,
   "id": "88d159a2",
   "metadata": {},
   "outputs": [],
   "source": [
    "# Fill in NAs in days_to_death with the max from the days to death\n",
    "T = df_cohort['days_to_death'].fillna(df_cohort['days_to_death'].max())\n",
    "\n",
    "# Convert the vital status to numbers\n",
    "E = df_cohort['patient_deceasedBoolean'].astype(bool)"
   ]
  },
  {
   "cell_type": "code",
   "execution_count": null,
   "id": "cd695048",
   "metadata": {},
   "outputs": [],
   "source": [
    "fig=plt.figure(figsize=(13, 8), dpi= 80)\n",
    "#plt.style.use('seaborn-colorblind')\n",
    "ax = plt.subplot(111,\n",
    "                 title = \"Survival Curve\")\n",
    "\n",
    "for r in  df_cohort['patient_us_core_race'].sort_values().unique() :\n",
    "  if (r != None):\n",
    "    cohort = df_cohort['patient_us_core_race'] == r\n",
    "    kmf.fit(T.loc[cohort], E.loc[cohort], label=r)\n",
    "    kmf.plot(ax=ax, )\n",
    "  else:\n",
    "    print(\"\")\n",
    "\n",
    "ax.set_ylabel(\"Percent Survival\")\n",
    "ax.set_xlabel(\"Days\")"
   ]
  }
 ],
 "metadata": {
  "kernelspec": {
   "display_name": "Python 3 (ipykernel)",
   "language": "python",
   "name": "python3"
  },
  "language_info": {
   "codemirror_mode": {
    "name": "ipython",
    "version": 3
   },
   "file_extension": ".py",
   "mimetype": "text/x-python",
   "name": "python",
   "nbconvert_exporter": "python",
   "pygments_lexer": "ipython3",
   "version": "3.13.2"
  }
 },
 "nbformat": 4,
 "nbformat_minor": 5
}
