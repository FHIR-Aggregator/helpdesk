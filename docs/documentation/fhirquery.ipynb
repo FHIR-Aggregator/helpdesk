{
 "cells": [
  {
   "cell_type": "markdown",
   "id": "afb07a33-92fe-4f37-87a3-96308aaba1b7",
   "metadata": {},
   "source": [
    "# Using the fhir-query tool\n",
    "\n",
    "## FHIR-Aggregator: A Catalog of Research Data\n",
    "The FHIR Aggregator acts as a centralized repository for diverse healthcare data, organized using the FHIR (Fast Healthcare Interoperability Resources) standard. It provides researchers access to a wide range of information, including:\n",
    "\n",
    "* Clinical data: Patient demographics, conditions, medications, observations, and procedures.\n",
    "* Research studies: Information about research projects, participants, and study protocols.\n",
    "* OMICS data associated with Specimens\n"
   ]
  },
  {
   "cell_type": "markdown",
   "id": "c0f659e2-4294-4e6b-b376-76ee25546d67",
   "metadata": {},
   "source": [
    "# Quick Start\n",
    "\n",
    "## Install the query tool\n",
    "\n",
    "```\n",
    "!pip install fhir-aggregator-client --no-cache-dir --quiet\n",
    "\n",
    "```\n",
    "### Check the version\n",
    "\n",
    "```\n",
    "!pip freeze | grep fhir_aggregator_client\n",
    "```\n",
    "\n",
    "### Verify the install\n",
    "\n",
    "```bash {title=\"command line\"}\n",
    "fq\n",
    "```\n",
    "\n",
    "```python {title=\"ipython\"}\n",
    "!fq\n",
    "```\n",
    "\n",
    "```python {title=\"python\"}\n",
    "import os\n",
    "os.system('fq')\n",
    "```\n",
    "\n",
    "## Run a query\n",
    "\n",
    "```\n",
    "!fq --fhir-base-url $FHIR_BASE  --graph-definition-file-path  ResearchStudyGraph.yaml  --path '/ResearchStudy?identifier=TCGA-BRCA'\n",
    "```\n"
   ]
  },
  {
   "cell_type": "markdown",
   "id": "bc341858-80cf-424d-9316-42a4a9d69bd2",
   "metadata": {},
   "source": [
    "### Install the query tool\n",
    "\n",
    "#### fq (fhir-query): Your FHIR Querying Assistant\n",
    "The fq utility, short for \"fhir-query,\" is a command-line tool specifically designed to simplify the process of interacting with FHIR servers. It provides researchers with a convenient way to:\n",
    "\n",
    "1. Retrieve the vocabulary of a FHIR server: With the vocabulary command, fq fetches and summarizes the key data elements (CodeableConcepts and Extensions) used within the FHIR data. This creates a central vocabulary Dataframe that helps researchers identify important data elements and their usage within the server.\n",
    "\n",
    "\n",
    "2. Execute queries to retrieve FHIR resources: Researchers can then use fq to execute FHIR queries using a readable syntax. This helps to retrieve and filter data from the FHIR Server based on various search parameters and criteria.\n",
    "\n",
    "#### jq: Your JSON Navigator\n",
    "The jq utility is a lightweight and flexible command-line JSON processor. It's like a Swiss Army knife for working with JSON data, and it is used here to help organize the responses from the FHIR server in a readable way."
   ]
  }
 ],
 "metadata": {
  "kernelspec": {
   "display_name": "Python 3 (ipykernel)",
   "language": "python",
   "name": "python3"
  },
  "language_info": {
   "codemirror_mode": {
    "name": "ipython",
    "version": 3
   },
   "file_extension": ".py",
   "mimetype": "text/x-python",
   "name": "python",
   "nbconvert_exporter": "python",
   "pygments_lexer": "ipython3",
   "version": "3.13.1"
  }
 },
 "nbformat": 4,
 "nbformat_minor": 5
}
