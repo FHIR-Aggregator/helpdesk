{
 "cells": [
  {
   "cell_type": "markdown",
   "metadata": {},
   "source": [
    "# FHIR-Aggregator: A Catalog of Research Data\n",
    "The FHIR Aggregator acts as a centralized repository for diverse healthcare data, organized using the FHIR (Fast Healthcare Interoperability Resources) standard. It provides researchers access to a wide range of information, including:\n",
    "\n",
    "* Clinical data: Patient demographics, conditions, medications, observations, and procedures.\n",
    "* Research studies: Information about research projects, participants, and study protocols.\n",
    "* OMICS data associated with Specimens"
   ]
  },
  {
   "cell_type": "markdown",
   "metadata": {},
   "source": [
    "## Specify the endpoint\n",
    "* We need to select the FHIR Server's URL https://google-fhir.fhir-aggregator.org\n",
    "\n",
    "  * This line of code tells the notebook, \"Remember this address: https://google-fhir.fhir-aggregator.org, and label it FHIR_BASE. We'll use it later to talk to a server that stores healthcare data.\"\n",
    "\n",
    "  * By setting this environment variable, the URL to the FHIR Aggregator server is conveniently stored for later use within the notebook. This way you won't need to repeat the URL every time it's needed.\n",
    "\n",
    "* From there we have access to search the data in the server using FHIR queries"
   ]
  },
  {
   "cell_type": "code",
   "execution_count": 1,
   "metadata": {},
   "outputs": [
    {
     "name": "stdout",
     "output_type": "stream",
     "text": [
      "env: FHIR_BASE=https://google-fhir.fhir-aggregator.org\n"
     ]
    }
   ],
   "source": [
    "%env FHIR_BASE= https://google-fhir.fhir-aggregator.org"
   ]
  },
  {
   "cell_type": "markdown",
   "metadata": {},
   "source": [
    "## Example FHIR query\n",
    "\n",
    "Now that you have the endpoint, if you are comfortable with FHIR, that is all you need.  For example:\n",
    "\n",
    "This query returns the official [identifier](https://hl7.org/fhir/R4B/datatypes.html#Identifier) for all [ResearchStudy](https://hl7.org/fhir/R4B/researchstudy.html) resources.\n",
    "\n",
    "* $FHIR_BASE is the environment variable we set earlier, which holds the FHIR server's base URL. It's expanded to the actual URL during execution.\n",
    "* /ResearchStudy is the FHIR resource type we are interested in (in this case, \"ResearchStudy\").\n",
    "* ?_elements=identifier is a FHIR search parameter that limits the returned data to only include the 'identifier' element of the ResearchStudy resources."
   ]
  },
  {
   "cell_type": "code",
   "execution_count": 2,
   "metadata": {},
   "outputs": [
    {
     "name": "stderr",
     "output_type": "stream",
     "text": [
      "The system cannot find the path specified.\n",
      "'jq' is not recognized as an internal or external command,\n",
      "operable program or batch file.\n",
      "'identifier.use' is not recognized as an internal or external command,\n",
      "operable program or batch file.\n"
     ]
    }
   ],
   "source": [
    "# Install the jq json formatter tool\n",
    "!sudo -s apt-get install -yq jq > /dev/null\n",
    "!jq --version\n",
    "\n",
    "! curl -s $FHIR_BASE'/ResearchStudy?_elements=identifier&identifier.use=official' | jq -rc '.entry[] | [ (.resource.identifier[] | .value), .fullUrl]' | sort"
   ]
  },
  {
   "cell_type": "markdown",
   "metadata": {},
   "source": [
    "* Let's craft the code to query the FHIR server and load the results into a Pandas DataFrame."
   ]
  },
  {
   "cell_type": "code",
   "execution_count": 3,
   "metadata": {},
   "outputs": [
    {
     "name": "stdout",
     "output_type": "stream",
     "text": [
      "Found 151 ResearchStudy identifiers. Use the 'url' field to retrieve the data.\n"
     ]
    },
    {
     "data": {
      "text/html": [
       "<div>\n",
       "<style scoped>\n",
       "    .dataframe tbody tr th:only-of-type {\n",
       "        vertical-align: middle;\n",
       "    }\n",
       "\n",
       "    .dataframe tbody tr th {\n",
       "        vertical-align: top;\n",
       "    }\n",
       "\n",
       "    .dataframe thead th {\n",
       "        text-align: right;\n",
       "    }\n",
       "</style>\n",
       "<table border=\"1\" class=\"dataframe\">\n",
       "  <thead>\n",
       "    <tr style=\"text-align: right;\">\n",
       "      <th></th>\n",
       "      <th>system</th>\n",
       "      <th>use</th>\n",
       "      <th>value</th>\n",
       "      <th>url</th>\n",
       "    </tr>\n",
       "  </thead>\n",
       "  <tbody>\n",
       "    <tr>\n",
       "      <th>0</th>\n",
       "      <td>https://aced-idp.org/ICGC-LUCA_KR</td>\n",
       "      <td>official</td>\n",
       "      <td>ICGC-LUCA_KR</td>\n",
       "      <td>https://google-fhir.fhir-aggregator.org/Resear...</td>\n",
       "    </tr>\n",
       "    <tr>\n",
       "      <th>1</th>\n",
       "      <td>https://gtexportal.org/home/downloads/adult-gt...</td>\n",
       "      <td>NaN</td>\n",
       "      <td>GTEX_V10</td>\n",
       "      <td>https://google-fhir.fhir-aggregator.org/Resear...</td>\n",
       "    </tr>\n",
       "    <tr>\n",
       "      <th>2</th>\n",
       "      <td>https://https://ftp.1000genomes.ebi.ac.uk/vol1...</td>\n",
       "      <td>NaN</td>\n",
       "      <td>1KG</td>\n",
       "      <td>https://google-fhir.fhir-aggregator.org/Resear...</td>\n",
       "    </tr>\n",
       "    <tr>\n",
       "      <th>3</th>\n",
       "      <td>https://data.humantumoratlas.org</td>\n",
       "      <td>official</td>\n",
       "      <td>WUSTL</td>\n",
       "      <td>https://google-fhir.fhir-aggregator.org/Resear...</td>\n",
       "    </tr>\n",
       "    <tr>\n",
       "      <th>4</th>\n",
       "      <td>https://data.humantumoratlas.org</td>\n",
       "      <td>official</td>\n",
       "      <td>CHOP</td>\n",
       "      <td>https://google-fhir.fhir-aggregator.org/Resear...</td>\n",
       "    </tr>\n",
       "    <tr>\n",
       "      <th>...</th>\n",
       "      <td>...</td>\n",
       "      <td>...</td>\n",
       "      <td>...</td>\n",
       "      <td>...</td>\n",
       "    </tr>\n",
       "    <tr>\n",
       "      <th>146</th>\n",
       "      <td>https://gdc.cancer.gov/project</td>\n",
       "      <td>official</td>\n",
       "      <td>TARGET-ALL-P3</td>\n",
       "      <td>https://google-fhir.fhir-aggregator.org/Resear...</td>\n",
       "    </tr>\n",
       "    <tr>\n",
       "      <th>147</th>\n",
       "      <td>https://gdc.cancer.gov/project</td>\n",
       "      <td>official</td>\n",
       "      <td>TCGA-LUAD</td>\n",
       "      <td>https://google-fhir.fhir-aggregator.org/Resear...</td>\n",
       "    </tr>\n",
       "    <tr>\n",
       "      <th>148</th>\n",
       "      <td>https://gdc.cancer.gov/project</td>\n",
       "      <td>official</td>\n",
       "      <td>TCGA-COAD</td>\n",
       "      <td>https://google-fhir.fhir-aggregator.org/Resear...</td>\n",
       "    </tr>\n",
       "    <tr>\n",
       "      <th>149</th>\n",
       "      <td>https://gdc.cancer.gov/project</td>\n",
       "      <td>official</td>\n",
       "      <td>CGCI-BLGSP</td>\n",
       "      <td>https://google-fhir.fhir-aggregator.org/Resear...</td>\n",
       "    </tr>\n",
       "    <tr>\n",
       "      <th>150</th>\n",
       "      <td>https://gdc.cancer.gov/dbgap_accession_number</td>\n",
       "      <td>secondary</td>\n",
       "      <td>phs000527</td>\n",
       "      <td>https://google-fhir.fhir-aggregator.org/Resear...</td>\n",
       "    </tr>\n",
       "  </tbody>\n",
       "</table>\n",
       "<p>151 rows × 4 columns</p>\n",
       "</div>"
      ],
      "text/plain": [
       "                                                system        use  \\\n",
       "0                    https://aced-idp.org/ICGC-LUCA_KR   official   \n",
       "1    https://gtexportal.org/home/downloads/adult-gt...        NaN   \n",
       "2    https://https://ftp.1000genomes.ebi.ac.uk/vol1...        NaN   \n",
       "3                     https://data.humantumoratlas.org   official   \n",
       "4                     https://data.humantumoratlas.org   official   \n",
       "..                                                 ...        ...   \n",
       "146                     https://gdc.cancer.gov/project   official   \n",
       "147                     https://gdc.cancer.gov/project   official   \n",
       "148                     https://gdc.cancer.gov/project   official   \n",
       "149                     https://gdc.cancer.gov/project   official   \n",
       "150      https://gdc.cancer.gov/dbgap_accession_number  secondary   \n",
       "\n",
       "             value                                                url  \n",
       "0     ICGC-LUCA_KR  https://google-fhir.fhir-aggregator.org/Resear...  \n",
       "1         GTEX_V10  https://google-fhir.fhir-aggregator.org/Resear...  \n",
       "2              1KG  https://google-fhir.fhir-aggregator.org/Resear...  \n",
       "3            WUSTL  https://google-fhir.fhir-aggregator.org/Resear...  \n",
       "4             CHOP  https://google-fhir.fhir-aggregator.org/Resear...  \n",
       "..             ...                                                ...  \n",
       "146  TARGET-ALL-P3  https://google-fhir.fhir-aggregator.org/Resear...  \n",
       "147      TCGA-LUAD  https://google-fhir.fhir-aggregator.org/Resear...  \n",
       "148      TCGA-COAD  https://google-fhir.fhir-aggregator.org/Resear...  \n",
       "149     CGCI-BLGSP  https://google-fhir.fhir-aggregator.org/Resear...  \n",
       "150      phs000527  https://google-fhir.fhir-aggregator.org/Resear...  \n",
       "\n",
       "[151 rows x 4 columns]"
      ]
     },
     "metadata": {},
     "output_type": "display_data"
    }
   ],
   "source": [
    "import requests\n",
    "import pandas as pd\n",
    "import json\n",
    "\n",
    "# Assuming FHIR_BASE is already set as an environment variable\n",
    "fhir_base_url = %env FHIR_BASE\n",
    "\n",
    "# Define the API endpoint\n",
    "endpoint = f\"{fhir_base_url}/ResearchStudy?_elements=identifier&identifier.use=official\"\n",
    "\n",
    "# Make the request\n",
    "response = requests.get(endpoint)\n",
    "\n",
    "# Check for successful response\n",
    "if response.status_code == 200:\n",
    "    # Parse the JSON response\n",
    "    data = response.json()\n",
    "\n",
    "    # Extract identifiers\n",
    "    identifiers = []\n",
    "    for entry in data.get('entry', []):\n",
    "        resource = entry.get('resource', {})\n",
    "        for identifier in resource.get('identifier', []):\n",
    "            # add the url RearchStudy to the dataframe\n",
    "            identifier['url'] = entry.get('fullUrl')\n",
    "            identifiers.append(identifier)\n",
    "\n",
    "    # Create a Pandas DataFrame\n",
    "    print(f\"Found {len(identifiers)} ResearchStudy identifiers. Use the 'url' field to retrieve the data.\")\n",
    "    df = pd.DataFrame(identifiers)\n",
    "    display(df)  # Display the DataFrame\n",
    "else:\n",
    "    print(f\"Error: Request failed with status code {response.status_code}\")"
   ]
  },
  {
   "cell_type": "markdown",
   "metadata": {},
   "source": [
    "Explore the notebooks in the sidebar to learn about our command line tool fhir-query and our Vocabulary dataframe."
   ]
  }
 ],
 "metadata": {
  "kernelspec": {
   "display_name": "Python 3",
   "language": "python",
   "name": "python3"
  },
  "language_info": {
   "codemirror_mode": {
    "name": "ipython",
    "version": 3
   },
   "file_extension": ".py",
   "mimetype": "text/x-python",
   "name": "python",
   "nbconvert_exporter": "python",
   "pygments_lexer": "ipython3",
   "version": "3.13.2"
  }
 },
 "nbformat": 4,
 "nbformat_minor": 4
}
