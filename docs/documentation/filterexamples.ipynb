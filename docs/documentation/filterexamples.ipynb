{
 "cells": [
  {
   "cell_type": "code",
   "execution_count": 2,
   "id": "7b5f68d7",
   "metadata": {
    "tags": [
     "hide_code"
    ]
   },
   "outputs": [
    {
     "name": "stderr",
     "output_type": "stream",
     "text": [
      "The system cannot find the path specified.\n"
     ]
    }
   ],
   "source": [
    "!apt-get install -yq jq > /dev/null"
   ]
  },
  {
   "cell_type": "code",
   "execution_count": 3,
   "id": "853dd1f5-7b61-4022-8620-2a49f396d0f3",
   "metadata": {
    "tags": [
     "hide_code"
    ]
   },
   "outputs": [
    {
     "ename": "FileNotFoundError",
     "evalue": "[Errno 2] No such file or directory: 'vocabulary.tsv'",
     "output_type": "error",
     "traceback": [
      "\u001b[31m---------------------------------------------------------------------------\u001b[39m",
      "\u001b[31mFileNotFoundError\u001b[39m                         Traceback (most recent call last)",
      "\u001b[36mCell\u001b[39m\u001b[36m \u001b[39m\u001b[32mIn[3]\u001b[39m\u001b[32m, line 13\u001b[39m\n\u001b[32m     10\u001b[39m get_ipython().run_line_magic(\u001b[33m'\u001b[39m\u001b[33menv\u001b[39m\u001b[33m'\u001b[39m, \u001b[33m'\u001b[39m\u001b[33mFHIR_BASE= https://google-fhir.fhir-aggregator.org\u001b[39m\u001b[33m'\u001b[39m)\n\u001b[32m     12\u001b[39m get_ipython().system(\u001b[33m'\u001b[39m\u001b[33mfq vocabulary vocabulary.tsv --fhir-base-url $FHIR_BASE\u001b[39m\u001b[33m'\u001b[39m)\n\u001b[32m---> \u001b[39m\u001b[32m13\u001b[39m df = \u001b[43mpd\u001b[49m\u001b[43m.\u001b[49m\u001b[43mread_csv\u001b[49m\u001b[43m(\u001b[49m\u001b[33;43m'\u001b[39;49m\u001b[33;43mvocabulary.tsv\u001b[39;49m\u001b[33;43m'\u001b[39;49m\u001b[43m,\u001b[49m\u001b[43m \u001b[49m\u001b[43msep\u001b[49m\u001b[43m=\u001b[49m\u001b[33;43m'\u001b[39;49m\u001b[38;5;130;43;01m\\t\u001b[39;49;00m\u001b[33;43m'\u001b[39;49m\u001b[43m)\u001b[49m.fillna(\u001b[33m'\u001b[39m\u001b[33m'\u001b[39m)\n",
      "\u001b[36mFile \u001b[39m\u001b[32m~\\AppData\\Local\\Programs\\Python\\Python313\\Lib\\site-packages\\pandas\\io\\parsers\\readers.py:1026\u001b[39m, in \u001b[36mread_csv\u001b[39m\u001b[34m(filepath_or_buffer, sep, delimiter, header, names, index_col, usecols, dtype, engine, converters, true_values, false_values, skipinitialspace, skiprows, skipfooter, nrows, na_values, keep_default_na, na_filter, verbose, skip_blank_lines, parse_dates, infer_datetime_format, keep_date_col, date_parser, date_format, dayfirst, cache_dates, iterator, chunksize, compression, thousands, decimal, lineterminator, quotechar, quoting, doublequote, escapechar, comment, encoding, encoding_errors, dialect, on_bad_lines, delim_whitespace, low_memory, memory_map, float_precision, storage_options, dtype_backend)\u001b[39m\n\u001b[32m   1013\u001b[39m kwds_defaults = _refine_defaults_read(\n\u001b[32m   1014\u001b[39m     dialect,\n\u001b[32m   1015\u001b[39m     delimiter,\n\u001b[32m   (...)\u001b[39m\u001b[32m   1022\u001b[39m     dtype_backend=dtype_backend,\n\u001b[32m   1023\u001b[39m )\n\u001b[32m   1024\u001b[39m kwds.update(kwds_defaults)\n\u001b[32m-> \u001b[39m\u001b[32m1026\u001b[39m \u001b[38;5;28;01mreturn\u001b[39;00m \u001b[43m_read\u001b[49m\u001b[43m(\u001b[49m\u001b[43mfilepath_or_buffer\u001b[49m\u001b[43m,\u001b[49m\u001b[43m \u001b[49m\u001b[43mkwds\u001b[49m\u001b[43m)\u001b[49m\n",
      "\u001b[36mFile \u001b[39m\u001b[32m~\\AppData\\Local\\Programs\\Python\\Python313\\Lib\\site-packages\\pandas\\io\\parsers\\readers.py:620\u001b[39m, in \u001b[36m_read\u001b[39m\u001b[34m(filepath_or_buffer, kwds)\u001b[39m\n\u001b[32m    617\u001b[39m _validate_names(kwds.get(\u001b[33m\"\u001b[39m\u001b[33mnames\u001b[39m\u001b[33m\"\u001b[39m, \u001b[38;5;28;01mNone\u001b[39;00m))\n\u001b[32m    619\u001b[39m \u001b[38;5;66;03m# Create the parser.\u001b[39;00m\n\u001b[32m--> \u001b[39m\u001b[32m620\u001b[39m parser = \u001b[43mTextFileReader\u001b[49m\u001b[43m(\u001b[49m\u001b[43mfilepath_or_buffer\u001b[49m\u001b[43m,\u001b[49m\u001b[43m \u001b[49m\u001b[43m*\u001b[49m\u001b[43m*\u001b[49m\u001b[43mkwds\u001b[49m\u001b[43m)\u001b[49m\n\u001b[32m    622\u001b[39m \u001b[38;5;28;01mif\u001b[39;00m chunksize \u001b[38;5;129;01mor\u001b[39;00m iterator:\n\u001b[32m    623\u001b[39m     \u001b[38;5;28;01mreturn\u001b[39;00m parser\n",
      "\u001b[36mFile \u001b[39m\u001b[32m~\\AppData\\Local\\Programs\\Python\\Python313\\Lib\\site-packages\\pandas\\io\\parsers\\readers.py:1620\u001b[39m, in \u001b[36mTextFileReader.__init__\u001b[39m\u001b[34m(self, f, engine, **kwds)\u001b[39m\n\u001b[32m   1617\u001b[39m     \u001b[38;5;28mself\u001b[39m.options[\u001b[33m\"\u001b[39m\u001b[33mhas_index_names\u001b[39m\u001b[33m\"\u001b[39m] = kwds[\u001b[33m\"\u001b[39m\u001b[33mhas_index_names\u001b[39m\u001b[33m\"\u001b[39m]\n\u001b[32m   1619\u001b[39m \u001b[38;5;28mself\u001b[39m.handles: IOHandles | \u001b[38;5;28;01mNone\u001b[39;00m = \u001b[38;5;28;01mNone\u001b[39;00m\n\u001b[32m-> \u001b[39m\u001b[32m1620\u001b[39m \u001b[38;5;28mself\u001b[39m._engine = \u001b[38;5;28;43mself\u001b[39;49m\u001b[43m.\u001b[49m\u001b[43m_make_engine\u001b[49m\u001b[43m(\u001b[49m\u001b[43mf\u001b[49m\u001b[43m,\u001b[49m\u001b[43m \u001b[49m\u001b[38;5;28;43mself\u001b[39;49m\u001b[43m.\u001b[49m\u001b[43mengine\u001b[49m\u001b[43m)\u001b[49m\n",
      "\u001b[36mFile \u001b[39m\u001b[32m~\\AppData\\Local\\Programs\\Python\\Python313\\Lib\\site-packages\\pandas\\io\\parsers\\readers.py:1880\u001b[39m, in \u001b[36mTextFileReader._make_engine\u001b[39m\u001b[34m(self, f, engine)\u001b[39m\n\u001b[32m   1878\u001b[39m     \u001b[38;5;28;01mif\u001b[39;00m \u001b[33m\"\u001b[39m\u001b[33mb\u001b[39m\u001b[33m\"\u001b[39m \u001b[38;5;129;01mnot\u001b[39;00m \u001b[38;5;129;01min\u001b[39;00m mode:\n\u001b[32m   1879\u001b[39m         mode += \u001b[33m\"\u001b[39m\u001b[33mb\u001b[39m\u001b[33m\"\u001b[39m\n\u001b[32m-> \u001b[39m\u001b[32m1880\u001b[39m \u001b[38;5;28mself\u001b[39m.handles = \u001b[43mget_handle\u001b[49m\u001b[43m(\u001b[49m\n\u001b[32m   1881\u001b[39m \u001b[43m    \u001b[49m\u001b[43mf\u001b[49m\u001b[43m,\u001b[49m\n\u001b[32m   1882\u001b[39m \u001b[43m    \u001b[49m\u001b[43mmode\u001b[49m\u001b[43m,\u001b[49m\n\u001b[32m   1883\u001b[39m \u001b[43m    \u001b[49m\u001b[43mencoding\u001b[49m\u001b[43m=\u001b[49m\u001b[38;5;28;43mself\u001b[39;49m\u001b[43m.\u001b[49m\u001b[43moptions\u001b[49m\u001b[43m.\u001b[49m\u001b[43mget\u001b[49m\u001b[43m(\u001b[49m\u001b[33;43m\"\u001b[39;49m\u001b[33;43mencoding\u001b[39;49m\u001b[33;43m\"\u001b[39;49m\u001b[43m,\u001b[49m\u001b[43m \u001b[49m\u001b[38;5;28;43;01mNone\u001b[39;49;00m\u001b[43m)\u001b[49m\u001b[43m,\u001b[49m\n\u001b[32m   1884\u001b[39m \u001b[43m    \u001b[49m\u001b[43mcompression\u001b[49m\u001b[43m=\u001b[49m\u001b[38;5;28;43mself\u001b[39;49m\u001b[43m.\u001b[49m\u001b[43moptions\u001b[49m\u001b[43m.\u001b[49m\u001b[43mget\u001b[49m\u001b[43m(\u001b[49m\u001b[33;43m\"\u001b[39;49m\u001b[33;43mcompression\u001b[39;49m\u001b[33;43m\"\u001b[39;49m\u001b[43m,\u001b[49m\u001b[43m \u001b[49m\u001b[38;5;28;43;01mNone\u001b[39;49;00m\u001b[43m)\u001b[49m\u001b[43m,\u001b[49m\n\u001b[32m   1885\u001b[39m \u001b[43m    \u001b[49m\u001b[43mmemory_map\u001b[49m\u001b[43m=\u001b[49m\u001b[38;5;28;43mself\u001b[39;49m\u001b[43m.\u001b[49m\u001b[43moptions\u001b[49m\u001b[43m.\u001b[49m\u001b[43mget\u001b[49m\u001b[43m(\u001b[49m\u001b[33;43m\"\u001b[39;49m\u001b[33;43mmemory_map\u001b[39;49m\u001b[33;43m\"\u001b[39;49m\u001b[43m,\u001b[49m\u001b[43m \u001b[49m\u001b[38;5;28;43;01mFalse\u001b[39;49;00m\u001b[43m)\u001b[49m\u001b[43m,\u001b[49m\n\u001b[32m   1886\u001b[39m \u001b[43m    \u001b[49m\u001b[43mis_text\u001b[49m\u001b[43m=\u001b[49m\u001b[43mis_text\u001b[49m\u001b[43m,\u001b[49m\n\u001b[32m   1887\u001b[39m \u001b[43m    \u001b[49m\u001b[43merrors\u001b[49m\u001b[43m=\u001b[49m\u001b[38;5;28;43mself\u001b[39;49m\u001b[43m.\u001b[49m\u001b[43moptions\u001b[49m\u001b[43m.\u001b[49m\u001b[43mget\u001b[49m\u001b[43m(\u001b[49m\u001b[33;43m\"\u001b[39;49m\u001b[33;43mencoding_errors\u001b[39;49m\u001b[33;43m\"\u001b[39;49m\u001b[43m,\u001b[49m\u001b[43m \u001b[49m\u001b[33;43m\"\u001b[39;49m\u001b[33;43mstrict\u001b[39;49m\u001b[33;43m\"\u001b[39;49m\u001b[43m)\u001b[49m\u001b[43m,\u001b[49m\n\u001b[32m   1888\u001b[39m \u001b[43m    \u001b[49m\u001b[43mstorage_options\u001b[49m\u001b[43m=\u001b[49m\u001b[38;5;28;43mself\u001b[39;49m\u001b[43m.\u001b[49m\u001b[43moptions\u001b[49m\u001b[43m.\u001b[49m\u001b[43mget\u001b[49m\u001b[43m(\u001b[49m\u001b[33;43m\"\u001b[39;49m\u001b[33;43mstorage_options\u001b[39;49m\u001b[33;43m\"\u001b[39;49m\u001b[43m,\u001b[49m\u001b[43m \u001b[49m\u001b[38;5;28;43;01mNone\u001b[39;49;00m\u001b[43m)\u001b[49m\u001b[43m,\u001b[49m\n\u001b[32m   1889\u001b[39m \u001b[43m\u001b[49m\u001b[43m)\u001b[49m\n\u001b[32m   1890\u001b[39m \u001b[38;5;28;01massert\u001b[39;00m \u001b[38;5;28mself\u001b[39m.handles \u001b[38;5;129;01mis\u001b[39;00m \u001b[38;5;129;01mnot\u001b[39;00m \u001b[38;5;28;01mNone\u001b[39;00m\n\u001b[32m   1891\u001b[39m f = \u001b[38;5;28mself\u001b[39m.handles.handle\n",
      "\u001b[36mFile \u001b[39m\u001b[32m~\\AppData\\Local\\Programs\\Python\\Python313\\Lib\\site-packages\\pandas\\io\\common.py:873\u001b[39m, in \u001b[36mget_handle\u001b[39m\u001b[34m(path_or_buf, mode, encoding, compression, memory_map, is_text, errors, storage_options)\u001b[39m\n\u001b[32m    868\u001b[39m \u001b[38;5;28;01melif\u001b[39;00m \u001b[38;5;28misinstance\u001b[39m(handle, \u001b[38;5;28mstr\u001b[39m):\n\u001b[32m    869\u001b[39m     \u001b[38;5;66;03m# Check whether the filename is to be opened in binary mode.\u001b[39;00m\n\u001b[32m    870\u001b[39m     \u001b[38;5;66;03m# Binary mode does not support 'encoding' and 'newline'.\u001b[39;00m\n\u001b[32m    871\u001b[39m     \u001b[38;5;28;01mif\u001b[39;00m ioargs.encoding \u001b[38;5;129;01mand\u001b[39;00m \u001b[33m\"\u001b[39m\u001b[33mb\u001b[39m\u001b[33m\"\u001b[39m \u001b[38;5;129;01mnot\u001b[39;00m \u001b[38;5;129;01min\u001b[39;00m ioargs.mode:\n\u001b[32m    872\u001b[39m         \u001b[38;5;66;03m# Encoding\u001b[39;00m\n\u001b[32m--> \u001b[39m\u001b[32m873\u001b[39m         handle = \u001b[38;5;28;43mopen\u001b[39;49m\u001b[43m(\u001b[49m\n\u001b[32m    874\u001b[39m \u001b[43m            \u001b[49m\u001b[43mhandle\u001b[49m\u001b[43m,\u001b[49m\n\u001b[32m    875\u001b[39m \u001b[43m            \u001b[49m\u001b[43mioargs\u001b[49m\u001b[43m.\u001b[49m\u001b[43mmode\u001b[49m\u001b[43m,\u001b[49m\n\u001b[32m    876\u001b[39m \u001b[43m            \u001b[49m\u001b[43mencoding\u001b[49m\u001b[43m=\u001b[49m\u001b[43mioargs\u001b[49m\u001b[43m.\u001b[49m\u001b[43mencoding\u001b[49m\u001b[43m,\u001b[49m\n\u001b[32m    877\u001b[39m \u001b[43m            \u001b[49m\u001b[43merrors\u001b[49m\u001b[43m=\u001b[49m\u001b[43merrors\u001b[49m\u001b[43m,\u001b[49m\n\u001b[32m    878\u001b[39m \u001b[43m            \u001b[49m\u001b[43mnewline\u001b[49m\u001b[43m=\u001b[49m\u001b[33;43m\"\u001b[39;49m\u001b[33;43m\"\u001b[39;49m\u001b[43m,\u001b[49m\n\u001b[32m    879\u001b[39m \u001b[43m        \u001b[49m\u001b[43m)\u001b[49m\n\u001b[32m    880\u001b[39m     \u001b[38;5;28;01melse\u001b[39;00m:\n\u001b[32m    881\u001b[39m         \u001b[38;5;66;03m# Binary mode\u001b[39;00m\n\u001b[32m    882\u001b[39m         handle = \u001b[38;5;28mopen\u001b[39m(handle, ioargs.mode)\n",
      "\u001b[31mFileNotFoundError\u001b[39m: [Errno 2] No such file or directory: 'vocabulary.tsv'"
     ]
    }
   ],
   "source": [
    "%%capture [--no-stdout]\n",
    "import numpy as np\n",
    "import pandas as pd\n",
    "from itables import init_notebook_mode, show\n",
    "init_notebook_mode(all_interactive=True)\n",
    "import itables.options as opt\n",
    "\n",
    "opt.classes=\"display nowrap compact\"\n",
    "opt.buttons=[\"copyHtml5\", \"csvHtml5\", \"excelHtml5\"]\n",
    "opt.maxBytes=0\n",
    "%env FHIR_BASE= https://google-fhir.fhir-aggregator.org\n",
    "\n",
    "!fq vocabulary vocabulary.tsv --fhir-base-url $FHIR_BASE\n",
    "df = pd.read_csv('vocabulary.tsv', sep='\\t').fillna('')\n"
   ]
  },
  {
   "cell_type": "markdown",
   "id": "3ff65016-4256-4807-b543-19700eb9ad6b",
   "metadata": {},
   "source": [
    "# Vocabulary filtering examples\n",
    "\n",
    "It's easy enough to get a straightforward table response - just utilize Pandas to filter appropriately to your interest. Some examples below:\n",
    "\n",
    "# Exploring a study\n",
    "Finding the vocabulary specific study is easy - filter according to the identifier in the `research_study_identifiers` column."
   ]
  },
  {
   "cell_type": "code",
   "execution_count": null,
   "id": "4e3a0726-1220-45dc-b26c-fd7d0f8e71f2",
   "metadata": {},
   "outputs": [
    {
     "data": {
      "text/html": [
       "<table id=\"itables_87ec1f54_ff05_4ed0_a519_0abf1d796513\" class=\"display nowrap compact\" data-quarto-disable-processing=\"true\" style=\"table-layout:auto;width:auto;margin:auto;caption-side:bottom\">\n",
       "<thead>\n",
       "    <tr style=\"text-align: right;\">\n",
       "      <th></th>\n",
       "      <th>research_study_identifiers</th>\n",
       "      <th>path</th>\n",
       "      <th>extension_url</th>\n",
       "      <th>low</th>\n",
       "      <th>high</th>\n",
       "      <th>url</th>\n",
       "    </tr>\n",
       "  </thead><tbody><tr>\n",
       "<td style=\"vertical-align:middle; text-align:left\">\n",
       "<a href=https://mwouts.github.io/itables/><svg class=\"main-svg\" xmlns=\"http://www.w3.org/2000/svg\" xmlns:xlink=\"http://www.w3.org/1999/xlink\"\n",
       "width=\"64\" viewBox=\"0 0 500 400\" style=\"font-family: 'Droid Sans', sans-serif;\">\n",
       "    <g style=\"fill:#d9d7fc\">\n",
       "        <path d=\"M100,400H500V357H100Z\" />\n",
       "        <path d=\"M100,300H400V257H100Z\" />\n",
       "        <path d=\"M0,200H400V157H0Z\" />\n",
       "        <path d=\"M100,100H500V57H100Z\" />\n",
       "        <path d=\"M100,350H500V307H100Z\" />\n",
       "        <path d=\"M100,250H400V207H100Z\" />\n",
       "        <path d=\"M0,150H400V107H0Z\" />\n",
       "        <path d=\"M100,50H500V7H100Z\" />\n",
       "    </g>\n",
       "    <g style=\"fill:#1a1366;stroke:#1a1366;\">\n",
       "   <rect x=\"100\" y=\"7\" width=\"400\" height=\"43\">\n",
       "    <animate\n",
       "      attributeName=\"width\"\n",
       "      values=\"0;400;0\"\n",
       "      dur=\"5s\"\n",
       "      repeatCount=\"indefinite\" />\n",
       "      <animate\n",
       "      attributeName=\"x\"\n",
       "      values=\"100;100;500\"\n",
       "      dur=\"5s\"\n",
       "      repeatCount=\"indefinite\" />\n",
       "  </rect>\n",
       "        <rect x=\"0\" y=\"107\" width=\"400\" height=\"43\">\n",
       "    <animate\n",
       "      attributeName=\"width\"\n",
       "      values=\"0;400;0\"\n",
       "      dur=\"3.5s\"\n",
       "      repeatCount=\"indefinite\" />\n",
       "    <animate\n",
       "      attributeName=\"x\"\n",
       "      values=\"0;0;400\"\n",
       "      dur=\"3.5s\"\n",
       "      repeatCount=\"indefinite\" />\n",
       "  </rect>\n",
       "        <rect x=\"100\" y=\"207\" width=\"300\" height=\"43\">\n",
       "    <animate\n",
       "      attributeName=\"width\"\n",
       "      values=\"0;300;0\"\n",
       "      dur=\"3s\"\n",
       "      repeatCount=\"indefinite\" />\n",
       "    <animate\n",
       "      attributeName=\"x\"\n",
       "      values=\"100;100;400\"\n",
       "      dur=\"3s\"\n",
       "      repeatCount=\"indefinite\" />\n",
       "  </rect>\n",
       "        <rect x=\"100\" y=\"307\" width=\"400\" height=\"43\">\n",
       "    <animate\n",
       "      attributeName=\"width\"\n",
       "      values=\"0;400;0\"\n",
       "      dur=\"4s\"\n",
       "      repeatCount=\"indefinite\" />\n",
       "      <animate\n",
       "      attributeName=\"x\"\n",
       "      values=\"100;100;500\"\n",
       "      dur=\"4s\"\n",
       "      repeatCount=\"indefinite\" />\n",
       "  </rect>\n",
       "        <g style=\"fill:transparent;stroke-width:8; stroke-linejoin:round\" rx=\"5\">\n",
       "            <g transform=\"translate(45 50) rotate(-45)\">\n",
       "                <circle r=\"33\" cx=\"0\" cy=\"0\" />\n",
       "                <rect x=\"-8\" y=\"32\" width=\"16\" height=\"30\" />\n",
       "            </g>\n",
       "\n",
       "            <g transform=\"translate(450 152)\">\n",
       "                <polyline points=\"-15,-20 -35,-20 -35,40 25,40 25,20\" />\n",
       "                <rect x=\"-15\" y=\"-40\" width=\"60\" height=\"60\" />\n",
       "            </g>\n",
       "\n",
       "            <g transform=\"translate(50 352)\">\n",
       "                <polygon points=\"-35,-5 0,-40 35,-5\" />\n",
       "                <polygon points=\"-35,10 0,45 35,10\" />\n",
       "            </g>\n",
       "\n",
       "            <g transform=\"translate(75 250)\">\n",
       "                <polyline points=\"-30,30 -60,0 -30,-30\" />\n",
       "                <polyline points=\"0,30 -30,0 0,-30\" />\n",
       "            </g>\n",
       "\n",
       "            <g transform=\"translate(425 250) rotate(180)\">\n",
       "                <polyline points=\"-30,30 -60,0 -30,-30\" />\n",
       "                <polyline points=\"0,30 -30,0 0,-30\" />\n",
       "            </g>\n",
       "        </g>\n",
       "    </g>\n",
       "</svg>\n",
       "</a>\n",
       "Loading ITables v2.2.5 from the <code>init_notebook_mode</code> cell...\n",
       "(need <a href=https://mwouts.github.io/itables/troubleshooting.html>help</a>?)</td>\n",
       "</tr></tbody>\n",
       "</table>\n",
       "<script type=\"module\">\n",
       "    const { DataTable, jQuery: $ } = await import(window._datatables_src_for_itables_2_2_5);\n",
       "\n",
       "    document.querySelectorAll(\"#itables_87ec1f54_ff05_4ed0_a519_0abf1d796513:not(.dataTable)\").forEach(table => {\n",
       "        if (!(table instanceof HTMLTableElement))\n",
       "            return;\n",
       "\n",
       "        // Define the table data\n",
       "        const data = [[3391, \"1KG\", \"DocumentReference.extension\", \"https://nih-ncpi.github.io/ncpi-fhir-ig-2/StructureDefinition/file-size\", \" 36047.0\", \" 16099441977.0\", \"\"], [3724, \"Cellosaurus\", \"Patient.extension\", \"http://hl7.org/fhir/SearchParameter/patient-extensions-Patient-age\", \" 1.0\", \" 94.0\", \"\"], [3780, \"BEATAML1.0-CRENOLANIB,phs001628\", \"DocumentReference.extension\", \"https://nih-ncpi.github.io/ncpi-fhir-ig-2/StructureDefinition/file-size\", \" 4220.0\", \" 45589228155.0\", \"\"], [3785, \"BEATAML1.0-CRENOLANIB,phs001628\", \"Patient.extension\", \"http://hl7.org/fhir/SearchParameter/patient-extensions-Patient-age\", \" 24.0\", \" 87.0\", \"\"], [4130, \"FM-AD,phs001179\", \"DocumentReference.extension\", \"https://nih-ncpi.github.io/ncpi-fhir-ig-2/StructureDefinition/file-size\", \" 867.0\", \" 1935511.0\", \"\"], [4165, \"TRIO-CRU,phs001163\", \"DocumentReference.extension\", \"https://nih-ncpi.github.io/ncpi-fhir-ig-2/StructureDefinition/file-size\", \" 206402756237.0\", \" 636670100011.0\", \"\"], [4249, \"ORGANOID-PANCREATIC,phs001611\", \"DocumentReference.extension\", \"https://nih-ncpi.github.io/ncpi-fhir-ig-2/StructureDefinition/file-size\", \" 229.0\", \" 550332860493.0\", \"\"], [4336, \"TARGET-RT,phs000470\", \"DocumentReference.extension\", \"https://nih-ncpi.github.io/ncpi-fhir-ig-2/StructureDefinition/file-size\", \" 229.0\", \" 237814582612.0\", \"\"], [4346, \"TARGET-RT,phs000470\", \"Patient.extension\", \"http://hl7.org/fhir/SearchParameter/patient-extensions-Patient-age\", \" 1.0\", \" 14.0\", \"\"], [4436, \"VAREPOP-APOLLO,phs001374\", \"DocumentReference.extension\", \"https://nih-ncpi.github.io/ncpi-fhir-ig-2/StructureDefinition/file-size\", \" 1956.0\", \" 2590395292.0\", \"\"], [4499, \"NCICCR-DLBCL\", \"DocumentReference.extension\", \"https://nih-ncpi.github.io/ncpi-fhir-ig-2/StructureDefinition/file-size\", \" 229.0\", \" 50502622857.0\", \"\"], [4584, \"OHSU-CNL,phs001799\", \"DocumentReference.extension\", \"https://nih-ncpi.github.io/ncpi-fhir-ig-2/StructureDefinition/file-size\", \" 229.0\", \" 37107351231.0\", \"\"], [4719, \"CTSP-DLBCL1,phs001184\", \"DocumentReference.extension\", \"https://nih-ncpi.github.io/ncpi-fhir-ig-2/StructureDefinition/file-size\", \" 229.0\", \" 22512726179.0\", \"\"], [5085, \"TCGA-LUSC\", \"DocumentReference.extension\", \"https://nih-ncpi.github.io/ncpi-fhir-ig-2/StructureDefinition/file-size\", \" 229.0\", \" 900231072113.0\", \"\"], [5097, \"TCGA-LUSC\", \"Patient.extension\", \"http://hl7.org/fhir/SearchParameter/patient-extensions-Patient-age\", \" 39.0\", \" 89.0\", \"\"], [5426, \"TCGA-OV\", \"DocumentReference.extension\", \"https://nih-ncpi.github.io/ncpi-fhir-ig-2/StructureDefinition/file-size\", \" 229.0\", \" 479929776291.0\", \"\"], [5437, \"TCGA-OV\", \"Patient.extension\", \"http://hl7.org/fhir/SearchParameter/patient-extensions-Patient-age\", \" 26.0\", \" 89.0\", \"\"], [5753, \"TCGA-GBM\", \"DocumentReference.extension\", \"https://nih-ncpi.github.io/ncpi-fhir-ig-2/StructureDefinition/file-size\", \" 229.0\", \" 599440811930.0\", \"\"], [5763, \"TCGA-GBM\", \"Patient.extension\", \"http://hl7.org/fhir/SearchParameter/patient-extensions-Patient-age\", \" 10.0\", \" 89.0\", \"\"], [5868, \"TARGET-ALL-P3\", \"DocumentReference.extension\", \"https://nih-ncpi.github.io/ncpi-fhir-ig-2/StructureDefinition/file-size\", \" 229.0\", \" 279398241969.0\", \"\"], [5881, \"TARGET-ALL-P3\", \"Patient.extension\", \"http://hl7.org/fhir/SearchParameter/patient-extensions-Patient-age\", \" 1.0\", \" 17.0\", \"\"], [5952, \"TARGET-ALL-P1,phs000463\", \"DocumentReference.extension\", \"https://nih-ncpi.github.io/ncpi-fhir-ig-2/StructureDefinition/file-size\", \" 229.0\", \" 181372874364.0\", \"\"], [5963, \"TARGET-ALL-P1,phs000463\", \"Patient.extension\", \"http://hl7.org/fhir/SearchParameter/patient-extensions-Patient-age\", \" 1.0\", \" 18.0\", \"\"], [6155, \"CGCI-BLGSP,phs000527\", \"DocumentReference.extension\", \"https://nih-ncpi.github.io/ncpi-fhir-ig-2/StructureDefinition/file-size\", \" 229.0\", \" 1036003018449.0\", \"\"], [6169, \"CGCI-BLGSP,phs000527\", \"Patient.extension\", \"http://hl7.org/fhir/SearchParameter/patient-extensions-Patient-age\", \" 1.0\", \" 89.0\", \"\"], [6310, \"MP2PRT-ALL,phs002005\", \"DocumentReference.extension\", \"https://nih-ncpi.github.io/ncpi-fhir-ig-2/StructureDefinition/file-size\", \" 229.0\", \" 544925800629.0\", \"\"], [6321, \"MP2PRT-ALL,phs002005\", \"Patient.extension\", \"http://hl7.org/fhir/SearchParameter/patient-extensions-Patient-age\", \" 1.0\", \" 29.0\", \"\"], [6447, \"TARGET-OS,phs000468\", \"DocumentReference.extension\", \"https://nih-ncpi.github.io/ncpi-fhir-ig-2/StructureDefinition/file-size\", \" 229.0\", \" 340003373158.0\", \"\"], [6461, \"TARGET-OS,phs000468\", \"Patient.extension\", \"http://hl7.org/fhir/SearchParameter/patient-extensions-Patient-age\", \" 3.0\", \" 87.0\", \"\"], [6681, \"CGCI-HTMCP-LC,phs000530\", \"DocumentReference.extension\", \"https://nih-ncpi.github.io/ncpi-fhir-ig-2/StructureDefinition/file-size\", \" 229.0\", \" 784083419572.0\", \"\"], [6691, \"CGCI-HTMCP-LC,phs000530\", \"Patient.extension\", \"http://hl7.org/fhir/SearchParameter/patient-extensions-Patient-age\", \" 40.0\", \" 69.0\", \"\"], [6825, \"APOLLO-LUAD,phs003011\", \"DocumentReference.extension\", \"https://nih-ncpi.github.io/ncpi-fhir-ig-2/StructureDefinition/file-size\", \" 229.0\", \" 697537111004.0\", \"\"], [6911, \"WCDT-MCRPC,phs001648\", \"DocumentReference.extension\", \"https://nih-ncpi.github.io/ncpi-fhir-ig-2/StructureDefinition/file-size\", \" 854.0\", \" 750319372869.0\", \"\"], [7024, \"MP2PRT-WT,phs001965\", \"DocumentReference.extension\", \"https://nih-ncpi.github.io/ncpi-fhir-ig-2/StructureDefinition/file-size\", \" 229.0\", \" 186999551812.0\", \"\"], [7137, \"TARGET-ALL-P2,phs000464\", \"DocumentReference.extension\", \"https://nih-ncpi.github.io/ncpi-fhir-ig-2/StructureDefinition/file-size\", \" 229.0\", \" 293330980323.0\", \"\"], [7151, \"TARGET-ALL-P2,phs000464\", \"Patient.extension\", \"http://hl7.org/fhir/SearchParameter/patient-extensions-Patient-age\", \" 1.0\", \" 29.0\", \"\"], [7261, \"MMRF-COMMPASS,phs000748\", \"DocumentReference.extension\", \"https://nih-ncpi.github.io/ncpi-fhir-ig-2/StructureDefinition/file-size\", \" 229.0\", \" 165859063760.0\", \"\"], [7273, \"MMRF-COMMPASS,phs000748\", \"Patient.extension\", \"http://hl7.org/fhir/SearchParameter/patient-extensions-Patient-age\", \" 27.0\", \" 89.0\", \"\"], [7408, \"TARGET-AML,phs000465\", \"DocumentReference.extension\", \"https://nih-ncpi.github.io/ncpi-fhir-ig-2/StructureDefinition/file-size\", \" 229.0\", \" 512428391186.0\", \"\"], [7422, \"TARGET-AML,phs000465\", \"Patient.extension\", \"http://hl7.org/fhir/SearchParameter/patient-extensions-Patient-age\", \" 1.0\", \" 29.0\", \"\"], [7638, \"CGCI-HTMCP-CC,phs000528\", \"DocumentReference.extension\", \"https://nih-ncpi.github.io/ncpi-fhir-ig-2/StructureDefinition/file-size\", \" 229.0\", \" 473704144782.0\", \"\"], [7647, \"CGCI-HTMCP-CC,phs000528\", \"Patient.extension\", \"http://hl7.org/fhir/SearchParameter/patient-extensions-Patient-age\", \" 26.0\", \" 82.0\", \"\"], [7778, \"CGCI-HTMCP-DLBCL,phs000529\", \"DocumentReference.extension\", \"https://nih-ncpi.github.io/ncpi-fhir-ig-2/StructureDefinition/file-size\", \" 229.0\", \" 1041864666194.0\", \"\"], [7790, \"CGCI-HTMCP-DLBCL,phs000529\", \"Patient.extension\", \"http://hl7.org/fhir/SearchParameter/patient-extensions-Patient-age\", \" 2.0\", \" 71.0\", \"\"], [7931, \"MATCH-B,phs002028\", \"DocumentReference.extension\", \"https://nih-ncpi.github.io/ncpi-fhir-ig-2/StructureDefinition/file-size\", \" 229.0\", \" 119291584115.0\", \"\"], [8014, \"TARGET-CCSK,phs000466\", \"DocumentReference.extension\", \"https://nih-ncpi.github.io/ncpi-fhir-ig-2/StructureDefinition/file-size\", \" 229.0\", \" 25962975329.0\", \"\"], [8020, \"TARGET-CCSK,phs000466\", \"Patient.extension\", \"http://hl7.org/fhir/SearchParameter/patient-extensions-Patient-age\", \" 1.0\", \" 3.0\", \"\"], [8156, \"MATCH-Y,phs001904\", \"DocumentReference.extension\", \"https://nih-ncpi.github.io/ncpi-fhir-ig-2/StructureDefinition/file-size\", \" 229.0\", \" 56113569911.0\", \"\"], [8303, \"MATCH-N,phs002151\", \"DocumentReference.extension\", \"https://nih-ncpi.github.io/ncpi-fhir-ig-2/StructureDefinition/file-size\", \" 229.0\", \" 58525870424.0\", \"\"], [8397, \"CMI-MBC,phs001709\", \"DocumentReference.extension\", \"https://nih-ncpi.github.io/ncpi-fhir-ig-2/StructureDefinition/file-size\", \" 229.0\", \" 160851087258.0\", \"\"], [8492, \"CMI-MPC,phs001939\", \"DocumentReference.extension\", \"https://nih-ncpi.github.io/ncpi-fhir-ig-2/StructureDefinition/file-size\", \" 229.0\", \" 180614572320.0\", \"\"], [8585, \"TARGET-WT,phs000471\", \"DocumentReference.extension\", \"https://nih-ncpi.github.io/ncpi-fhir-ig-2/StructureDefinition/file-size\", \" 229.0\", \" 200717986113.0\", \"\"], [8595, \"TARGET-WT,phs000471\", \"Patient.extension\", \"http://hl7.org/fhir/SearchParameter/patient-extensions-Patient-age\", \" 1.0\", \" 15.0\", \"\"], [8732, \"MATCH-R,phs002029\", \"DocumentReference.extension\", \"https://nih-ncpi.github.io/ncpi-fhir-ig-2/StructureDefinition/file-size\", \" 229.0\", \" 62756644786.0\", \"\"], [8822, \"MATCH-S2,phs002178\", \"DocumentReference.extension\", \"https://nih-ncpi.github.io/ncpi-fhir-ig-2/StructureDefinition/file-size\", \" 229.0\", \" 52088614529.0\", \"\"], [9002, \"MATCH-I,phs002181\", \"DocumentReference.extension\", \"https://nih-ncpi.github.io/ncpi-fhir-ig-2/StructureDefinition/file-size\", \" 229.0\", \" 55909030337.0\", \"\"], [9150, \"MATCH-Z1A,phs001973\", \"DocumentReference.extension\", \"https://nih-ncpi.github.io/ncpi-fhir-ig-2/StructureDefinition/file-size\", \" 229.0\", \" 65817793061.0\", \"\"], [9307, \"MATCH-P,phs002152\", \"DocumentReference.extension\", \"https://nih-ncpi.github.io/ncpi-fhir-ig-2/StructureDefinition/file-size\", \" 229.0\", \" 87308425910.0\", \"\"], [9446, \"MATCH-Z1B,phs002180\", \"DocumentReference.extension\", \"https://nih-ncpi.github.io/ncpi-fhir-ig-2/StructureDefinition/file-size\", \" 229.0\", \" 59372563634.0\", \"\"], [9622, \"MATCH-S1,phs002153\", \"DocumentReference.extension\", \"https://nih-ncpi.github.io/ncpi-fhir-ig-2/StructureDefinition/file-size\", \" 229.0\", \" 55606727437.0\", \"\"], [9720, \"CMI-ASC,phs001931\", \"DocumentReference.extension\", \"https://nih-ncpi.github.io/ncpi-fhir-ig-2/StructureDefinition/file-size\", \" 229.0\", \" 90251184776.0\", \"\"], [9919, \"CDDP_EAGLE-1,phs001239\", \"DocumentReference.extension\", \"https://nih-ncpi.github.io/ncpi-fhir-ig-2/StructureDefinition/file-size\", \" 229.0\", \" 244766871978.0\", \"\"], [9924, \"CDDP_EAGLE-1,phs001239\", \"Patient.extension\", \"http://hl7.org/fhir/SearchParameter/patient-extensions-Patient-age\", \" 40.0\", \" 79.0\", \"\"], [10059, \"MATCH-Z1I,phs002058\", \"DocumentReference.extension\", \"https://nih-ncpi.github.io/ncpi-fhir-ig-2/StructureDefinition/file-size\", \" 229.0\", \" 57883977491.0\", \"\"], [10195, \"MATCH-U,phs002179\", \"DocumentReference.extension\", \"https://nih-ncpi.github.io/ncpi-fhir-ig-2/StructureDefinition/file-size\", \" 229.0\", \" 62079012777.0\", \"\"], [10323, \"MATCH-H,phs001888\", \"DocumentReference.extension\", \"https://nih-ncpi.github.io/ncpi-fhir-ig-2/StructureDefinition/file-size\", \" 229.0\", \" 50510880080.0\", \"\"], [10453, \"MATCH-Q,phs001926\", \"DocumentReference.extension\", \"https://nih-ncpi.github.io/ncpi-fhir-ig-2/StructureDefinition/file-size\", \" 229.0\", \" 54187077981.0\", \"\"], [10604, \"MATCH-Z1D,phs001859\", \"DocumentReference.extension\", \"https://nih-ncpi.github.io/ncpi-fhir-ig-2/StructureDefinition/file-size\", \" 229.0\", \" 99880659391.0\", \"\"], [10766, \"MATCH-W,phs001948\", \"DocumentReference.extension\", \"https://nih-ncpi.github.io/ncpi-fhir-ig-2/StructureDefinition/file-size\", \" 229.0\", \" 61971836596.0\", \"\"], [11062, \"EXCEPTIONAL_RESPONDERS-ER\", \"DocumentReference.extension\", \"https://nih-ncpi.github.io/ncpi-fhir-ig-2/StructureDefinition/file-size\", \" 229.0\", \" 39402378925.0\", \"\"], [11206, \"CPTAC-2,phs000892\", \"DocumentReference.extension\", \"https://nih-ncpi.github.io/ncpi-fhir-ig-2/StructureDefinition/file-size\", \" 229.0\", \" 112147805107.0\", \"\"], [11400, \"BEATAML1.0-COHORT,phs001657\", \"DocumentReference.extension\", \"https://nih-ncpi.github.io/ncpi-fhir-ig-2/StructureDefinition/file-size\", \" 229.0\", \" 57434493336.0\", \"\"], [11607, \"TARGET-NBL,phs000467\", \"DocumentReference.extension\", \"https://nih-ncpi.github.io/ncpi-fhir-ig-2/StructureDefinition/file-size\", \" 229.0\", \" 285212049401.0\", \"\"], [11619, \"TARGET-NBL,phs000467\", \"Patient.extension\", \"http://hl7.org/fhir/SearchParameter/patient-extensions-Patient-age\", \" 1.0\", \" 20.0\", \"\"], [11726, \"MATCH-C1,phs002177\", \"DocumentReference.extension\", \"https://nih-ncpi.github.io/ncpi-fhir-ig-2/StructureDefinition/file-size\", \" 229.0\", \" 98135181363.0\", \"\"], [12091, \"CPTAC-3,phs001287\", \"DocumentReference.extension\", \"https://nih-ncpi.github.io/ncpi-fhir-ig-2/StructureDefinition/file-size\", \" 20.0\", \" 463286204766.0\", \"\"], [12105, \"CPTAC-3,phs001287\", \"Patient.extension\", \"http://hl7.org/fhir/SearchParameter/patient-extensions-Patient-age\", \" 24.0\", \" 81.0\", \"\"], [12317, \"TCGA-KICH\", \"DocumentReference.extension\", \"https://nih-ncpi.github.io/ncpi-fhir-ig-2/StructureDefinition/file-size\", \" 229.0\", \" 947092008454.0\", \"\"], [12329, \"TCGA-KICH\", \"Patient.extension\", \"http://hl7.org/fhir/SearchParameter/patient-extensions-Patient-age\", \" 17.0\", \" 86.0\", \"\"], [12563, \"TCGA-CHOL\", \"DocumentReference.extension\", \"https://nih-ncpi.github.io/ncpi-fhir-ig-2/StructureDefinition/file-size\", \" 229.0\", \" 503038147531.0\", \"\"], [12574, \"TCGA-CHOL\", \"Patient.extension\", \"http://hl7.org/fhir/SearchParameter/patient-extensions-Patient-age\", \" 29.0\", \" 82.0\", \"\"], [12836, \"TCGA-MESO\", \"DocumentReference.extension\", \"https://nih-ncpi.github.io/ncpi-fhir-ig-2/StructureDefinition/file-size\", \" 229.0\", \" 455275654042.0\", \"\"], [12845, \"TCGA-MESO\", \"Patient.extension\", \"http://hl7.org/fhir/SearchParameter/patient-extensions-Patient-age\", \" 28.0\", \" 81.0\", \"\"], [13078, \"TCGA-THYM\", \"DocumentReference.extension\", \"https://nih-ncpi.github.io/ncpi-fhir-ig-2/StructureDefinition/file-size\", \" 229.0\", \" 396925513728.0\", \"\"], [13090, \"TCGA-THYM\", \"Patient.extension\", \"http://hl7.org/fhir/SearchParameter/patient-extensions-Patient-age\", \" 17.0\", \" 84.0\", \"\"], [13375, \"TCGA-ESCA\", \"DocumentReference.extension\", \"https://nih-ncpi.github.io/ncpi-fhir-ig-2/StructureDefinition/file-size\", \" 229.0\", \" 615679610739.0\", \"\"], [13387, \"TCGA-ESCA\", \"Patient.extension\", \"http://hl7.org/fhir/SearchParameter/patient-extensions-Patient-age\", \" 27.0\", \" 89.0\", \"\"], [13679, \"TCGA-PAAD\", \"DocumentReference.extension\", \"https://nih-ncpi.github.io/ncpi-fhir-ig-2/StructureDefinition/file-size\", \" 229.0\", \" 557484094367.0\", \"\"], [13691, \"TCGA-PAAD\", \"Patient.extension\", \"http://hl7.org/fhir/SearchParameter/patient-extensions-Patient-age\", \" 35.0\", \" 88.0\", \"\"], [13951, \"TCGA-TGCT\", \"DocumentReference.extension\", \"https://nih-ncpi.github.io/ncpi-fhir-ig-2/StructureDefinition/file-size\", \" 229.0\", \" 559507051442.0\", \"\"], [13962, \"TCGA-TGCT\", \"Patient.extension\", \"http://hl7.org/fhir/SearchParameter/patient-extensions-Patient-age\", \" 14.0\", \" 67.0\", \"\"], [14268, \"TCGA-SARC\", \"DocumentReference.extension\", \"https://nih-ncpi.github.io/ncpi-fhir-ig-2/StructureDefinition/file-size\", \" 229.0\", \" 1016591370303.0\", \"\"], [14280, \"TCGA-SARC\", \"Patient.extension\", \"http://hl7.org/fhir/SearchParameter/patient-extensions-Patient-age\", \" 20.0\", \" 89.0\", \"\"], [14711, \"TCGA-SKCM\", \"DocumentReference.extension\", \"https://nih-ncpi.github.io/ncpi-fhir-ig-2/StructureDefinition/file-size\", \" 229.0\", \" 739991617154.0\", \"\"], [14723, \"TCGA-SKCM\", \"Patient.extension\", \"http://hl7.org/fhir/SearchParameter/patient-extensions-Patient-age\", \" 15.0\", \" 89.0\", \"\"], [14940, \"TCGA-DLBC\", \"DocumentReference.extension\", \"https://nih-ncpi.github.io/ncpi-fhir-ig-2/StructureDefinition/file-size\", \" 229.0\", \" 996151617769.0\", \"\"], [14948, \"TCGA-DLBC\", \"Patient.extension\", \"http://hl7.org/fhir/SearchParameter/patient-extensions-Patient-age\", \" 23.0\", \" 82.0\", \"\"], [15133, \"TCGA-ACC\", \"DocumentReference.extension\", \"https://nih-ncpi.github.io/ncpi-fhir-ig-2/StructureDefinition/file-size\", \" 229.0\", \" 433127462898.0\", \"\"], [15145, \"TCGA-ACC\", \"Patient.extension\", \"http://hl7.org/fhir/SearchParameter/patient-extensions-Patient-age\", \" 14.0\", \" 83.0\", \"\"], [15398, \"TCGA-UVM\", \"DocumentReference.extension\", \"https://nih-ncpi.github.io/ncpi-fhir-ig-2/StructureDefinition/file-size\", \" 229.0\", \" 434883402972.0\", \"\"], [15407, \"TCGA-UVM\", \"Patient.extension\", \"http://hl7.org/fhir/SearchParameter/patient-extensions-Patient-age\", \" 22.0\", \" 86.0\", \"\"], [15547, \"TCGA-LAML\", \"DocumentReference.extension\", \"https://nih-ncpi.github.io/ncpi-fhir-ig-2/StructureDefinition/file-size\", \" 229.0\", \" 554807180804.0\", \"\"], [15557, \"TCGA-LAML\", \"Patient.extension\", \"http://hl7.org/fhir/SearchParameter/patient-extensions-Patient-age\", \" 18.0\", \" 88.0\", \"\"], [15802, \"TCGA-PCPG\", \"DocumentReference.extension\", \"https://nih-ncpi.github.io/ncpi-fhir-ig-2/StructureDefinition/file-size\", \" 229.0\", \" 888468516860.0\", \"\"], [15815, \"TCGA-PCPG\", \"Patient.extension\", \"http://hl7.org/fhir/SearchParameter/patient-extensions-Patient-age\", \" 19.0\", \" 83.0\", \"\"], [16101, \"TCGA-READ\", \"DocumentReference.extension\", \"https://nih-ncpi.github.io/ncpi-fhir-ig-2/StructureDefinition/file-size\", \" 229.0\", \" 485434190457.0\", \"\"], [16111, \"TCGA-READ\", \"Patient.extension\", \"http://hl7.org/fhir/SearchParameter/patient-extensions-Patient-age\", \" 31.0\", \" 89.0\", \"\"], [16435, \"TCGA-BLCA\", \"DocumentReference.extension\", \"https://nih-ncpi.github.io/ncpi-fhir-ig-2/StructureDefinition/file-size\", \" 229.0\", \" 932984812837.0\", \"\"], [16447, \"TCGA-BLCA\", \"Patient.extension\", \"http://hl7.org/fhir/SearchParameter/patient-extensions-Patient-age\", \" 34.0\", \" 89.0\", \"\"], [16747, \"TCGA-LIHC\", \"DocumentReference.extension\", \"https://nih-ncpi.github.io/ncpi-fhir-ig-2/StructureDefinition/file-size\", \" 229.0\", \" 1025043026455.0\", \"\"], [16760, \"TCGA-LIHC\", \"Patient.extension\", \"http://hl7.org/fhir/SearchParameter/patient-extensions-Patient-age\", \" 16.0\", \" 87.0\", \"\"], [16961, \"TCGA-UCS\", \"DocumentReference.extension\", \"https://nih-ncpi.github.io/ncpi-fhir-ig-2/StructureDefinition/file-size\", \" 229.0\", \" 455423717928.0\", \"\"], [16971, \"TCGA-UCS\", \"Patient.extension\", \"http://hl7.org/fhir/SearchParameter/patient-extensions-Patient-age\", \" 51.0\", \" 89.0\", \"\"], [17277, \"TCGA-UCEC\", \"DocumentReference.extension\", \"https://nih-ncpi.github.io/ncpi-fhir-ig-2/StructureDefinition/file-size\", \" 229.0\", \" 741091181675.0\", \"\"], [17288, \"TCGA-UCEC\", \"Patient.extension\", \"http://hl7.org/fhir/SearchParameter/patient-extensions-Patient-age\", \" 31.0\", \" 89.0\", \"\"], [17440, \"REBC-THYR\", \"DocumentReference.extension\", \"https://nih-ncpi.github.io/ncpi-fhir-ig-2/StructureDefinition/file-size\", \" 178.0\", \" 810985268654.0\", \"\"], [17445, \"REBC-THYR\", \"Patient.extension\", \"http://hl7.org/fhir/SearchParameter/patient-extensions-Patient-age\", \" 19.0\", \" 36.0\", \"\"], [17764, \"TCGA-CESC\", \"DocumentReference.extension\", \"https://nih-ncpi.github.io/ncpi-fhir-ig-2/StructureDefinition/file-size\", \" 229.0\", \" 539723610423.0\", \"\"], [17777, \"TCGA-CESC\", \"Patient.extension\", \"http://hl7.org/fhir/SearchParameter/patient-extensions-Patient-age\", \" 20.0\", \" 88.0\", \"\"], [18096, \"TCGA-COAD\", \"DocumentReference.extension\", \"https://nih-ncpi.github.io/ncpi-fhir-ig-2/StructureDefinition/file-size\", \" 20.0\", \" 947717954196.0\", \"\"], [18108, \"TCGA-COAD\", \"Patient.extension\", \"http://hl7.org/fhir/SearchParameter/patient-extensions-Patient-age\", \" 31.0\", \" 89.0\", \"\"], [18367, \"TCGA-LGG\", \"DocumentReference.extension\", \"https://nih-ncpi.github.io/ncpi-fhir-ig-2/StructureDefinition/file-size\", \" 229.0\", \" 506317639621.0\", \"\"], [18380, \"TCGA-LGG\", \"Patient.extension\", \"http://hl7.org/fhir/SearchParameter/patient-extensions-Patient-age\", \" 14.0\", \" 86.0\", \"\"], [18669, \"TCGA-PRAD\", \"DocumentReference.extension\", \"https://nih-ncpi.github.io/ncpi-fhir-ig-2/StructureDefinition/file-size\", \" 229.0\", \" 641889008431.0\", \"\"], [18681, \"TCGA-PRAD\", \"Patient.extension\", \"http://hl7.org/fhir/SearchParameter/patient-extensions-Patient-age\", \" 41.0\", \" 78.0\", \"\"], [19002, \"TCGA-STAD\", \"DocumentReference.extension\", \"https://nih-ncpi.github.io/ncpi-fhir-ig-2/StructureDefinition/file-size\", \" 229.0\", \" 968777658788.0\", \"\"], [19015, \"TCGA-STAD\", \"Patient.extension\", \"http://hl7.org/fhir/SearchParameter/patient-extensions-Patient-age\", \" 30.0\", \" 89.0\", \"\"], [19293, \"TCGA-THCA\", \"DocumentReference.extension\", \"https://nih-ncpi.github.io/ncpi-fhir-ig-2/StructureDefinition/file-size\", \" 229.0\", \" 611312914558.0\", \"\"], [19306, \"TCGA-THCA\", \"Patient.extension\", \"http://hl7.org/fhir/SearchParameter/patient-extensions-Patient-age\", \" 15.0\", \" 89.0\", \"\"], [19772, \"TCGA-BRCA\", \"DocumentReference.extension\", \"https://nih-ncpi.github.io/ncpi-fhir-ig-2/StructureDefinition/file-size\", \" 229.0\", \" 664107919518.0\", \"\"], [19784, \"TCGA-BRCA\", \"Patient.extension\", \"http://hl7.org/fhir/SearchParameter/patient-extensions-Patient-age\", \" 26.0\", \" 89.0\", \"\"], [20070, \"TCGA-KIRP\", \"DocumentReference.extension\", \"https://nih-ncpi.github.io/ncpi-fhir-ig-2/StructureDefinition/file-size\", \" 229.0\", \" 946503026228.0\", \"\"], [20081, \"TCGA-KIRP\", \"Patient.extension\", \"http://hl7.org/fhir/SearchParameter/patient-extensions-Patient-age\", \" 28.0\", \" 88.0\", \"\"], [20426, \"TCGA-LUAD\", \"DocumentReference.extension\", \"https://nih-ncpi.github.io/ncpi-fhir-ig-2/StructureDefinition/file-size\", \" 229.0\", \" 609805717102.0\", \"\"], [20439, \"TCGA-LUAD\", \"Patient.extension\", \"http://hl7.org/fhir/SearchParameter/patient-extensions-Patient-age\", \" 33.0\", \" 88.0\", \"\"], [20785, \"TCGA-HNSC\", \"DocumentReference.extension\", \"https://nih-ncpi.github.io/ncpi-fhir-ig-2/StructureDefinition/file-size\", \" 229.0\", \" 578035949313.0\", \"\"], [20798, \"TCGA-HNSC\", \"Patient.extension\", \"http://hl7.org/fhir/SearchParameter/patient-extensions-Patient-age\", \" 19.0\", \" 89.0\", \"\"], [21148, \"TCGA-KIRC\", \"DocumentReference.extension\", \"https://nih-ncpi.github.io/ncpi-fhir-ig-2/StructureDefinition/file-size\", \" 229.0\", \" 481092668932.0\", \"\"], [21158, \"TCGA-KIRC\", \"Patient.extension\", \"http://hl7.org/fhir/SearchParameter/patient-extensions-Patient-age\", \" 26.0\", \" 89.0\", \"\"], [21733, \"HCMI-CMDC\", \"DocumentReference.extension\", \"https://nih-ncpi.github.io/ncpi-fhir-ig-2/StructureDefinition/file-size\", \" 229.0\", \" 484490562985.0\", \"\"]];\n",
       "\n",
       "        // Define the dt_args\n",
       "        let dt_args = {\"layout\": {\"topStart\": \"buttons\", \"topEnd\": \"search\", \"bottomStart\": \"info\", \"bottomEnd\": \"paging\"}, \"buttons\": [\"copyHtml5\", \"csvHtml5\", \"excelHtml5\"], \"order\": [], \"warn_on_selected_rows_not_rendered\": true};\n",
       "        dt_args[\"data\"] = data;\n",
       "\n",
       "        \n",
       "        new DataTable(table, dt_args);\n",
       "    });\n",
       "</script>\n"
      ],
      "text/plain": [
       "            research_study_identifiers                         path  \\\n",
       "3391                               1KG  DocumentReference.extension   \n",
       "3724                       Cellosaurus            Patient.extension   \n",
       "3780   BEATAML1.0-CRENOLANIB,phs001628  DocumentReference.extension   \n",
       "3785   BEATAML1.0-CRENOLANIB,phs001628            Patient.extension   \n",
       "4130                   FM-AD,phs001179  DocumentReference.extension   \n",
       "...                                ...                          ...   \n",
       "20785                        TCGA-HNSC  DocumentReference.extension   \n",
       "20798                        TCGA-HNSC            Patient.extension   \n",
       "21148                        TCGA-KIRC  DocumentReference.extension   \n",
       "21158                        TCGA-KIRC            Patient.extension   \n",
       "21733                        HCMI-CMDC  DocumentReference.extension   \n",
       "\n",
       "                                           extension_url      low  \\\n",
       "3391   https://nih-ncpi.github.io/ncpi-fhir-ig-2/Stru...  36047.0   \n",
       "3724   http://hl7.org/fhir/SearchParameter/patient-ex...      1.0   \n",
       "3780   https://nih-ncpi.github.io/ncpi-fhir-ig-2/Stru...   4220.0   \n",
       "3785   http://hl7.org/fhir/SearchParameter/patient-ex...     24.0   \n",
       "4130   https://nih-ncpi.github.io/ncpi-fhir-ig-2/Stru...    867.0   \n",
       "...                                                  ...      ...   \n",
       "20785  https://nih-ncpi.github.io/ncpi-fhir-ig-2/Stru...    229.0   \n",
       "20798  http://hl7.org/fhir/SearchParameter/patient-ex...     19.0   \n",
       "21148  https://nih-ncpi.github.io/ncpi-fhir-ig-2/Stru...    229.0   \n",
       "21158  http://hl7.org/fhir/SearchParameter/patient-ex...     26.0   \n",
       "21733  https://nih-ncpi.github.io/ncpi-fhir-ig-2/Stru...    229.0   \n",
       "\n",
       "                 high url  \n",
       "3391    16099441977.0      \n",
       "3724             94.0      \n",
       "3780    45589228155.0      \n",
       "3785             87.0      \n",
       "4130        1935511.0      \n",
       "...               ...  ..  \n",
       "20785  578035949313.0      \n",
       "20798            89.0      \n",
       "21148  481092668932.0      \n",
       "21158            89.0      \n",
       "21733  484490562985.0      \n",
       "\n",
       "[140 rows x 6 columns]"
      ]
     },
     "execution_count": 2,
     "metadata": {},
     "output_type": "execute_result"
    }
   ],
   "source": [
    "scratch_df = df[df['research_study_identifiers'].str.contains('1KG')]\n",
    "scratch_df"
   ]
  },
  {
   "cell_type": "markdown",
   "id": "ddd51519",
   "metadata": {},
   "source": [
    "# Exploring available conditions\n",
    "Or query the vocab table for the available condition codes of the various patients in each research study."
   ]
  },
  {
   "cell_type": "code",
   "execution_count": null,
   "id": "7d2f3d2c",
   "metadata": {},
   "outputs": [],
   "source": [
    "scratch_df = df[df['path'].str.contains('Condition.code')]\n",
    "scratch_df"
   ]
  },
  {
   "cell_type": "markdown",
   "id": "a2b4ceea",
   "metadata": {},
   "source": [
    "# Something more elaborate\n",
    "In lieu of pandas filtering, we can use curl to perform more elaborate filtering. In this case we're searching for a specific condition, Neuroblastoma. Here's what each part of the below code is doing:\n",
    "1. FHIR Query: The curl command sends the FHIR query to the server.\n",
    "2. Data Extraction and Formatting: jq extracts the system, code, and display information from the coding elements within each Condition resource and formats them as TSV.\n",
    "3. Sorting: The output is piped to sort to arrange the entries alphabetically.\n",
    "4. Deduplication: The -u option in sort removes any duplicate entries, leaving only unique combinations of system, code, and display.\n",
    "5. Output: The final result is a sorted and deduplicated list of coding information for conditions starting with \"Adenocarcinoma,\" presented as TSV."
   ]
  },
  {
   "cell_type": "code",
   "execution_count": null,
   "id": "eadbccb5",
   "metadata": {},
   "outputs": [],
   "source": [
    "!curl -s $FHIR_BASE'/Condition?code:text=Neuroblastoma&_count=1000&_total=accurate&_elements=subject,extension,code'  | jq -rc ' .entry[] | .resource | .code.coding[] | [.system, .code, .display] | @tsv' | sort | uniq -c\n",
    "#| jq -rc '.entry[] | .resource | [.subject.reference, (.extension[] | .valueReference.reference)] '"
   ]
  }
 ],
 "metadata": {
  "kernelspec": {
   "display_name": "Python 3 (ipykernel)",
   "language": "python",
   "name": "python3"
  },
  "language_info": {
   "codemirror_mode": {
    "name": "ipython",
    "version": 3
   },
   "file_extension": ".py",
   "mimetype": "text/x-python",
   "name": "python",
   "nbconvert_exporter": "python",
   "pygments_lexer": "ipython3",
   "version": "3.13.2"
  }
 },
 "nbformat": 4,
 "nbformat_minor": 5
}
