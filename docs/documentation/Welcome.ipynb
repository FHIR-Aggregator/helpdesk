{
 "cells": [
  {
   "cell_type": "markdown",
   "id": "ed8451aa",
   "metadata": {},
   "source": [
    "# Welcome to the CDA example notebook set. \n",
    "\n",
    "Below you will find links to open the interactive versions of all of our example notebooks. Each one will open in a new tab."
   ]
  },
  {
   "cell_type": "markdown",
   "id": "2d70eb5e",
   "metadata": {},
   "source": [
    "## Notebook Quicklinks\n",
    "\n",
    "- [Quick Start](./basic_commands.ipynb): See all the basic functions\n",
    "- [CDA madlibs](./CDA_MadLibs.ipynb): A fill in the blank set of commands you can use as a template to build your own queries\n",
    "- [CPTAC](./001_cptac.ipynb): Get a manifest of all CPTAC data\n",
    "- [Summary tables](./002_sum_bams.ipynb): View a summary of available .bam files results\n",
    "- [Multi-term search](./003_vcf_image.ipynb): Get a manifest of patients with both vcf and image files\n",
    "- [Search numeric fields](./004_over50.ipynb): View the cancer types for subjects over 50 at diagnosis\n",
    "- [Search across data sources](./009_multidcsubject.ipynb): Find subjects with data at multiple data centers\n",
    "- [Search using a file of IDs](./008_multidc-from-file.ipynb): Find subjects using a list in a file\n",
    "- [Use CDA data with ISB-CGC BigQuery tables](./005_isbcgc.ipynb): Retrieve derived data for CDA results from ISB-CGC\n"
   ]
  },
  {
   "cell_type": "markdown",
   "id": "c2545cb0",
   "metadata": {},
   "source": [
    "## How to use these notebooks\n",
    "\n",
    "ipython notebooks let you intersperse code with text, and run bits of code one at a time, in any order. Google Colab is a service that makes you a small personal cloud computer in the cloud.\n",
    "\n",
    "If you want to run a notebook as is, choose a notebook, then either select `run all` from the `Runtime` menu, or use the keyboard shortcut shift + enter to execute each code cell.\n",
    "\n",
    "If you want to use these notebooks as a starting place for your own search, you can safely change any parameters. Since this is a small cloud computer, if the instance breaks, or you can't get the code back to working again, you can always close this browser tab and open a new one to get it working again. \n",
    "\n",
    "<div style=\"background-color:#f9cfbf;color:#000000;padding:20px;\">\n",
    "<strong>Save your changes!</strong>\n",
    "Any changes you make to the code here will disappear as soon as you close this window. If you have used this notebook to do your own searches, be sure to save a copy in your google drive using the `File` menu before you close the window. Then you can upload your changed notebooks to colab next time you work on it. \n",
    "</div>"
   ]
  },
  {
   "cell_type": "markdown",
   "id": "92bc76f3",
   "metadata": {},
   "source": [
    "## About cdapython\n",
    "\n",
    "With CDA you search by harmonized, common language terms. Using simple language you can get information about the subjects, files, or specimens that you care about in a standard dataframe format (tsv) that you can open in Excel, integrate into a pipeline or upload to your favorite cloud resource.\n",
    "\n",
    "cdapython has five functions to support search:\n",
    "\n",
    "---\n",
    "- **tables()** shows you what tables are available for search\n",
    "- **columns()** shows you what columns are in each table \n",
    "- **column_values()** returns a unique'd list of all values in a column\n",
    "- **summary_counts()** returns a summary of data that meets your search criteria\n",
    "- **fetch_rows()** returns all of the data that meets your search criteria\n",
    "\n",
    "---\n",
    "\n",
    "All of these functions have several parameters to let you tune your results. Use the `help()` function inside a notebook to find out more about each one, e.g. `help(fetch_rows`)\n"
   ]
  },
  {
   "cell_type": "markdown",
   "id": "6c7e79dc",
   "metadata": {},
   "source": [
    "## About CDA data\n",
    "\n",
    "You can think of the CDA as a really, really enormous spreadsheet full of data. To search this enormous spreadsheets, you'd want select columns that have data you're interested in, and then filter the rows to only the values you care about. \n",
    "\n",
    "<div class=\"cdanote\" style=\"background-color:#b3e5d5;color:black;padding:20px;\">\n",
    "    \n",
    "CDA data comes from six sources:\n",
    "<ul>\n",
    "<li><b>The <a href=\"https://proteomic.datacommons.cancer.gov/pdc/\"> Proteomic Data Commons</a> (PDC)</b></li>\n",
    "<li><b>The <a href=\"https://gdc.cancer.gov/\">Genomic Data Commons</a> (GDC)</b></li>\n",
    "<li><b>The <a href=\"https://datacommons.cancer.gov/repository/imaging-data-commons\">Imaging Data Commons</a> (IDC)</b></li>\n",
    "<li><b>The <a href=\"https://dataservice.datacommons.cancer.gov/#/home\">Cancer Data Service</a> (CDS)</b></li>\n",
    "<li><b>The <a href=\"https://caninecommons.cancer.gov/#/explore\">Integrated Canine Data Commons</a> (ICDC)</b></li>\n",
    "<li><b>The <a href=\"https://www.isb-cgc.org/\">ISB Cancer Gateway in the Cloud</a> (ISB-CGC)</b></li>\n",
    "</ul> \n",
    "    \n",
    "The CDA makes this data searchable in five main endpoints:\n",
    "\n",
    "<ul>\n",
    "<li><b>subject:</b> A patient entity captures the study-independent metadata for research subjects. Human research subjects are usually not traceable to a particular person to protect the subjects privacy.</li>\n",
    "<li><b>researchsubject:</b> A research subject is the entity of interest in a specific research study or project, typically a human being or an animal, but can also be a device, group of humans or animals, or a tissue sample. Human research subjects are usually not traceable to a particular person to protect the subjects privacy. This entity plays the role of the case_id in existing data. A subject who participates in 3 studies will have 3 researchsubject IDs.</li>\n",
    "<li><b>specimen:</b> Any material taken as a sample from a biological entity (living or dead), or from a physical object or the environment. Specimens are usually collected as an example of their kind, often for use in some investigation.</li>\n",
    "<li><b>mutation:</b> Molecular data about specific mutations, currently limited to the TCGA-READ project from GDC.</li>\n",
    "<li><b>file:</b> A unit of data about subjects, researchsubjects, specimens, or their associated information.</li>\n",
    "</ul>\n",
    "and two endpoints that offer deeper information about data in the researchsubject endpoint:\n",
    "<ul>\n",
    "<li><b>diagnosis:</b> A collection of characteristics that describe an abnormal condition of the body as assessed at a point in time. May be used to capture information about neoplastic and non-neoplastic conditions.</li>\n",
    "<li><b>treatment:</b> Represent medication administration or other treatment types.</li>\n",
    "</ul>\n",
    "</div>\n",
    "\n",
    "\n",
    "If the CDA works like a giant spreadsheet, the endpoints are sets of specific columns that always go together. Any metadata field can be searched from any endpoint, the only difference between search types is what type of data is returned by default. \n",
    "\n",
    "If you are looking to build a cohort of distinct individuals who meet some criteria, you would search by `subject`, and the result will be a table of information with one row per subject. If you are looking for biosamples that can be ordered or a specific format of information (for e.g. histological slides) start with `specimen`. This search will return a table of information with one row per biosample. If you want to build a cohort, but are particularly interested in studies rather than the participates per se, search by `researchsubject`. \n"
   ]
  }
 ],
 "metadata": {
  "kernelspec": {
   "display_name": "Python 3 (ipykernel)",
   "language": "python",
   "name": "python3"
  },
  "language_info": {
   "codemirror_mode": {
    "name": "ipython",
    "version": 3
   },
   "file_extension": ".py",
   "mimetype": "text/x-python",
   "name": "python",
   "nbconvert_exporter": "python",
   "pygments_lexer": "ipython3",
   "version": "3.10.6"
  }
 },
 "nbformat": 4,
 "nbformat_minor": 5
}
