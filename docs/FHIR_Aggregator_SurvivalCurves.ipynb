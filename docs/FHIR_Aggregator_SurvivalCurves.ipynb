{
  "cells": [
    {
      "cell_type": "markdown",
      "id": "ae014860-5a50-438a-a7f6-588340b979c3",
      "metadata": {
        "id": "ae014860-5a50-438a-a7f6-588340b979c3"
      },
      "source": [
        "# FHIR-Aggregator survival anaysis\n",
        "\n",
        "In this notebook we will show how to retrieve data from breast cancer patients in TCGA and compare the Kaplan-Meier curves of two cohorts.\n",
        "The cohorts are white and african american pateints that are 50 years or younger."
      ]
    },
    {
      "cell_type": "markdown",
      "id": "30863629-f092-428f-a828-0609db3cb69a",
      "metadata": {
        "id": "30863629-f092-428f-a828-0609db3cb69a"
      },
      "source": [
        "## Install necessay packages"
      ]
    },
    {
      "cell_type": "code",
      "execution_count": null,
      "id": "7e0d92f3-9ac9-4be7-ace5-a51c6fc9738e",
      "metadata": {
        "id": "7e0d92f3-9ac9-4be7-ace5-a51c6fc9738e",
        "tags": []
      },
      "outputs": [],
      "source": [
        "!pip install lifelines -q"
      ]
    },
    {
      "cell_type": "code",
      "execution_count": null,
      "id": "9db77de6-98c9-49ba-812a-e3fa9b1b4bf0",
      "metadata": {
        "id": "9db77de6-98c9-49ba-812a-e3fa9b1b4bf0",
        "tags": []
      },
      "outputs": [],
      "source": [
        "pip install git+https://github.com/FHIR-Aggregator/fhir-query.git"
      ]
    },
    {
      "cell_type": "markdown",
      "id": "b505ef6c-768c-4369-99d0-c80eb5be4a0b",
      "metadata": {
        "id": "b505ef6c-768c-4369-99d0-c80eb5be4a0b",
        "tags": []
      },
      "source": [
        "## Use FHIR-Aggregator to retrieve the necessary data"
      ]
    },
    {
      "cell_type": "markdown",
      "id": "0338afc2-c2a6-4e1d-8990-aad0f4df847f",
      "metadata": {
        "id": "0338afc2-c2a6-4e1d-8990-aad0f4df847f"
      },
      "source": [
        "### Retrieve a pre-defined set of queries, a GraphDefinition"
      ]
    },
    {
      "cell_type": "code",
      "execution_count": null,
      "id": "7f8ede19-c7aa-448f-b535-8329558ae7c7",
      "metadata": {
        "colab": {
          "base_uri": "https://localhost:8080/"
        },
        "id": "7f8ede19-c7aa-448f-b535-8329558ae7c7",
        "outputId": "0a8f99fe-242e-4e24-f9c7-13039b8c5c29",
        "tags": []
      },
      "outputs": [
        {
          "name": "stdout",
          "output_type": "stream",
          "text": [
            "--2025-03-05 06:05:15--  https://raw.githubusercontent.com/FHIR-Aggregator/fhir-query/refs/heads/main/graph-definitions/R5/ResearchStudyGraph.yaml\n",
            "Resolving raw.githubusercontent.com (raw.githubusercontent.com)... 185.199.108.133, 185.199.109.133, 185.199.110.133, ...\n",
            "Connecting to raw.githubusercontent.com (raw.githubusercontent.com)|185.199.108.133|:443... connected.\n",
            "HTTP request sent, awaiting response... 200 OK\n",
            "Length: 1840 (1.8K) [text/plain]\n",
            "Saving to: ‘ResearchStudyGraph.yaml’\n",
            "\n",
            "ResearchStudyGraph. 100%[===================>]   1.80K  --.-KB/s    in 0s      \n",
            "\n",
            "2025-03-05 06:05:15 (33.1 MB/s) - ‘ResearchStudyGraph.yaml’ saved [1840/1840]\n",
            "\n"
          ]
        }
      ],
      "source": [
        "!wget https://raw.githubusercontent.com/FHIR-Aggregator/fhir-query/refs/heads/main/graph-definitions/R5/ResearchStudyGraph.yaml"
      ]
    },
    {
      "cell_type": "markdown",
      "id": "17ec84c3-9065-47b7-9ace-1c4d93684565",
      "metadata": {
        "id": "17ec84c3-9065-47b7-9ace-1c4d93684565"
      },
      "source": [
        "### Export TCGA-BRCA data to a local database"
      ]
    },
    {
      "cell_type": "code",
      "execution_count": null,
      "id": "5e5a3d5d-79f4-433e-9531-97e70eea1891",
      "metadata": {
        "colab": {
          "base_uri": "https://localhost:8080/"
        },
        "id": "5e5a3d5d-79f4-433e-9531-97e70eea1891",
        "outputId": "c6544370-e223-47c7-a393-ce32710962fb",
        "tags": []
      },
      "outputs": [
        {
          "name": "stdout",
          "output_type": "stream",
          "text": [
            "env: FHIR_BASE=https://google-fhir.test-fhir-aggregator.org\n",
            "research-study-graph is valid FHIR R5 GraphDefinition\n",
            "\u001b[0m\u001b[K\u001b[0m\u001b[?25h\u001b[0m\u001b[34mℹ\u001b[39m Fetching https://google-fhir.test-fhir-aggregator.org/ResearchStudy?identifier=TCGA-BRCA\n",
            "\u001b[0m\u001b[K\u001b[0m\u001b[?25h\u001b[0m\u001b[34mℹ\u001b[39m Processing ResearchStudy with 1 resources\n",
            "\u001b[0m\u001b[K\u001b[0m\u001b[?25h\u001b[0m\u001b[34mℹ\u001b[39m Processing 11 links for ResearchStudy in parallel.\n",
            "\u001b[0m\u001b[K\u001b[0m\u001b[?25h\u001b[0m\u001b[34mℹ\u001b[39m Processing link: ResearchSubject/study={path} with 1 ResearchStudy(s)\n",
            "\u001b[0m\u001b[K\u001b[0m\u001b[?25h\u001b[0m\u001b[34mℹ\u001b[39m Processing link: Group/part-of-study={path}&_count=1000&_total=accurate with 1 ResearchStudy(s)\n",
            "\u001b[0m\u001b[K\u001b[0m\u001b[?25h\u001b[0m\u001b[34mℹ\u001b[39m Processing link: Patient/part-of-study={path}&_count=1000&_total=accurate with 1 ResearchStudy(s)\n",
            "\u001b[0m\u001b[K\u001b[0m\u001b[?25h\u001b[0m\u001b[34mℹ\u001b[39m Processing link: Specimen/part-of-study={path}&_count=1000&_total=accurate with 1 ResearchStudy(s)\n",
            "\u001b[0m\u001b[K\u001b[0m\u001b[?25h\u001b[0m\u001b[34mℹ\u001b[39m Processing link: Observation/part-of-study={path}&_count=1000&_total=accurate with 1 ResearchStudy(s)\n",
            "\u001b[0m\u001b[K\u001b[0m\u001b[?25h\u001b[0m\u001b[34mℹ\u001b[39m Processing link: Procedure/part-of-study={path}&_count=1000&_total=accurate with 1 ResearchStudy(s)\n",
            "\u001b[0m\u001b[K\u001b[0m\u001b[?25h\u001b[0m\u001b[34mℹ\u001b[39m Processing link: DocumentReference/part-of-study={path}&_count=1000&_total=accurate with 1 ResearchStudy(s)\n",
            "\u001b[0m\u001b[K\u001b[0m\u001b[?25h\u001b[0m\u001b[34mℹ\u001b[39m Processing link: ServiceRequest/part-of-study={path}&_count=1000&_total=accurate with 1 ResearchStudy(s)\n",
            "\u001b[0m\u001b[K\u001b[0m\u001b[?25h\u001b[0m\u001b[34mℹ\u001b[39m Processing link: ImagingStudy/part-of-study={path}&_count=1000&_total=accurate with 1 ResearchStudy(s)\n",
            "\u001b[0m\u001b[K\u001b[0m\u001b[?25h\u001b[0m\u001b[34mℹ\u001b[39m Processing link: Condition/part-of-study={path}&_count=1000&_total=accurate with 1 ResearchStudy(s)\n",
            "\u001b[0m\u001b[K\u001b[0m\u001b[?25h\u001b[0m\u001b[34mℹ\u001b[39m Processing link: MedicationAdministration/part-of-study={path}&_count=1000&_total=accurate with 1 ResearchStudy(s)\n",
            "\u001b[0m\u001b[K\u001b[0m\u001b[?25h\u001b[0m\u001b[32m✔\u001b[39m Processed link: Group/part-of-study={path}&_count=1000&_total=accurate\n",
            "\u001b[0m\u001b[K\u001b[0m\u001b[?25h\u001b[0m\u001b[32m✔\u001b[39m Processed link: Patient/part-of-study={path}&_count=1000&_total=accurate\n",
            "\u001b[0m\u001b[K\u001b[0m\u001b[?25h\u001b[0m\u001b[32m✔\u001b[39m Processed link: Condition/part-of-study={path}&_count=1000&_total=accurate\n",
            "\u001b[0m\u001b[K\u001b[0m\u001b[?25h\u001b[0m\u001b[32m✔\u001b[39m Processed link: ImagingStudy/part-of-study={path}&_count=1000&_total=accurate\n",
            "\u001b[0m\u001b[K\u001b[0m\u001b[?25h\u001b[0m\u001b[32m✔\u001b[39m Processed link: Procedure/part-of-study={path}&_count=1000&_total=accurate\n",
            "\u001b[0m\u001b[K\u001b[0m\u001b[?25h\u001b[0m\u001b[32m✔\u001b[39m Processed link: MedicationAdministration/part-of-study={path}&_count=1000&_total=accurate\n",
            "\u001b[0m\u001b[K\u001b[0m\u001b[?25h\u001b[0m\u001b[34mℹ\u001b[39m Fetching ResearchSubject page 10 of 10\n",
            "\u001b[0m\u001b[K\u001b[0m\u001b[?25h\u001b[0m\u001b[32m✔\u001b[39m Processed link: ResearchSubject/study={path}\n",
            "\u001b[0m\u001b[K\u001b[0m\u001b[?25h\u001b[0m\u001b[34mℹ\u001b[39m Fetching Specimen page 10 of 31\n",
            "\u001b[0m\u001b[K\u001b[0m\u001b[?25h\u001b[0m\u001b[34mℹ\u001b[39m Fetching ServiceRequest page 10 of 64\n",
            "\u001b[0m\u001b[K\u001b[0m\u001b[?25h\u001b[0m\u001b[34mℹ\u001b[39m Fetching DocumentReference page 10 of 68\n",
            "\u001b[0m\u001b[K\u001b[0m\u001b[?25h\u001b[0m\u001b[34mℹ\u001b[39m Fetching Observation page 10 of 56\n",
            "\u001b[0m\u001b[K\u001b[0m\u001b[?25h\u001b[0m\u001b[34mℹ\u001b[39m Fetching Specimen page 20 of 31\n",
            "\u001b[0m\u001b[K\u001b[0m\u001b[?25h\u001b[0m\u001b[34mℹ\u001b[39m Fetching ServiceRequest page 20 of 64\n",
            "\u001b[0m\u001b[K\u001b[0m\u001b[?25h\u001b[0m\u001b[34mℹ\u001b[39m Fetching ServiceRequest page 30 of 64\n",
            "\u001b[0m\u001b[K\u001b[0m\u001b[?25h\u001b[0m\u001b[34mℹ\u001b[39m Fetching Specimen page 30 of 31\n",
            "\u001b[0m\u001b[K\u001b[0m\u001b[?25h\u001b[0m\u001b[34mℹ\u001b[39m Fetching Observation page 20 of 56\n",
            "\u001b[0m\u001b[K\u001b[0m\u001b[?25h\u001b[0m\u001b[34mℹ\u001b[39m Fetching DocumentReference page 20 of 68\n",
            "\u001b[0m\u001b[K\u001b[0m\u001b[?25h\u001b[0m\u001b[32m✔\u001b[39m Processed link: Specimen/part-of-study={path}&_count=1000&_total=accurate\n",
            "\u001b[0m\u001b[K\u001b[0m\u001b[?25h\u001b[0m\u001b[34mℹ\u001b[39m Fetching ServiceRequest page 40 of 64\n",
            "\u001b[0m\u001b[K\u001b[0m\u001b[?25h\u001b[0m\u001b[34mℹ\u001b[39m Fetching DocumentReference page 30 of 68\n",
            "\u001b[0m\u001b[K\u001b[0m\u001b[?25h\u001b[0m\u001b[34mℹ\u001b[39m Fetching Observation page 30 of 56\n",
            "\u001b[0m\u001b[K\u001b[0m\u001b[?25h\u001b[0m\u001b[34mℹ\u001b[39m Fetching ServiceRequest page 50 of 64\n",
            "\u001b[0m\u001b[K\u001b[0m\u001b[?25h\u001b[0m\u001b[34mℹ\u001b[39m Fetching ServiceRequest page 60 of 64\n",
            "\u001b[0m\u001b[K\u001b[0m\u001b[?25h\u001b[0m\u001b[32m✔\u001b[39m Processed link: ServiceRequest/part-of-study={path}&_count=1000&_total=accurate\n",
            "\u001b[0m\u001b[K\u001b[0m\u001b[?25h\u001b[0m\u001b[34mℹ\u001b[39m Fetching DocumentReference page 40 of 68\n",
            "\u001b[0m\u001b[K\u001b[0m\u001b[?25h\u001b[0m\u001b[34mℹ\u001b[39m Fetching Observation page 40 of 56\n",
            "\u001b[0m\u001b[K\u001b[0m\u001b[?25h\u001b[0m\u001b[34mℹ\u001b[39m Fetching DocumentReference page 50 of 68\n",
            "\u001b[0m\u001b[K\u001b[0m\u001b[?25h\u001b[0m\u001b[34mℹ\u001b[39m Fetching Observation page 50 of 56\n",
            "\u001b[0m\u001b[K\u001b[0m\u001b[?25h\u001b[0m\u001b[32m✔\u001b[39m Processed link: Observation/part-of-study={path}&_count=1000&_total=accurate\n",
            "\u001b[0m\u001b[K\u001b[0m\u001b[?25h\u001b[0m\u001b[34mℹ\u001b[39m Fetching DocumentReference page 60 of 68\n",
            "\u001b[0m\u001b[K\u001b[0m\u001b[?25h\u001b[0m\u001b[32m✔\u001b[39m Processed link: DocumentReference/part-of-study={path}&_count=1000&_total=accurate\n",
            "\u001b[0m\u001b[K\u001b[0m\u001b[?25h\u001b[0m\u001b[34mℹ\u001b[39m Processing MedicationAdministration with 1 resources\n",
            "\u001b[0m\u001b[K\u001b[0m\u001b[?25h\u001b[0m\u001b[34mℹ\u001b[39m Processing 1 links for MedicationAdministration in parallel.\n",
            "\u001b[0m\u001b[K\u001b[0m\u001b[?25h\u001b[0m\u001b[31m✖\u001b[39m Could not find any resources for MedicationAdministration->Medication link: {'params': '_id={path}&_count=1000&_total=accurate', 'path': 'MedicationAdministration.medication.reference.reference', 'sourceId': 'MedicationAdministration', 'targetId': 'Medication'}\n",
            "\u001b[0m\u001b[K\u001b[0m\u001b[?25h\u001b[0mAggregated Results: {'Condition': 1191, 'DocumentReference': 68962, 'Group': 19, 'ImagingStudy': 3171, 'MedicationAdministration': 5879, 'Observation': 56136, 'Patient': 1098, 'Procedure': 3397, 'ResearchStudy': 1, 'ResearchSubject': 1098, 'ServiceRequest': 64655, 'Specimen': 31984}\n",
            "\u001b[0mdatabase available at: /tmp/fhir-graph.sqlite\n",
            "\u001b[0m\u001b[K\u001b[0m\u001b[?25h\u001b[0m\u001b[0m"
          ]
        }
      ],
      "source": [
        "%env  FHIR_BASE=https://google-fhir.test-fhir-aggregator.org\n",
        "# export a study using a set of stored queries\n",
        "!fq --fhir-base-url $FHIR_BASE  --graph-definition-file-path  ResearchStudyGraph.yaml  --path '/ResearchStudy?identifier=TCGA-BRCA'"
      ]
    },
    {
      "cell_type": "markdown",
      "id": "bd07f374-a9ee-40dd-a4ac-0a31310ad6d6",
      "metadata": {
        "id": "bd07f374-a9ee-40dd-a4ac-0a31310ad6d6"
      },
      "source": [
        "### Create a tsv file from the extracted data"
      ]
    },
    {
      "cell_type": "code",
      "execution_count": null,
      "id": "9be0a983-c0c7-44e6-9cfa-363529fcc136",
      "metadata": {
        "colab": {
          "base_uri": "https://localhost:8080/"
        },
        "id": "9be0a983-c0c7-44e6-9cfa-363529fcc136",
        "outputId": "f4b80d06-2ce9-4980-e1f5-9fba1a5785bf",
        "tags": []
      },
      "outputs": [
        {
          "name": "stdout",
          "output_type": "stream",
          "text": [
            "Saved /tmp/fhir-graph.tsv\u001b[0m\n",
            "\u001b[0m\u001b[0m"
          ]
        }
      ],
      "source": [
        "!fq dataframe"
      ]
    },
    {
      "cell_type": "markdown",
      "id": "e455665b-5d1c-4eff-8a4c-7f29f1c22d4a",
      "metadata": {
        "id": "e455665b-5d1c-4eff-8a4c-7f29f1c22d4a",
        "tags": []
      },
      "source": [
        "## Surviving analysis\n",
        "\n",
        "After retrieveing the data, we then use the python library lifelines to plor Kaplan-Meier plots of two groups (white and african american) of Breat cancer patients that are 50 years old or younger."
      ]
    },
    {
      "cell_type": "code",
      "execution_count": null,
      "id": "2c26009f-6494-4b6a-b4bf-39d2675d472b",
      "metadata": {
        "colab": {
          "base_uri": "https://localhost:8080/"
        },
        "id": "2c26009f-6494-4b6a-b4bf-39d2675d472b",
        "outputId": "6d79e84e-3043-4dd7-b583-1213f55b8b77",
        "tags": []
      },
      "outputs": [
        {
          "name": "stderr",
          "output_type": "stream",
          "text": [
            "<ipython-input-6-82172718ba18>:9: DtypeWarning: Columns (7) have mixed types. Specify dtype option on import or set low_memory=False.\n",
            "  df = pd.read_csv('/tmp/fhir-graph.tsv')\n"
          ]
        }
      ],
      "source": [
        "import pandas as pd\n",
        "import numpy as np\n",
        "import matplotlib.pyplot as plt\n",
        "from lifelines import KaplanMeierFitter\n",
        "kmf = KaplanMeierFitter()\n",
        "\n",
        "\n",
        "# read the data into a dataframe\n",
        "df = pd.read_csv('/tmp/fhir-graph.tsv')\n",
        "\n",
        "# get days to death data in the necessary formay\n",
        "df['days_to_death'] = (\n",
        "    df['patient_observation_days_between_diagnosis_and_death']\n",
        "    .str.replace(' days', '', regex=False)\n",
        "    .replace('', np.nan)\n",
        "    .astype(float)\n",
        ")\n",
        "# get age data in the necessary format\n",
        "df['age_at_diagnosis'] = (\n",
        "    df['patient_observation_days_between_birth_and_diagnosis']\n",
        "    .str.replace(' days', '', regex=False)\n",
        "    .replace('', np.nan)\n",
        "    .astype(float)\n",
        ")\n",
        "\n",
        "# group by patient_id\n",
        "df_unique = df.drop_duplicates(subset=['patient_id'])"
      ]
    },
    {
      "cell_type": "markdown",
      "id": "9bff07b0-f59d-4d69-9921-5fc61d8d7417",
      "metadata": {
        "id": "9bff07b0-f59d-4d69-9921-5fc61d8d7417"
      },
      "source": [
        "Select Breast cancer patients that are white, african american, and 50 years old or younger."
      ]
    },
    {
      "cell_type": "code",
      "execution_count": null,
      "id": "d82cc303-589e-478f-af4c-a9781f4e28d6",
      "metadata": {
        "id": "d82cc303-589e-478f-af4c-a9781f4e28d6",
        "tags": []
      },
      "outputs": [],
      "source": [
        "df_cohort = df_unique[ (df_unique['age_at_diagnosis'] >= -50*365 )\n",
        "                      & (df_unique['patient_us_core_race'].isin(['black or african american','white']) )\n",
        "                      & (df_unique['patient_us_core_ethnicity'] == 'not hispanic or latino')   ]\n"
      ]
    },
    {
      "cell_type": "markdown",
      "id": "607c4aa2-1eb3-4bca-8f3a-ecac8220f161",
      "metadata": {
        "id": "607c4aa2-1eb3-4bca-8f3a-ecac8220f161"
      },
      "source": [
        "Get the necessary data for [`lifelines` package](lifelines.readthedocs.io)."
      ]
    },
    {
      "cell_type": "code",
      "execution_count": null,
      "id": "f48b14dc-56e0-449f-92a0-4a33d1fbe4d3",
      "metadata": {
        "id": "f48b14dc-56e0-449f-92a0-4a33d1fbe4d3",
        "tags": []
      },
      "outputs": [],
      "source": [
        "# Fill in NAs in days_to_death with the max from the days to death\n",
        "T = df_cohort['days_to_death'].fillna(df_cohort['days_to_death'].max())\n",
        "\n",
        "# Convert the vital status to numbers\n",
        "E = df_cohort['patient_deceasedBoolean'].astype(bool)"
      ]
    },
    {
      "cell_type": "markdown",
      "id": "3a8b3048-653c-40d5-98c4-3ba11c814a89",
      "metadata": {
        "id": "3a8b3048-653c-40d5-98c4-3ba11c814a89",
        "tags": []
      },
      "source": [
        "Plot the survivial curves"
      ]
    },
    {
      "cell_type": "code",
      "execution_count": null,
      "id": "da61dc07-f6d4-464e-8908-fe4a5277c7ce",
      "metadata": {
        "colab": {
          "base_uri": "https://localhost:8080/",
          "height": 592
        },
        "id": "da61dc07-f6d4-464e-8908-fe4a5277c7ce",
        "outputId": "5a0e7f51-84ff-4494-d113-359786bf4f09",
        "tags": []
      },
      "outputs": [
        {
          "data": {
            "text/plain": [
              "Text(0.5, 0, 'Days')"
            ]
          },
          "execution_count": 9,
          "metadata": {},
          "output_type": "execute_result"
        },
        {
          "data": {
            "image/png": "[encoded data removed]",
            "text/plain": [
              "<Figure size 1040x640 with 1 Axes>"
            ]
          },
          "metadata": {},
          "output_type": "display_data"
        }
      ],
      "source": [
        "\n",
        "fig=plt.figure(figsize=(13, 8), dpi= 80)\n",
        "#plt.style.use('seaborn-colorblind')\n",
        "ax = plt.subplot(111,\n",
        "                 title = \"Survival Curve\")\n",
        "\n",
        "for r in  df_cohort['patient_us_core_race'].sort_values().unique() :\n",
        "  if (r != None):\n",
        "    cohort = df_cohort['patient_us_core_race'] == r\n",
        "    kmf.fit(T.loc[cohort], E.loc[cohort], label=r)\n",
        "    kmf.plot(ax=ax, )\n",
        "  else:\n",
        "    print(\"\")\n",
        "\n",
        "ax.set_ylabel(\"Percent Survival\")\n",
        "ax.set_xlabel(\"Days\")"
      ]
    }
  ],
  "metadata": {
    "colab": {
      "provenance": []
    },
    "environment": {
      "kernel": "conda-base-py",
      "name": "workbench-notebooks.m128",
      "type": "gcloud",
      "uri": "us-docker.pkg.dev/deeplearning-platform-release/gcr.io/workbench-notebooks:m128"
    },
    "kernelspec": {
      "display_name": "cdapython",
      "language": "python",
      "name": "python3"
    },
    "language_info": {
      "codemirror_mode": {
        "name": "ipython",
        "version": 3
      },
      "file_extension": ".py",
      "mimetype": "text/x-python",
      "name": "python",
      "nbconvert_exporter": "python",
      "pygments_lexer": "ipython3",
      "version": "3.13.1"
    }
  },
  "nbformat": 4,
  "nbformat_minor": 5
}
